{
 "cells": [
  {
   "cell_type": "code",
   "execution_count": null,
   "id": "7e675085-5363-4afd-9eed-e24e77781803",
   "metadata": {},
   "outputs": [],
   "source": [
    "import numpy as np\n",
    "import pandas as pd\n",
    "import matplotlib.pyplot as plt\n",
    "import seaborn as sns\n",
    "import re\n",
    "from collections import Counter\n",
    "import joblib\n",
    "\n",
    "from sklearn.naive_bayes import MultinomialNB, GaussianNB\n",
    "from sklearn.linear_model import LogisticRegression\n",
    "\n",
    "from sklearn.metrics import confusion_matrix, ConfusionMatrixDisplay, recall_score, precision_score, plot_roc_curve, roc_auc_score\n",
    "from sklearn.model_selection import train_test_split, GridSearchCV\n",
    "from sklearn.pipeline import Pipeline\n",
    "from sklearn.preprocessing import StandardScaler, FunctionTransformer, PowerTransformer\n",
    "from sklearn.metrics import confusion_matrix, ConfusionMatrixDisplay, recall_score, precision_score, f1_score\n",
    "\n",
    "from sklearn.feature_extraction.text import CountVectorizer, TfidfVectorizer\n",
    "\n",
    "from nltk.tokenize import sent_tokenize, word_tokenize, RegexpTokenizer\n",
    "from nltk.stem import WordNetLemmatizer\n",
    "from nltk.stem.porter import PorterStemmer\n",
    "from nltk.corpus import stopwords\n",
    "from nltk.sentiment.vader import SentimentIntensityAnalyzer\n",
    "\n",
    "\n",
    "import thor"
   ]
  },
  {
   "cell_type": "markdown",
   "id": "ea3c129c-80f2-4338-82d7-3590c9cc1a19",
   "metadata": {},
   "source": [
    "# The Baseline Accuracy"
   ]
  },
  {
   "cell_type": "code",
   "execution_count": null,
   "id": "db301d9e-fa51-4018-9663-edb4b5b5b5d0",
   "metadata": {},
   "outputs": [],
   "source": [
    "train = pd.read_csv('../data/total_train.csv')\n",
    "test = pd.read_csv('../data/total_test.csv')\n",
    "\n",
    "X = train.drop(columns='class')['title'].str.lower()\n",
    "y = train['class']"
   ]
  },
  {
   "cell_type": "code",
   "execution_count": null,
   "id": "ba38eafd-e289-4d1a-a6a1-81e849e22d19",
   "metadata": {},
   "outputs": [
    {
     "data": {
      "text/plain": [
       "((80620, 3), (8958, 3))"
      ]
     },
     "execution_count": 4,
     "metadata": {},
     "output_type": "execute_result"
    }
   ],
   "source": [
    "train.shape, test.shape"
   ]
  },
  {
   "cell_type": "code",
   "execution_count": null,
   "id": "0770560c-9e1e-466a-b487-89cb6628e461",
   "metadata": {},
   "outputs": [],
   "source": [
    "X_train, X_test, y_train, y_test = train_test_split(X, y, stratify=y, test_size=0.1, random_state=42) "
   ]
  },
  {
   "cell_type": "code",
   "execution_count": null,
   "id": "1b6f5c06-fed3-43b0-b5cf-8a28ff22f008",
   "metadata": {},
   "outputs": [
    {
     "data": {
      "text/plain": [
       "0    0.873356\n",
       "1    0.126644\n",
       "Name: class, dtype: float64"
      ]
     },
     "execution_count": 7,
     "metadata": {},
     "output_type": "execute_result"
    }
   ],
   "source": [
    "train.value_counts(subset='class', normalize=True)"
   ]
  },
  {
   "cell_type": "markdown",
   "id": "0f22165c-853d-45da-a11a-d471a3f7a4e9",
   "metadata": {},
   "source": [
    "<br>\n",
    "\n",
    "We have imbalanced classes: so the model can simply cheat and guess \"not ```r/TheOnion```\" every time, and still have 86.5% accuracy. This is our baseline accuracy and also indicates that accuracy is probably not the best metric to optimize for. Some alternatives metrics include:\n",
    "1. The Recall Score: how good is the model at detecting ```r/TheOnion``` headlines?\n",
    "2. The Precision Score: If the model predicts a headline is from ```r/TheOnion```, how likely is it to be correct?\n",
    "3. The $F_1$-score: combines the previous two metrics via geometric mean.\n",
    "4. The AUC (Area Under the Curve) of the ROC.\n",
    "\n",
    "\n",
    "<br>"
   ]
  },
  {
   "cell_type": "markdown",
   "id": "39bae2e1-211d-4303-b3e4-945d76e654a0",
   "metadata": {},
   "source": [
    "# Naive Bayes: A Quick Model from 2 Lines of Code\n",
    "\n",
    "To get us up and running, let's start with a quick and dirty naive Bayes classifier."
   ]
  },
  {
   "cell_type": "code",
   "execution_count": 24,
   "id": "d99b44d1-bcd2-4460-8ae1-b0d9ad487c62",
   "metadata": {},
   "outputs": [
    {
     "data": {
      "text/plain": [
       "Pipeline(steps=[('cvec', CountVectorizer(stop_words='english')),\n",
       "                ('mnb', MultinomialNB())])"
      ]
     },
     "execution_count": 24,
     "metadata": {},
     "output_type": "execute_result"
    }
   ],
   "source": [
    "bayes1 = Pipeline([\n",
    "                ('cvec', CountVectorizer(stop_words='english')),\n",
    "                ('mnb', MultinomialNB())\n",
    "            ])\n",
    "\n",
    "bayes1.fit(X_train, y_train)    "
   ]
  },
  {
   "cell_type": "code",
   "execution_count": 25,
   "id": "3a55e6e4-7a4c-4d8a-a4b0-d3b2dd567361",
   "metadata": {},
   "outputs": [
    {
     "data": {
      "text/plain": [
       "(0.9382287273629373, 0.91503349044902)"
      ]
     },
     "execution_count": 25,
     "metadata": {},
     "output_type": "execute_result"
    }
   ],
   "source": [
    "bayes1.score(X_train, y_train), bayes1.score(X_test, y_test)"
   ]
  },
  {
   "cell_type": "markdown",
   "id": "3428f6f5-1054-4aba-89ce-d5f421354215",
   "metadata": {},
   "source": [
    "<br>\n",
    "\n",
    "We achieved a 92% accuracy rate on the test set! Not bad for a model we built with only 2 lines of code! \n",
    "\n",
    "But our excitement is short-lived once we remember that the baseline accuracy is 86.5%. This means our model only had about +6% higher accuracy than just randomly guessing.\n",
    "1. On one hand, the the model is showing it's not just randomly guessing.\n",
    "2. On the other hand, it's not clear to what extent the model has actually learned something interesting.\n",
    "\n",
    "To answer the question: \"has the model found something useful?\" we will have to look at **recall** and **precision**."
   ]
  },
  {
   "cell_type": "code",
   "execution_count": 26,
   "id": "495bc7c6-a92f-4c96-832c-f6f31918c1af",
   "metadata": {},
   "outputs": [
    {
     "data": {
      "image/png": "[encoded data removed]",
      "text/plain": [
       "<Figure size 432x288 with 2 Axes>"
      ]
     },
     "metadata": {
      "needs_background": "light"
     },
     "output_type": "display_data"
    }
   ],
   "source": [
    "bayes1_preds = bayes1.predict(X_train)\n",
    "\n",
    "cm1 = confusion_matrix(y_train, bayes1_preds)\n",
    "cmd = ConfusionMatrixDisplay(cm1)\n",
    "\n",
    "cmd.from_predictions(y_train, bayes1_preds);"
   ]
  },
  {
   "cell_type": "code",
   "execution_count": 27,
   "id": "92924963-ab71-4ed0-bcf5-5dc0db1c7dd2",
   "metadata": {},
   "outputs": [
    {
     "name": "stdout",
     "output_type": "stream",
     "text": [
      "Recall:  0.7102458124864042\n",
      " \n",
      "Precision:  0.7822232870148539\n",
      " \n",
      "F1:  0.7444989168851898\n"
     ]
    }
   ],
   "source": [
    "print(\"Recall: \", recall_score(y_train, bayes1_preds))\n",
    "print(\" \")\n",
    "print(\"Precision: \", precision_score(y_train, bayes1_preds))\n",
    "print(\" \")\n",
    "print(\"F1: \", f1_score(y_train, bayes1_preds))"
   ]
  },
  {
   "cell_type": "code",
   "execution_count": 28,
   "id": "fc142c25-818c-4b16-b3fe-c5b607e3466c",
   "metadata": {},
   "outputs": [
    {
     "data": {
      "image/png": "[encoded data removed]",
      "text/plain": [
       "<Figure size 432x288 with 2 Axes>"
      ]
     },
     "metadata": {
      "needs_background": "light"
     },
     "output_type": "display_data"
    }
   ],
   "source": [
    "bayes1_preds = bayes1.predict(X_test)\n",
    "\n",
    "cm = confusion_matrix(y_test, bayes1_preds)\n",
    "cmd = ConfusionMatrixDisplay(cm)\n",
    "\n",
    "cmd.from_predictions(y_test, bayes1_preds);"
   ]
  },
  {
   "cell_type": "code",
   "execution_count": 29,
   "id": "68b462d9-b399-4b73-a188-8ddd38016208",
   "metadata": {},
   "outputs": [
    {
     "name": "stdout",
     "output_type": "stream",
     "text": [
      "Recall:  0.5269343780607247\n",
      " \n",
      "Precision:  0.727027027027027\n",
      " \n",
      "F1:  0.6110164679159569\n"
     ]
    }
   ],
   "source": [
    "print(\"Recall: \", recall_score(y_test, bayes1_preds))\n",
    "print(\" \")\n",
    "print(\"Precision: \", precision_score(y_test, bayes1_preds))\n",
    "print(\" \")\n",
    "print(\"F1: \", f1_score(y_test, bayes1_preds))"
   ]
  },
  {
   "cell_type": "code",
   "execution_count": 30,
   "id": "cc2c6190-8c40-4a99-9225-8a5b1915b7be",
   "metadata": {},
   "outputs": [
    {
     "name": "stderr",
     "output_type": "stream",
     "text": [
      "C:\\Users\\herma\\anaconda3\\lib\\site-packages\\sklearn\\utils\\deprecation.py:87: FutureWarning: Function plot_roc_curve is deprecated; Function :func:`plot_roc_curve` is deprecated in 1.0 and will be removed in 1.2. Use one of the class methods: :meth:`sklearn.metric.RocCurveDisplay.from_predictions` or :meth:`sklearn.metric.RocCurveDisplay.from_estimator`.\n",
      "  warnings.warn(msg, category=FutureWarning)\n"
     ]
    },
    {
     "data": {
      "image/png": "[encoded data removed]",
      "text/plain": [
       "<Figure size 432x288 with 1 Axes>"
      ]
     },
     "metadata": {
      "needs_background": "light"
     },
     "output_type": "display_data"
    }
   ],
   "source": [
    "plot_roc_curve(bayes1, X_test, y_test);\n",
    "\n",
    "plt.plot([0,1],[0,1], linestyle='--', color='red', label='baseline');\n",
    "\n",
    "plt.legend();"
   ]
  },
  {
   "cell_type": "code",
   "execution_count": 31,
   "id": "6411249f-a016-4260-a48d-4e25862878a5",
   "metadata": {},
   "outputs": [
    {
     "data": {
      "text/plain": [
       "0.7491226356998696"
      ]
     },
     "execution_count": 31,
     "metadata": {},
     "output_type": "execute_result"
    }
   ],
   "source": [
    "roc_auc_score(y_test, bayes1.predict(X_test))"
   ]
  },
  {
   "cell_type": "markdown",
   "id": "650f3755-dcb7-41d7-ac4c-6c7b5cbbecd3",
   "metadata": {},
   "source": [
    "<br>\n",
    "\n",
    "All things considered, things the results are actually pretty decent considering how little we actually did to build this model.\n",
    "\n",
    "<br>"
   ]
  },
  {
   "cell_type": "markdown",
   "id": "83049d24-ccf4-4c0c-b38e-dacdfbc6c1b9",
   "metadata": {},
   "source": [
    "---\n",
    "\n",
    "# Naive Bayes Redux\n",
    "\n",
    "We can attempt to improve upon the simple naive Bayes model from before by analyizing some of the mis-classified posts."
   ]
  },
  {
   "cell_type": "code",
   "execution_count": 32,
   "id": "8470e47d-9cac-47ec-9282-58f644c5f8da",
   "metadata": {},
   "outputs": [],
   "source": [
    "train_false_negs = X_train[ (y_train==1) & (bayes1.predict(X_train)==0)]"
   ]
  },
  {
   "cell_type": "code",
   "execution_count": 33,
   "id": "2257d29d-7025-41f8-b5a2-b55a5d0e081a",
   "metadata": {},
   "outputs": [
    {
     "data": {
      "text/plain": [
       "27594    global economy expected to shrink 3% due to pa...\n",
       "53936                          what a timeline we live in?\n",
       "18625    excitement shifts to concern after coworker br...\n",
       "51218    campus tour guide reminds students at each sto...\n",
       "8280          dead teenager remembered for great hand jobs\n",
       "                               ...                        \n",
       "14720    andrew yang developing new fourth party after ...\n",
       "24762                                          budget cuts\n",
       "52473    quentin tarantino has son in latest homage to ...\n",
       "22800    apple fans demand other products they can feel...\n",
       "68918    5 reasons why it would be a mistake for the de...\n",
       "Name: title, Length: 2664, dtype: object"
      ]
     },
     "execution_count": 33,
     "metadata": {},
     "output_type": "execute_result"
    }
   ],
   "source": [
    "train_false_negs"
   ]
  },
  {
   "cell_type": "code",
   "execution_count": 34,
   "id": "b2a5884d-658f-4523-9020-99f13f497814",
   "metadata": {},
   "outputs": [],
   "source": [
    "cvec = CountVectorizer(stop_words='english')\n",
    "\n",
    "fn_sparse = cvec.fit_transform(train_false_negs)\n",
    "\n",
    "false_negs_df = pd.DataFrame(fn_sparse.todense(), columns = cvec.get_feature_names_out())"
   ]
  },
  {
   "cell_type": "code",
   "execution_count": 35,
   "id": "be52cdda-da86-4136-bb53-6b1e79b45b07",
   "metadata": {},
   "outputs": [
    {
     "data": {
      "text/plain": [
       "new          170\n",
       "trump        137\n",
       "man          105\n",
       "year          81\n",
       "news          70\n",
       "000           62\n",
       "report        59\n",
       "video         59\n",
       "world         56\n",
       "time          55\n",
       "biden         53\n",
       "announces     52\n",
       "life          51\n",
       "old           49\n",
       "people        49\n",
       "police        48\n",
       "woman         46\n",
       "know          44\n",
       "day           43\n",
       "just          42\n",
       "dtype: int64"
      ]
     },
     "execution_count": 35,
     "metadata": {},
     "output_type": "execute_result"
    }
   ],
   "source": [
    "false_negs_df.sum().sort_values(ascending=False)[0:20]"
   ]
  },
  {
   "cell_type": "markdown",
   "id": "0815c6f6-809a-4e75-b2f5-85592711ee52",
   "metadata": {},
   "source": [
    "- The word \"new\" appears a lot in the false negatives, indicating headlines such as \"new medicine cures...\" or \"new messages reveal...\" are tricking the naive Bayes model into thinking they are actual headlines. This isn't surprising since headlines from ```r/TheOnion``` are designed to use common news-type words.\n",
    "- \"Trump\" is the second most common term in the false negatives and \"Biden\" also makes an appearance in the top 20. This indicates that political headlines might be giving the model difficulty."
   ]
  },
  {
   "cell_type": "code",
   "execution_count": 36,
   "id": "399c259c-8c0e-4789-87f8-65c17e8017ab",
   "metadata": {},
   "outputs": [
    {
     "data": {
      "text/plain": [
       "new          42\n",
       "trump        22\n",
       "man          22\n",
       "year         17\n",
       "life         14\n",
       "news         12\n",
       "old          12\n",
       "home         11\n",
       "report       11\n",
       "time         11\n",
       "house        10\n",
       "video        10\n",
       "tips         10\n",
       "big           9\n",
       "day           9\n",
       "school        9\n",
       "000           9\n",
       "americans     9\n",
       "way           9\n",
       "facebook      8\n",
       "dtype: int64"
      ]
     },
     "execution_count": 36,
     "metadata": {},
     "output_type": "execute_result"
    }
   ],
   "source": [
    "test_false_negs = X_test[ (y_test==1) & (bayes1.predict(X_test)==0)]\n",
    "\n",
    "fn_sparse = cvec.fit_transform(test_false_negs)\n",
    "\n",
    "false_negs_df = pd.DataFrame(fn_sparse.todense(), columns = cvec.get_feature_names_out())\n",
    "\n",
    "false_negs_df.sum().sort_values(ascending=False)[0:20]"
   ]
  },
  {
   "cell_type": "markdown",
   "id": "3dad747c-d47c-44a0-85de-c71ce3e885b0",
   "metadata": {},
   "source": [
    "- The word frequencies in the test set false negatives also follow pretty closely as the training set. This indicates that optimizing on the training set would likely help with the false negative headlines on the training set as well."
   ]
  },
  {
   "cell_type": "code",
   "execution_count": 37,
   "id": "513c4db4-5a89-4c61-ada0-aec607d82599",
   "metadata": {},
   "outputs": [],
   "source": [
    "pipe2 = Pipeline([\n",
    "            ('cvec', CountVectorizer()),\n",
    "            ('mnb', MultinomialNB())\n",
    "        ])\n",
    "\n",
    "bayes2_params = {\n",
    "                    'cvec__ngram_range':[(1,2),(1,3),(1,4),(1,5)],\n",
    "                    'cvec__min_df':[1, 2],\n",
    "                    'cvec__max_df':[0.2, 0.25, 0.3, 0.4, 0.5],\n",
    "                    'cvec__binary':[True,False]\n",
    "                }"
   ]
  },
  {
   "cell_type": "code",
   "execution_count": 38,
   "id": "177dd10e-8372-486c-9e93-5e0a24622200",
   "metadata": {},
   "outputs": [],
   "source": [
    "#bayes2 = GridSearchCV(pipe2, bayes2_params, cv=5, n_jobs=8)\n",
    "\n",
    "#bayes2.fit(X_train, y_train)\n",
    "\n",
    "#joblib.dump(bayes2, '../models/mnbayes2.pkl')\n",
    "\n",
    "bayes2 = joblib.load('../models/mnbayes2.pkl')"
   ]
  },
  {
   "cell_type": "code",
   "execution_count": 39,
   "id": "d546486f-2da2-45fd-89dc-030d16769d52",
   "metadata": {},
   "outputs": [
    {
     "data": {
      "text/plain": [
       "(0.9479037459687423, 0.9455470106673282)"
      ]
     },
     "execution_count": 39,
     "metadata": {},
     "output_type": "execute_result"
    }
   ],
   "source": [
    "bayes2.score(X_train, y_train), bayes2.score(X_test, y_test)"
   ]
  },
  {
   "cell_type": "code",
   "execution_count": 40,
   "id": "8ac3d9f6-4397-45f3-9aa3-c115eb0edbd0",
   "metadata": {},
   "outputs": [
    {
     "data": {
      "text/plain": [
       "{'cvec__binary': True,\n",
       " 'cvec__max_df': 0.25,\n",
       " 'cvec__min_df': 2,\n",
       " 'cvec__ngram_range': (1, 5)}"
      ]
     },
     "execution_count": 40,
     "metadata": {},
     "output_type": "execute_result"
    }
   ],
   "source": [
    "bayes2.best_params_"
   ]
  },
  {
   "cell_type": "code",
   "execution_count": 41,
   "id": "9aeab546-6e39-445b-a767-615a790f2ede",
   "metadata": {},
   "outputs": [
    {
     "data": {
      "image/png": "[encoded data removed]",
      "text/plain": [
       "<Figure size 432x288 with 2 Axes>"
      ]
     },
     "metadata": {
      "needs_background": "light"
     },
     "output_type": "display_data"
    }
   ],
   "source": [
    "bayes2_preds = bayes2.predict(X_test)\n",
    "\n",
    "cm2 = confusion_matrix(y_test, bayes2_preds)\n",
    "\n",
    "cmd.from_predictions(y_test, bayes2_preds);"
   ]
  },
  {
   "cell_type": "code",
   "execution_count": 42,
   "id": "f31c4e97-22ff-4fad-81de-4d9af2174c31",
   "metadata": {},
   "outputs": [
    {
     "name": "stdout",
     "output_type": "stream",
     "text": [
      "Recall:  0.7864838393731636\n",
      " \n",
      "Precision:  0.7841796875\n",
      " \n",
      "F1:  0.7853300733496332\n"
     ]
    }
   ],
   "source": [
    "print(\"Recall: \", recall_score(y_test, bayes2_preds))\n",
    "print(\" \")\n",
    "print(\"Precision: \", precision_score(y_test, bayes2_preds))\n",
    "print(\" \")\n",
    "print(\"F1: \", f1_score(y_test, bayes2_preds))"
   ]
  },
  {
   "cell_type": "code",
   "execution_count": 43,
   "id": "db1118eb-e0b5-477b-b202-7047ae2ca85b",
   "metadata": {},
   "outputs": [
    {
     "name": "stderr",
     "output_type": "stream",
     "text": [
      "C:\\Users\\herma\\anaconda3\\lib\\site-packages\\sklearn\\utils\\deprecation.py:87: FutureWarning: Function plot_roc_curve is deprecated; Function :func:`plot_roc_curve` is deprecated in 1.0 and will be removed in 1.2. Use one of the class methods: :meth:`sklearn.metric.RocCurveDisplay.from_predictions` or :meth:`sklearn.metric.RocCurveDisplay.from_estimator`.\n",
      "  warnings.warn(msg, category=FutureWarning)\n"
     ]
    },
    {
     "data": {
      "image/png": "[encoded data removed]",
      "text/plain": [
       "<Figure size 432x288 with 1 Axes>"
      ]
     },
     "metadata": {
      "needs_background": "light"
     },
     "output_type": "display_data"
    }
   ],
   "source": [
    "plot_roc_curve(bayes2, X_test, y_test);\n",
    "\n",
    "plt.plot([0,1],[0,1],linestyle='--', color='red', label='baseline');\n",
    "\n",
    "plt.legend();"
   ]
  },
  {
   "cell_type": "markdown",
   "id": "0096a52b-7939-4333-a33b-9b94b4437599",
   "metadata": {},
   "source": [
    "---\n",
    "\n",
    "# Naive Bayes with TF-IDF"
   ]
  },
  {
   "cell_type": "code",
   "execution_count": 44,
   "id": "7a0ecf49-c8bf-4c05-b834-6a57847738b2",
   "metadata": {},
   "outputs": [],
   "source": [
    "pipe3 = Pipeline([\n",
    "                    ('tf', TfidfVectorizer()),\n",
    "                    ('gnb', MultinomialNB())\n",
    "                ])\n",
    "\n",
    "\n",
    "bayes3_params = {\n",
    "                    'tf__ngram_range':[(1,2), (1,3), (1,4), (1,5), (2,5)],\n",
    "                    'tf__max_df': [0.25, 0.3, 0.4, 0.5],\n",
    "                    'tf__min_df': [1, 2],\n",
    "                    'tf__binary': [True, False],\n",
    "                }"
   ]
  },
  {
   "cell_type": "code",
   "execution_count": 45,
   "id": "87af39c0-580e-4c52-9f73-820ebceaef00",
   "metadata": {},
   "outputs": [],
   "source": [
    "#bayes3 = GridSearchCV(pipe3, bayes3_params, cv=5, n_jobs=6)\n",
    "\n",
    "#bayes3.fit(X_train, y_train)\n",
    "\n",
    "#joblib.dump(bayes3, '../models/mnbayes3.pkl')\n",
    "\n",
    "bayes3 = joblib.load('../models/mnbayes3.pkl')"
   ]
  },
  {
   "cell_type": "code",
   "execution_count": 46,
   "id": "bb185310-c4ce-46a4-833c-d7946ae58682",
   "metadata": {},
   "outputs": [
    {
     "data": {
      "text/plain": [
       "(0.9097136084236059, 0.9052344331431407)"
      ]
     },
     "execution_count": 46,
     "metadata": {},
     "output_type": "execute_result"
    }
   ],
   "source": [
    "bayes3.score(X_train, y_train), bayes3.score(X_test, y_test)"
   ]
  },
  {
   "cell_type": "code",
   "execution_count": 47,
   "id": "271f92cd-f251-4952-a58e-8a54d05510ab",
   "metadata": {},
   "outputs": [
    {
     "data": {
      "text/plain": [
       "{'tf__binary': True,\n",
       " 'tf__max_df': 0.25,\n",
       " 'tf__min_df': 2,\n",
       " 'tf__ngram_range': (2, 5)}"
      ]
     },
     "execution_count": 47,
     "metadata": {},
     "output_type": "execute_result"
    }
   ],
   "source": [
    "bayes3.best_params_"
   ]
  },
  {
   "cell_type": "code",
   "execution_count": 48,
   "id": "8b576656-c073-4b3d-836a-5d90094b08e9",
   "metadata": {},
   "outputs": [
    {
     "data": {
      "image/png": "[encoded data removed]",
      "text/plain": [
       "<Figure size 432x288 with 2 Axes>"
      ]
     },
     "metadata": {
      "needs_background": "light"
     },
     "output_type": "display_data"
    }
   ],
   "source": [
    "bayes3_preds = bayes3.predict(X_test)\n",
    "\n",
    "cm3 = confusion_matrix(y_test, bayes3_preds)\n",
    "\n",
    "cmd.from_predictions(y_test, bayes3_preds);"
   ]
  },
  {
   "cell_type": "code",
   "execution_count": 49,
   "id": "b0704855-fe0c-45c2-a97c-f300f24ea747",
   "metadata": {},
   "outputs": [
    {
     "name": "stdout",
     "output_type": "stream",
     "text": [
      "Recall:  0.2556317335945152\n",
      " \n",
      "Precision:  0.9849056603773585\n",
      " \n",
      "F1:  0.4059097978227061\n"
     ]
    }
   ],
   "source": [
    "print(\"Recall: \", recall_score(y_test, bayes3_preds))\n",
    "print(\" \")\n",
    "print(\"Precision: \", precision_score(y_test, bayes3_preds))\n",
    "print(\" \")\n",
    "print(\"F1: \", f1_score(y_test, bayes3_preds))"
   ]
  },
  {
   "cell_type": "code",
   "execution_count": 50,
   "id": "6c1df0b4-a7b4-4d19-931f-1b201ef81d3a",
   "metadata": {},
   "outputs": [
    {
     "name": "stderr",
     "output_type": "stream",
     "text": [
      "C:\\Users\\herma\\anaconda3\\lib\\site-packages\\sklearn\\utils\\deprecation.py:87: FutureWarning: Function plot_roc_curve is deprecated; Function :func:`plot_roc_curve` is deprecated in 1.0 and will be removed in 1.2. Use one of the class methods: :meth:`sklearn.metric.RocCurveDisplay.from_predictions` or :meth:`sklearn.metric.RocCurveDisplay.from_estimator`.\n",
      "  warnings.warn(msg, category=FutureWarning)\n"
     ]
    },
    {
     "data": {
      "image/png": "[encoded data removed]",
      "text/plain": [
       "<Figure size 432x288 with 1 Axes>"
      ]
     },
     "metadata": {
      "needs_background": "light"
     },
     "output_type": "display_data"
    }
   ],
   "source": [
    "plot_roc_curve(bayes3, X_test, y_test);\n",
    "\n",
    "plt.plot([0,1],[0,1],linestyle='--', color='red', label='baseline');\n",
    "\n",
    "plt.legend();"
   ]
  },
  {
   "cell_type": "markdown",
   "id": "d5119dc7-7a56-4cd6-9617-99546447c01e",
   "metadata": {},
   "source": [
    "---\n",
    "\n",
    "# Naive Bayes with Sentiment Analysis"
   ]
  },
  {
   "cell_type": "code",
   "execution_count": 51,
   "id": "9415507c-24ea-492c-a3a6-8e6df7f72b95",
   "metadata": {},
   "outputs": [],
   "source": [
    "Xsia_train = thor.vaderize(X_train)\n",
    "Xsia_test = thor.vaderize(X_test)"
   ]
  },
  {
   "cell_type": "code",
   "execution_count": 52,
   "id": "7c59a741-7f3b-4a3a-b1eb-a5ec39e21d54",
   "metadata": {},
   "outputs": [
    {
     "data": {
      "text/html": [
       "<div>\n",
       "<style scoped>\n",
       "    .dataframe tbody tr th:only-of-type {\n",
       "        vertical-align: middle;\n",
       "    }\n",
       "\n",
       "    .dataframe tbody tr th {\n",
       "        vertical-align: top;\n",
       "    }\n",
       "\n",
       "    .dataframe thead th {\n",
       "        text-align: right;\n",
       "    }\n",
       "</style>\n",
       "<table border=\"1\" class=\"dataframe\">\n",
       "  <thead>\n",
       "    <tr style=\"text-align: right;\">\n",
       "      <th></th>\n",
       "      <th>neg</th>\n",
       "      <th>neu</th>\n",
       "      <th>pos</th>\n",
       "      <th>compound</th>\n",
       "      <th>text</th>\n",
       "    </tr>\n",
       "  </thead>\n",
       "  <tbody>\n",
       "    <tr>\n",
       "      <th>0</th>\n",
       "      <td>0.521</td>\n",
       "      <td>0.479</td>\n",
       "      <td>0.000</td>\n",
       "      <td>-0.8271</td>\n",
       "      <td>pakistan muslims attack christian family, hara...</td>\n",
       "    </tr>\n",
       "    <tr>\n",
       "      <th>1</th>\n",
       "      <td>0.000</td>\n",
       "      <td>0.518</td>\n",
       "      <td>0.482</td>\n",
       "      <td>0.6792</td>\n",
       "      <td>please, sign the petition! ezgi needa your help!</td>\n",
       "    </tr>\n",
       "    <tr>\n",
       "      <th>2</th>\n",
       "      <td>0.115</td>\n",
       "      <td>0.656</td>\n",
       "      <td>0.230</td>\n",
       "      <td>0.3400</td>\n",
       "      <td>why evangelical women are questioning the chur...</td>\n",
       "    </tr>\n",
       "    <tr>\n",
       "      <th>3</th>\n",
       "      <td>0.000</td>\n",
       "      <td>1.000</td>\n",
       "      <td>0.000</td>\n",
       "      <td>0.0000</td>\n",
       "      <td>episode 3 drama business proposal dapat rating...</td>\n",
       "    </tr>\n",
       "    <tr>\n",
       "      <th>4</th>\n",
       "      <td>0.000</td>\n",
       "      <td>0.847</td>\n",
       "      <td>0.153</td>\n",
       "      <td>0.4019</td>\n",
       "      <td>pentagon approves 700 national guardsmen and 5...</td>\n",
       "    </tr>\n",
       "  </tbody>\n",
       "</table>\n",
       "</div>"
      ],
      "text/plain": [
       "     neg    neu    pos  compound  \\\n",
       "0  0.521  0.479  0.000   -0.8271   \n",
       "1  0.000  0.518  0.482    0.6792   \n",
       "2  0.115  0.656  0.230    0.3400   \n",
       "3  0.000  1.000  0.000    0.0000   \n",
       "4  0.000  0.847  0.153    0.4019   \n",
       "\n",
       "                                                text  \n",
       "0  pakistan muslims attack christian family, hara...  \n",
       "1   please, sign the petition! ezgi needa your help!  \n",
       "2  why evangelical women are questioning the chur...  \n",
       "3  episode 3 drama business proposal dapat rating...  \n",
       "4  pentagon approves 700 national guardsmen and 5...  "
      ]
     },
     "execution_count": 52,
     "metadata": {},
     "output_type": "execute_result"
    }
   ],
   "source": [
    "Xsia_train.head()"
   ]
  },
  {
   "cell_type": "code",
   "execution_count": 53,
   "id": "c563f788-cdee-44b2-a189-571be677ab27",
   "metadata": {},
   "outputs": [
    {
     "data": {
      "image/png": "[encoded data removed]",
      "text/plain": [
       "<Figure size 432x288 with 4 Axes>"
      ]
     },
     "metadata": {
      "needs_background": "light"
     },
     "output_type": "display_data"
    }
   ],
   "source": [
    "Xsia_train.hist();"
   ]
  },
  {
   "cell_type": "code",
   "execution_count": 54,
   "id": "8363f465-db30-4a8e-83a1-7a2eaf9cfaab",
   "metadata": {},
   "outputs": [
    {
     "data": {
      "text/plain": [
       "(0.8685603241544695, 0.867526668320516)"
      ]
     },
     "execution_count": 54,
     "metadata": {},
     "output_type": "execute_result"
    }
   ],
   "source": [
    "bayes4 = GaussianNB()\n",
    "\n",
    "bayes4.fit(Xsia_train.drop(columns='text'), y_train)\n",
    "\n",
    "bayes4.score(Xsia_train.drop(columns='text'), y_train), bayes4.score(Xsia_test.drop(columns='text'), y_test)"
   ]
  },
  {
   "cell_type": "markdown",
   "id": "f5686bed-d00e-4364-8748-6645f20f73c8",
   "metadata": {},
   "source": [
    "---\n",
    "\n",
    "# A Basic Ensemble of Bayes"
   ]
  },
  {
   "cell_type": "code",
   "execution_count": 55,
   "id": "de7bc8e0-deb5-44ec-ad2f-9ad429a131ae",
   "metadata": {},
   "outputs": [
    {
     "data": {
      "text/html": [
       "<div>\n",
       "<style scoped>\n",
       "    .dataframe tbody tr th:only-of-type {\n",
       "        vertical-align: middle;\n",
       "    }\n",
       "\n",
       "    .dataframe tbody tr th {\n",
       "        vertical-align: top;\n",
       "    }\n",
       "\n",
       "    .dataframe thead th {\n",
       "        text-align: right;\n",
       "    }\n",
       "</style>\n",
       "<table border=\"1\" class=\"dataframe\">\n",
       "  <thead>\n",
       "    <tr style=\"text-align: right;\">\n",
       "      <th></th>\n",
       "      <th>bayes2_0</th>\n",
       "      <th>bayes2_1</th>\n",
       "    </tr>\n",
       "  </thead>\n",
       "  <tbody>\n",
       "    <tr>\n",
       "      <th>0</th>\n",
       "      <td>0.999993</td>\n",
       "      <td>7.317363e-06</td>\n",
       "    </tr>\n",
       "    <tr>\n",
       "      <th>1</th>\n",
       "      <td>0.997648</td>\n",
       "      <td>2.352259e-03</td>\n",
       "    </tr>\n",
       "    <tr>\n",
       "      <th>2</th>\n",
       "      <td>0.991653</td>\n",
       "      <td>8.347496e-03</td>\n",
       "    </tr>\n",
       "    <tr>\n",
       "      <th>3</th>\n",
       "      <td>0.963927</td>\n",
       "      <td>3.607296e-02</td>\n",
       "    </tr>\n",
       "    <tr>\n",
       "      <th>4</th>\n",
       "      <td>1.000000</td>\n",
       "      <td>3.144561e-10</td>\n",
       "    </tr>\n",
       "  </tbody>\n",
       "</table>\n",
       "</div>"
      ],
      "text/plain": [
       "   bayes2_0      bayes2_1\n",
       "0  0.999993  7.317363e-06\n",
       "1  0.997648  2.352259e-03\n",
       "2  0.991653  8.347496e-03\n",
       "3  0.963927  3.607296e-02\n",
       "4  1.000000  3.144561e-10"
      ]
     },
     "execution_count": 55,
     "metadata": {},
     "output_type": "execute_result"
    }
   ],
   "source": [
    "bayes2_train_probs = pd.DataFrame(bayes2.predict_proba(X_train), columns=['bayes2_0', 'bayes2_1'])\n",
    "bayes2_test_probs = pd.DataFrame(bayes2.predict_proba(X_test), columns=['bayes2_0', 'bayes2_1'])\n",
    "\n",
    "bayes3_train_probs = pd.DataFrame(bayes3.predict_proba(X_train), columns=['bayes3_0', 'bayes3_1'])\n",
    "bayes3_test_probs = pd.DataFrame(bayes3.predict_proba(X_test), columns=['bayes3_0', 'bayes3_1'])\n",
    "\n",
    "bayes2_train_probs.head()"
   ]
  },
  {
   "cell_type": "code",
   "execution_count": 56,
   "id": "2facfbd2-c275-45ea-8316-6822a33ed131",
   "metadata": {},
   "outputs": [
    {
     "data": {
      "text/plain": [
       "bayes2_0    0\n",
       "bayes2_1    0\n",
       "dtype: int64"
      ]
     },
     "execution_count": 56,
     "metadata": {},
     "output_type": "execute_result"
    }
   ],
   "source": [
    "bayes2_test_probs.isnull().sum()"
   ]
  },
  {
   "cell_type": "code",
   "execution_count": 57,
   "id": "97a491f4-9af4-41d1-93ed-296108989f0f",
   "metadata": {},
   "outputs": [
    {
     "data": {
      "text/html": [
       "<div>\n",
       "<style scoped>\n",
       "    .dataframe tbody tr th:only-of-type {\n",
       "        vertical-align: middle;\n",
       "    }\n",
       "\n",
       "    .dataframe tbody tr th {\n",
       "        vertical-align: top;\n",
       "    }\n",
       "\n",
       "    .dataframe thead th {\n",
       "        text-align: right;\n",
       "    }\n",
       "</style>\n",
       "<table border=\"1\" class=\"dataframe\">\n",
       "  <thead>\n",
       "    <tr style=\"text-align: right;\">\n",
       "      <th></th>\n",
       "      <th>neg</th>\n",
       "      <th>neu</th>\n",
       "      <th>pos</th>\n",
       "      <th>bayes2_1</th>\n",
       "      <th>bayes3_1</th>\n",
       "    </tr>\n",
       "  </thead>\n",
       "  <tbody>\n",
       "    <tr>\n",
       "      <th>0</th>\n",
       "      <td>0.000</td>\n",
       "      <td>0.602</td>\n",
       "      <td>0.398</td>\n",
       "      <td>3.801439e-06</td>\n",
       "      <td>0.033049</td>\n",
       "    </tr>\n",
       "    <tr>\n",
       "      <th>1</th>\n",
       "      <td>0.000</td>\n",
       "      <td>0.816</td>\n",
       "      <td>0.184</td>\n",
       "      <td>1.550612e-09</td>\n",
       "      <td>0.079767</td>\n",
       "    </tr>\n",
       "    <tr>\n",
       "      <th>2</th>\n",
       "      <td>0.163</td>\n",
       "      <td>0.620</td>\n",
       "      <td>0.217</td>\n",
       "      <td>5.893335e-03</td>\n",
       "      <td>0.129315</td>\n",
       "    </tr>\n",
       "    <tr>\n",
       "      <th>3</th>\n",
       "      <td>0.286</td>\n",
       "      <td>0.714</td>\n",
       "      <td>0.000</td>\n",
       "      <td>2.671731e-04</td>\n",
       "      <td>0.086947</td>\n",
       "    </tr>\n",
       "    <tr>\n",
       "      <th>4</th>\n",
       "      <td>0.333</td>\n",
       "      <td>0.667</td>\n",
       "      <td>0.000</td>\n",
       "      <td>9.999970e-01</td>\n",
       "      <td>0.452915</td>\n",
       "    </tr>\n",
       "  </tbody>\n",
       "</table>\n",
       "</div>"
      ],
      "text/plain": [
       "     neg    neu    pos      bayes2_1  bayes3_1\n",
       "0  0.000  0.602  0.398  3.801439e-06  0.033049\n",
       "1  0.000  0.816  0.184  1.550612e-09  0.079767\n",
       "2  0.163  0.620  0.217  5.893335e-03  0.129315\n",
       "3  0.286  0.714  0.000  2.671731e-04  0.086947\n",
       "4  0.333  0.667  0.000  9.999970e-01  0.452915"
      ]
     },
     "execution_count": 57,
     "metadata": {},
     "output_type": "execute_result"
    }
   ],
   "source": [
    "Xens_train = pd.concat([Xsia_train.drop(columns=['text','compound']), bayes2_train_probs[['bayes2_1']], bayes3_train_probs[['bayes3_1']]], axis=1)\n",
    "Xens_test = pd.concat([Xsia_test.drop(columns=['text', 'compound']), bayes2_test_probs[['bayes2_1']], bayes3_test_probs[['bayes3_1']] ], axis=1)\n",
    "\n",
    "Xens_test.head()"
   ]
  },
  {
   "cell_type": "code",
   "execution_count": 58,
   "id": "def9d057-a566-46f7-94cf-319e6efce7f6",
   "metadata": {},
   "outputs": [
    {
     "data": {
      "text/plain": [
       "neg         0\n",
       "neu         0\n",
       "pos         0\n",
       "bayes2_1    0\n",
       "bayes3_1    0\n",
       "dtype: int64"
      ]
     },
     "execution_count": 58,
     "metadata": {},
     "output_type": "execute_result"
    }
   ],
   "source": [
    "Xens_test.isnull().sum()"
   ]
  },
  {
   "cell_type": "code",
   "execution_count": 59,
   "id": "62bae4e6-cff0-4a94-9843-9f0d37ead8f6",
   "metadata": {},
   "outputs": [
    {
     "data": {
      "text/plain": [
       "(0.9544640149949006, 0.9534854874720913)"
      ]
     },
     "execution_count": 59,
     "metadata": {},
     "output_type": "execute_result"
    }
   ],
   "source": [
    "logreg = LogisticRegression()\n",
    "\n",
    "logreg.fit(Xens_train, y_train)\n",
    "\n",
    "logreg.score(Xens_train, y_train), logreg.score(Xens_test, y_test)"
   ]
  },
  {
   "cell_type": "code",
   "execution_count": 65,
   "id": "76ebdc1e-b339-4955-a7a1-42a90a528b8f",
   "metadata": {},
   "outputs": [
    {
     "name": "stderr",
     "output_type": "stream",
     "text": [
      "C:\\Users\\herma\\anaconda3\\lib\\site-packages\\sklearn\\utils\\deprecation.py:87: FutureWarning: Function plot_roc_curve is deprecated; Function :func:`plot_roc_curve` is deprecated in 1.0 and will be removed in 1.2. Use one of the class methods: :meth:`sklearn.metric.RocCurveDisplay.from_predictions` or :meth:`sklearn.metric.RocCurveDisplay.from_estimator`.\n",
      "  warnings.warn(msg, category=FutureWarning)\n"
     ]
    },
    {
     "data": {
      "text/plain": [
       "<matplotlib.legend.Legend at 0x1a9c179aeb0>"
      ]
     },
     "execution_count": 65,
     "metadata": {},
     "output_type": "execute_result"
    },
    {
     "data": {
      "image/png": "[encoded data removed]",
      "text/plain": [
       "<Figure size 432x288 with 1 Axes>"
      ]
     },
     "metadata": {
      "needs_background": "light"
     },
     "output_type": "display_data"
    }
   ],
   "source": [
    "plot_roc_curve(logreg, Xens_test, y_test);\n",
    "plt.plot([0,1],[0,1],linestyle='--', color='red', label='baseline');\n",
    "\n",
    "plt.legend()"
   ]
  },
  {
   "cell_type": "code",
   "execution_count": 61,
   "id": "4bddddd8-e68d-431c-8b15-6190a12aff1b",
   "metadata": {},
   "outputs": [
    {
     "data": {
      "image/png": "[encoded data removed]",
      "text/plain": [
       "<Figure size 432x288 with 2 Axes>"
      ]
     },
     "metadata": {
      "needs_background": "light"
     },
     "output_type": "display_data"
    }
   ],
   "source": [
    "log_preds = logreg.predict(Xens_test)\n",
    "\n",
    "cmd.from_predictions(y_test, log_preds);"
   ]
  },
  {
   "cell_type": "code",
   "execution_count": 62,
   "id": "6da9da48-0fe8-4006-9312-3cdd27526e82",
   "metadata": {},
   "outputs": [
    {
     "name": "stdout",
     "output_type": "stream",
     "text": [
      "Recall:  0.7414299706170421\n",
      " \n",
      "Precision:  0.8721198156682027\n",
      " \n",
      "F1:  0.8014822657490737\n"
     ]
    }
   ],
   "source": [
    "print(\"Recall: \", recall_score(y_test, log_preds))\n",
    "print(\" \")\n",
    "print(\"Precision: \", precision_score(y_test, log_preds))\n",
    "print(\" \")\n",
    "print(\"F1: \", f1_score(y_test, log_preds))"
   ]
  },
  {
   "cell_type": "code",
   "execution_count": null,
   "id": "b64d50d9-4e3f-4d1d-8fe8-40476c85c1dd",
   "metadata": {},
   "outputs": [],
   "source": []
  },
  {
   "cell_type": "code",
   "execution_count": null,
   "id": "e37aacde-2ad4-481a-97cc-4f79d392ea31",
   "metadata": {},
   "outputs": [],
   "source": []
  },
  {
   "cell_type": "code",
   "execution_count": null,
   "id": "cf5958c7-888e-4bb3-b970-cd4c0ab4a35e",
   "metadata": {},
   "outputs": [],
   "source": []
  },
  {
   "cell_type": "code",
   "execution_count": null,
   "id": "8d3f59ef-a17f-444b-979d-1098f6ca364a",
   "metadata": {},
   "outputs": [],
   "source": []
  }
 ],
 "metadata": {
  "kernelspec": {
   "display_name": "Python 3 (ipykernel)",
   "language": "python",
   "name": "python3"
  },
  "language_info": {
   "codemirror_mode": {
    "name": "ipython",
    "version": 3
   },
   "file_extension": ".py",
   "mimetype": "text/x-python",
   "name": "python",
   "nbconvert_exporter": "python",
   "pygments_lexer": "ipython3",
   "version": "3.9.7"
  }
 },
 "nbformat": 4,
 "nbformat_minor": 5
}
