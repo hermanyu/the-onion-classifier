{
 "cells": [
  {
   "cell_type": "code",
   "execution_count": 1,
   "id": "26d15fb2-77ba-4316-89be-ca4448acb143",
   "metadata": {},
   "outputs": [],
   "source": [
    "import numpy as np\n",
    "import pandas as pd\n",
    "import matplotlib.pyplot as plt\n",
    "import seaborn as sns\n",
    "import re\n",
    "from collections import Counter\n",
    "import joblib\n",
    "\n",
    "from sklearn.linear_model import LogisticRegression\n",
    "\n",
    "from sklearn.metrics import confusion_matrix, ConfusionMatrixDisplay, recall_score, precision_score, plot_roc_curve, roc_auc_score\n",
    "from sklearn.model_selection import train_test_split, GridSearchCV\n",
    "from sklearn.pipeline import Pipeline\n",
    "from sklearn.preprocessing import StandardScaler, FunctionTransformer\n",
    "from sklearn.metrics import confusion_matrix, ConfusionMatrixDisplay, recall_score, precision_score, f1_score, plot_roc_curve, roc_auc_score, accuracy_score\n",
    "\n",
    "from sklearn.feature_extraction.text import CountVectorizer, TfidfVectorizer\n",
    "\n",
    "from imblearn.over_sampling import RandomOverSampler\n",
    "\n",
    "from nltk.tokenize import sent_tokenize, word_tokenize, RegexpTokenizer\n",
    "from nltk.stem import WordNetLemmatizer\n",
    "from nltk.stem.porter import PorterStemmer\n",
    "from nltk.corpus import stopwords\n",
    "\n",
    "\n",
    "import thor"
   ]
  },
  {
   "cell_type": "code",
   "execution_count": 2,
   "id": "1cfebe33-f920-42d1-ad97-dd7cf388a6a2",
   "metadata": {},
   "outputs": [
    {
     "data": {
      "text/html": [
       "<div>\n",
       "<style scoped>\n",
       "    .dataframe tbody tr th:only-of-type {\n",
       "        vertical-align: middle;\n",
       "    }\n",
       "\n",
       "    .dataframe tbody tr th {\n",
       "        vertical-align: top;\n",
       "    }\n",
       "\n",
       "    .dataframe thead th {\n",
       "        text-align: right;\n",
       "    }\n",
       "</style>\n",
       "<table border=\"1\" class=\"dataframe\">\n",
       "  <thead>\n",
       "    <tr style=\"text-align: right;\">\n",
       "      <th></th>\n",
       "      <th>created_utc</th>\n",
       "      <th>title</th>\n",
       "      <th>class</th>\n",
       "    </tr>\n",
       "  </thead>\n",
       "  <tbody>\n",
       "    <tr>\n",
       "      <th>0</th>\n",
       "      <td>1638249737</td>\n",
       "      <td>mens fashion</td>\n",
       "      <td>0</td>\n",
       "    </tr>\n",
       "    <tr>\n",
       "      <th>1</th>\n",
       "      <td>1647375248</td>\n",
       "      <td>Police ordered to pay nearly $1M settlement af...</td>\n",
       "      <td>0</td>\n",
       "    </tr>\n",
       "    <tr>\n",
       "      <th>2</th>\n",
       "      <td>1645631339</td>\n",
       "      <td>Ukraine live updates: UK keeping some Russia s...</td>\n",
       "      <td>0</td>\n",
       "    </tr>\n",
       "    <tr>\n",
       "      <th>3</th>\n",
       "      <td>1638563399</td>\n",
       "      <td>Bank of America execs warn junior staffers to ...</td>\n",
       "      <td>0</td>\n",
       "    </tr>\n",
       "    <tr>\n",
       "      <th>4</th>\n",
       "      <td>1641145358</td>\n",
       "      <td>COVID, Ivermectin, And ‘Mass Formation Psychos...</td>\n",
       "      <td>0</td>\n",
       "    </tr>\n",
       "  </tbody>\n",
       "</table>\n",
       "</div>"
      ],
      "text/plain": [
       "   created_utc                                              title  class\n",
       "0   1638249737                                       mens fashion      0\n",
       "1   1647375248  Police ordered to pay nearly $1M settlement af...      0\n",
       "2   1645631339  Ukraine live updates: UK keeping some Russia s...      0\n",
       "3   1638563399  Bank of America execs warn junior staffers to ...      0\n",
       "4   1641145358  COVID, Ivermectin, And ‘Mass Formation Psychos...      0"
      ]
     },
     "execution_count": 2,
     "metadata": {},
     "output_type": "execute_result"
    }
   ],
   "source": [
    "train = pd.read_csv('../data/total_train.csv')\n",
    "test = pd.read_csv('../data/total_test.csv')\n",
    "\n",
    "train.head()"
   ]
  },
  {
   "cell_type": "code",
   "execution_count": 3,
   "id": "796a76e2-edb8-472e-bd5d-90fdeb9ee038",
   "metadata": {},
   "outputs": [],
   "source": [
    "X = train['title']\n",
    "y = train['class']\n",
    "\n",
    "X_train, X_test, y_train, y_test = train_test_split(X, y, stratify=y, test_size=0.1, random_state=42)"
   ]
  },
  {
   "cell_type": "markdown",
   "id": "d017d36c-e81d-437b-92b9-ed2e82aaba35",
   "metadata": {},
   "source": [
    "--- \n",
    "\n",
    "# Logistic Regression: Base Model\n",
    "\n",
    "### Base CountVectorizer Model"
   ]
  },
  {
   "cell_type": "code",
   "execution_count": 4,
   "id": "74651e0e-6e4a-4eb3-8a23-210b856e0c58",
   "metadata": {},
   "outputs": [],
   "source": [
    "pipe1 = Pipeline([\n",
    "            ('cvec', CountVectorizer()),\n",
    "            ('logreg', LogisticRegression(max_iter=20_000))\n",
    "        ])\n",
    "\n",
    "log1_params = {\n",
    "                'cvec__ngram_range': [(1,2), (1,4), (1,5), (2,5)],\n",
    "                'cvec__max_df': [0.3, 0.5],\n",
    "                'cvec__stop_words':['english', None],\n",
    "                'cvec__binary':[False, True],\n",
    "                'logreg__C': [10, 1, 0.1]\n",
    "                }"
   ]
  },
  {
   "cell_type": "code",
   "execution_count": 5,
   "id": "4c8213b8-f2e7-4767-a1a9-400784ca1bd2",
   "metadata": {},
   "outputs": [],
   "source": [
    "#log1 = GridSearchCV(pipe1, log1_params, cv=5, n_jobs=9)\n",
    "\n",
    "#log1.fit(X_train, y_train)\n",
    "\n",
    "#joblib.dump(log1, '../models/logreg1.pkl')\n",
    "\n",
    "log1 = joblib.load('../models/logreg1.pkl')"
   ]
  },
  {
   "cell_type": "code",
   "execution_count": 6,
   "id": "bb28c5bb-7465-4885-8ed6-f02a33e9723f",
   "metadata": {},
   "outputs": [
    {
     "data": {
      "text/plain": [
       "(0.999821469828401, 0.9378130611473395)"
      ]
     },
     "execution_count": 6,
     "metadata": {},
     "output_type": "execute_result"
    }
   ],
   "source": [
    "log1.score(X_train, y_train), log1.score(X_test, y_test)"
   ]
  },
  {
   "cell_type": "code",
   "execution_count": 7,
   "id": "1a5c98ef-d079-49fe-855b-fbd47d06e14d",
   "metadata": {},
   "outputs": [
    {
     "data": {
      "text/plain": [
       "{'cvec__binary': True,\n",
       " 'cvec__max_df': 0.3,\n",
       " 'cvec__ngram_range': (1, 2),\n",
       " 'cvec__stop_words': None,\n",
       " 'logreg__C': 10}"
      ]
     },
     "execution_count": 7,
     "metadata": {},
     "output_type": "execute_result"
    }
   ],
   "source": [
    "log1.best_params_"
   ]
  },
  {
   "cell_type": "code",
   "execution_count": 8,
   "id": "1a868108-ab31-4624-9b23-a59602cdba07",
   "metadata": {},
   "outputs": [
    {
     "data": {
      "image/png": "[encoded data removed]",
      "text/plain": [
       "<Figure size 432x288 with 2 Axes>"
      ]
     },
     "metadata": {
      "needs_background": "light"
     },
     "output_type": "display_data"
    }
   ],
   "source": [
    "log1_preds = log1.predict(X_test)\n",
    "cm = confusion_matrix(y_test, log1_preds)\n",
    "cmd = ConfusionMatrixDisplay(cm)\n",
    "\n",
    "cmd.from_predictions(y_test, log1_preds);"
   ]
  },
  {
   "cell_type": "code",
   "execution_count": 9,
   "id": "122857bf-651e-4ffb-a58f-9012a110af86",
   "metadata": {},
   "outputs": [
    {
     "name": "stdout",
     "output_type": "stream",
     "text": [
      " \n",
      "Recall:  0.6472241742796908\n",
      " \n",
      "Precision:  0.8551532033426184\n",
      " \n",
      "F1:  0.7368000000000001\n",
      " \n"
     ]
    }
   ],
   "source": [
    "print(\" \")\n",
    "print(\"Recall: \", recall_score(y_test, log1_preds))\n",
    "print(\" \")\n",
    "print(\"Precision: \", precision_score(y_test, log1_preds))\n",
    "print(\" \")\n",
    "print(\"F1: \", f1_score(y_test, log1_preds))\n",
    "print(\" \")"
   ]
  },
  {
   "cell_type": "code",
   "execution_count": 10,
   "id": "d5a3f210-03de-4a7c-8299-d17c3089e89b",
   "metadata": {},
   "outputs": [
    {
     "name": "stderr",
     "output_type": "stream",
     "text": [
      "C:\\Users\\herma\\anaconda3\\lib\\site-packages\\sklearn\\utils\\deprecation.py:87: FutureWarning: Function plot_roc_curve is deprecated; Function :func:`plot_roc_curve` is deprecated in 1.0 and will be removed in 1.2. Use one of the class methods: :meth:`sklearn.metric.RocCurveDisplay.from_predictions` or :meth:`sklearn.metric.RocCurveDisplay.from_estimator`.\n",
      "  warnings.warn(msg, category=FutureWarning)\n"
     ]
    },
    {
     "data": {
      "image/png": "[encoded data removed]",
      "text/plain": [
       "<Figure size 432x288 with 1 Axes>"
      ]
     },
     "metadata": {
      "needs_background": "light"
     },
     "output_type": "display_data"
    }
   ],
   "source": [
    "plot_roc_curve(log1, X_test, y_test);\n",
    "plt.plot([0,1],[0,1],linestyle='--', color='red', label='baseline');\n",
    "plt.legend();"
   ]
  },
  {
   "cell_type": "code",
   "execution_count": 11,
   "id": "6fcf44f6-0ce4-4673-8aa3-a22c3e993c25",
   "metadata": {},
   "outputs": [],
   "source": [
    "def change_threshold(probs, threshold):\n",
    "    pos_probs = pd.Series([p[1] for p in probs])\n",
    "    return pos_probs.map(lambda p: 1 if p>=threshold else 0)\n",
    "\n",
    "def verbose_eval(estimator, data, actual, threshold=0.5):\n",
    "    preds = change_threshold(estimator.predict_proba(data), threshold)\n",
    "\n",
    "    cmd.from_predictions(actual, preds);\n",
    "    print(\" \")\n",
    "    print(\"Accuracy: \", accuracy_score(actual, preds))\n",
    "    print(\" \")\n",
    "    print(\"Recall: \", recall_score(actual, preds))\n",
    "    print(\" \")\n",
    "    print(\"Precision: \", precision_score(actual, preds))\n",
    "    print(\" \")\n",
    "    print(\"F1: \", f1_score(actual, preds))\n",
    "    print(\" \")\n"
   ]
  },
  {
   "cell_type": "code",
   "execution_count": 12,
   "id": "80ae7878-fe95-42ea-86fa-3747a553219d",
   "metadata": {},
   "outputs": [
    {
     "name": "stdout",
     "output_type": "stream",
     "text": [
      " \n",
      "Accuracy:  0.9383801153010113\n",
      " \n",
      "Recall:  0.7203092059030218\n",
      " \n",
      "Precision:  0.8014073494917905\n",
      " \n",
      "F1:  0.7586972612879349\n",
      " \n"
     ]
    },
    {
     "data": {
      "image/png": "[encoded data removed]",
      "text/plain": [
       "<Figure size 432x288 with 2 Axes>"
      ]
     },
     "metadata": {
      "needs_background": "light"
     },
     "output_type": "display_data"
    }
   ],
   "source": [
    "verbose_eval(log1, X_test, y_test, threshold=0.3)"
   ]
  },
  {
   "cell_type": "code",
   "execution_count": 13,
   "id": "b7c8db09-a8df-4eaa-abe1-c93007033bf7",
   "metadata": {},
   "outputs": [],
   "source": [
    "scores = []\n",
    "\n",
    "for threshold in range(20, 55, 5):\n",
    "    new_preds = change_threshold(log1.predict_proba(X_test), threshold*0.01)\n",
    "    col = {\n",
    "            'threshold':threshold*0.01,\n",
    "            'accuracy': accuracy_score(y_test, new_preds),\n",
    "            'recall': recall_score(y_test, new_preds),\n",
    "            'precision': precision_score(y_test, new_preds),\n",
    "            'F1' : f1_score(y_test, new_preds)\n",
    "          }\n",
    "    scores.append(col)\n",
    "\n",
    "thresh_scores = pd.DataFrame(scores)"
   ]
  },
  {
   "cell_type": "code",
   "execution_count": 14,
   "id": "c8b442a1-c0e0-4f2e-904d-6a21099bcb07",
   "metadata": {},
   "outputs": [
    {
     "data": {
      "text/html": [
       "<div>\n",
       "<style scoped>\n",
       "    .dataframe tbody tr th:only-of-type {\n",
       "        vertical-align: middle;\n",
       "    }\n",
       "\n",
       "    .dataframe tbody tr th {\n",
       "        vertical-align: top;\n",
       "    }\n",
       "\n",
       "    .dataframe thead th {\n",
       "        text-align: right;\n",
       "    }\n",
       "</style>\n",
       "<table border=\"1\" class=\"dataframe\">\n",
       "  <thead>\n",
       "    <tr style=\"text-align: right;\">\n",
       "      <th></th>\n",
       "      <th>threshold</th>\n",
       "      <th>accuracy</th>\n",
       "      <th>recall</th>\n",
       "      <th>precision</th>\n",
       "      <th>F1</th>\n",
       "    </tr>\n",
       "  </thead>\n",
       "  <tbody>\n",
       "    <tr>\n",
       "      <th>0</th>\n",
       "      <td>0.20</td>\n",
       "      <td>0.935828</td>\n",
       "      <td>0.759663</td>\n",
       "      <td>0.762341</td>\n",
       "      <td>0.761000</td>\n",
       "    </tr>\n",
       "    <tr>\n",
       "      <th>1</th>\n",
       "      <td>0.25</td>\n",
       "      <td>0.937435</td>\n",
       "      <td>0.737878</td>\n",
       "      <td>0.784167</td>\n",
       "      <td>0.760319</td>\n",
       "    </tr>\n",
       "    <tr>\n",
       "      <th>2</th>\n",
       "      <td>0.30</td>\n",
       "      <td>0.938380</td>\n",
       "      <td>0.720309</td>\n",
       "      <td>0.801407</td>\n",
       "      <td>0.758697</td>\n",
       "    </tr>\n",
       "    <tr>\n",
       "      <th>3</th>\n",
       "      <td>0.35</td>\n",
       "      <td>0.938853</td>\n",
       "      <td>0.702741</td>\n",
       "      <td>0.816993</td>\n",
       "      <td>0.755572</td>\n",
       "    </tr>\n",
       "    <tr>\n",
       "      <th>4</th>\n",
       "      <td>0.40</td>\n",
       "      <td>0.939231</td>\n",
       "      <td>0.687280</td>\n",
       "      <td>0.831633</td>\n",
       "      <td>0.752597</td>\n",
       "    </tr>\n",
       "    <tr>\n",
       "      <th>5</th>\n",
       "      <td>0.45</td>\n",
       "      <td>0.938286</td>\n",
       "      <td>0.664793</td>\n",
       "      <td>0.843137</td>\n",
       "      <td>0.743418</td>\n",
       "    </tr>\n",
       "    <tr>\n",
       "      <th>6</th>\n",
       "      <td>0.50</td>\n",
       "      <td>0.937813</td>\n",
       "      <td>0.647224</td>\n",
       "      <td>0.855153</td>\n",
       "      <td>0.736800</td>\n",
       "    </tr>\n",
       "  </tbody>\n",
       "</table>\n",
       "</div>"
      ],
      "text/plain": [
       "   threshold  accuracy    recall  precision        F1\n",
       "0       0.20  0.935828  0.759663   0.762341  0.761000\n",
       "1       0.25  0.937435  0.737878   0.784167  0.760319\n",
       "2       0.30  0.938380  0.720309   0.801407  0.758697\n",
       "3       0.35  0.938853  0.702741   0.816993  0.755572\n",
       "4       0.40  0.939231  0.687280   0.831633  0.752597\n",
       "5       0.45  0.938286  0.664793   0.843137  0.743418\n",
       "6       0.50  0.937813  0.647224   0.855153  0.736800"
      ]
     },
     "execution_count": 14,
     "metadata": {},
     "output_type": "execute_result"
    }
   ],
   "source": [
    "thresh_scores"
   ]
  },
  {
   "cell_type": "markdown",
   "id": "d9fe405a-0b05-4eb5-aff1-2b2ee3147f34",
   "metadata": {},
   "source": [
    "### Over Sampling the Minority Class"
   ]
  },
  {
   "cell_type": "code",
   "execution_count": 15,
   "id": "f5271e37-548a-4087-ab5f-bcca3f3dc0e9",
   "metadata": {},
   "outputs": [],
   "source": [
    "ros = RandomOverSampler()\n",
    "\n",
    "X_train_over, y_train_over = ros.fit_resample(np.array([[text] for text in X_train]),\n",
    "                                              y_train)\n",
    "\n",
    "X_train_over = pd.Series([text[0] for text in X_train_over])"
   ]
  },
  {
   "cell_type": "code",
   "execution_count": 16,
   "id": "fd212a4e-c380-4371-8427-2204a6201a6c",
   "metadata": {},
   "outputs": [
    {
     "data": {
      "text/plain": [
       "0         Woman killed over bowling ball in Atlanta had ...\n",
       "1         FirstFT: Russia launches fierce attack on Ukra...\n",
       "2         What will Silicon Valley learn from Holmes' co...\n",
       "3         Kamila Valieva Falls Multiple Times During Wom...\n",
       "4          CBS Sitcoms Under Fire For Using Prison Laughter\n",
       "                                ...                        \n",
       "164829    Hollywood Refusing To Give Public Any New Movi...\n",
       "164830    Huge Oversight: ‘Jeopardy’ Is Reclaiming Thous...\n",
       "164831    ‘The Onion’ Accidentally Sent Our Sex Columnis...\n",
       "164832    NYC Opens $500 Million Decoy Subway Station To...\n",
       "164833    Astronomers Discover Planet Identical To Earth...\n",
       "Length: 164834, dtype: object"
      ]
     },
     "execution_count": 16,
     "metadata": {},
     "output_type": "execute_result"
    }
   ],
   "source": [
    "X_train_over"
   ]
  },
  {
   "cell_type": "code",
   "execution_count": 17,
   "id": "6c4f789c-7ac6-4ff1-b7ba-69a193bdcae0",
   "metadata": {},
   "outputs": [],
   "source": [
    "pipe2 = Pipeline([\n",
    "            ('cvec', CountVectorizer()),\n",
    "            ('logreg', LogisticRegression(max_iter=20_000))\n",
    "        ])\n",
    "\n",
    "log2_params = {\n",
    "                'cvec__ngram_range': [(1,2)],\n",
    "                'cvec__max_df': [0.3],\n",
    "                'cvec__stop_words':[None],\n",
    "                'cvec__binary':[True],\n",
    "                'logreg__C': [10]\n",
    "                }"
   ]
  },
  {
   "cell_type": "code",
   "execution_count": 18,
   "id": "d67cec57-6a6d-45ef-9215-28a53aaef0ce",
   "metadata": {},
   "outputs": [],
   "source": [
    "#log2 = GridSearchCV(pipe2, log2_params, cv=5, n_jobs=9)\n",
    "\n",
    "#log2.fit(X_train_over, y_train_over)\n",
    "\n",
    "#joblib.dump(log2, '../models/log2.pkl')\n",
    "\n",
    "log2 = joblib.load('../models/log2.pkl')"
   ]
  },
  {
   "cell_type": "code",
   "execution_count": 19,
   "id": "5019aa30-f025-4d8e-bff7-5c623cb9ff24",
   "metadata": {},
   "outputs": [
    {
     "data": {
      "text/plain": [
       "(0.9998240654233956, 0.9380965882241754)"
      ]
     },
     "execution_count": 19,
     "metadata": {},
     "output_type": "execute_result"
    }
   ],
   "source": [
    "log2.score(X_train_over, y_train_over), log2.score(X_test, y_test)"
   ]
  },
  {
   "cell_type": "code",
   "execution_count": 20,
   "id": "4943330c-b04c-4804-a226-3e4bad3dcdb8",
   "metadata": {},
   "outputs": [
    {
     "name": "stdout",
     "output_type": "stream",
     "text": [
      " \n",
      "Accuracy:  0.9380965882241754\n",
      " \n",
      "Recall:  0.7182009838369642\n",
      " \n",
      "Precision:  0.8009404388714734\n",
      " \n",
      "F1:  0.7573175250092627\n",
      " \n"
     ]
    },
    {
     "data": {
      "image/png": "[encoded data removed]",
      "text/plain": [
       "<Figure size 432x288 with 2 Axes>"
      ]
     },
     "metadata": {
      "needs_background": "light"
     },
     "output_type": "display_data"
    }
   ],
   "source": [
    "verbose_eval(log2, X_test, y_test)"
   ]
  },
  {
   "cell_type": "code",
   "execution_count": 21,
   "id": "bf95e23e-1658-4065-a3fd-8bdc29580301",
   "metadata": {},
   "outputs": [
    {
     "name": "stdout",
     "output_type": "stream",
     "text": [
      " \n",
      "Accuracy:  0.9381910972497873\n",
      " \n",
      "Recall:  0.6879831342234716\n",
      " \n",
      "Precision:  0.8233809924306139\n",
      " \n",
      "F1:  0.7496171516079634\n",
      " \n"
     ]
    },
    {
     "data": {
      "image/png": "[encoded data removed]",
      "text/plain": [
       "<Figure size 432x288 with 2 Axes>"
      ]
     },
     "metadata": {
      "needs_background": "light"
     },
     "output_type": "display_data"
    }
   ],
   "source": [
    "verbose_eval(log2, X_test, y_test, threshold=0.6)"
   ]
  },
  {
   "cell_type": "markdown",
   "id": "89f7742a-e5a4-4b14-a82a-77868334bdd6",
   "metadata": {},
   "source": [
    "---\n",
    "\n",
    "# Logistic Regression: TF-IDF"
   ]
  },
  {
   "cell_type": "code",
   "execution_count": 22,
   "id": "704b407e-7d17-4017-9a2d-d065b833e97e",
   "metadata": {},
   "outputs": [],
   "source": [
    "pipe1 = Pipeline([\n",
    "            ('tf', TfidfVectorizer()),\n",
    "            ('logreg', LogisticRegression(max_iter=20_000))\n",
    "        ])\n",
    "\n",
    "log1_params = {\n",
    "                'tf__ngram_range': [(1,2), (1,3), (1,4)],\n",
    "                'tf__max_df': [0.3, 0.5],\n",
    "                'tf__stop_words':[None],\n",
    "                'logreg__C': [10, 1, 0.1]\n",
    "                }"
   ]
  },
  {
   "cell_type": "code",
   "execution_count": 33,
   "id": "21b44250-4ab2-4cd8-b560-0c62f51fc14c",
   "metadata": {},
   "outputs": [],
   "source": [
    "#log3 = GridSearchCV(pipe1, log1_params, cv=5, n_jobs=5)\n",
    "\n",
    "#log3.fit(X_train, y_train)\n",
    "\n",
    "joblib.dump(log3, '../models/log3.pkl')\n",
    "\n",
    "log3 = joblib.load('../models/log3.pkl')"
   ]
  },
  {
   "cell_type": "code",
   "execution_count": 24,
   "id": "44f4b58f-da47-41ab-8b2d-49408382b747",
   "metadata": {},
   "outputs": [
    {
     "data": {
      "text/plain": [
       "(0.9977421184180126, 0.9387581514034591)"
      ]
     },
     "execution_count": 24,
     "metadata": {},
     "output_type": "execute_result"
    }
   ],
   "source": [
    "log3.score(X_train, y_train), log3.score(X_test, y_test)"
   ]
  },
  {
   "cell_type": "code",
   "execution_count": 25,
   "id": "99b1ea3b-b9f1-48c1-b0ea-2f2d93cdccef",
   "metadata": {},
   "outputs": [
    {
     "name": "stderr",
     "output_type": "stream",
     "text": [
      "C:\\Users\\herma\\anaconda3\\lib\\site-packages\\sklearn\\utils\\deprecation.py:87: FutureWarning: Function plot_roc_curve is deprecated; Function :func:`plot_roc_curve` is deprecated in 1.0 and will be removed in 1.2. Use one of the class methods: :meth:`sklearn.metric.RocCurveDisplay.from_predictions` or :meth:`sklearn.metric.RocCurveDisplay.from_estimator`.\n",
      "  warnings.warn(msg, category=FutureWarning)\n"
     ]
    },
    {
     "data": {
      "image/png": "[encoded data removed]",
      "text/plain": [
       "<Figure size 432x288 with 1 Axes>"
      ]
     },
     "metadata": {
      "needs_background": "light"
     },
     "output_type": "display_data"
    }
   ],
   "source": [
    "plot_roc_curve(log3, X_test, y_test);"
   ]
  },
  {
   "cell_type": "code",
   "execution_count": null,
   "id": "0a892db6-ad7d-4ab0-9884-e2d13f6df2de",
   "metadata": {},
   "outputs": [],
   "source": []
  },
  {
   "cell_type": "code",
   "execution_count": 26,
   "id": "f82203ee-4c0d-4ff3-91e7-e8a05741c387",
   "metadata": {},
   "outputs": [
    {
     "name": "stdout",
     "output_type": "stream",
     "text": [
      " \n",
      "Accuracy:  0.9387581514034591\n",
      " \n",
      "Recall:  0.6809557273366128\n",
      " \n",
      "Precision:  0.8331900257953568\n",
      " \n",
      "F1:  0.7494199535962878\n",
      " \n"
     ]
    },
    {
     "data": {
      "image/png": "[encoded data removed]",
      "text/plain": [
       "<Figure size 432x288 with 2 Axes>"
      ]
     },
     "metadata": {
      "needs_background": "light"
     },
     "output_type": "display_data"
    }
   ],
   "source": [
    "verbose_eval(log3, X_test, y_test)"
   ]
  },
  {
   "cell_type": "code",
   "execution_count": 27,
   "id": "e5e71f7e-85f1-4fdd-b3be-aca72d3adbfe",
   "metadata": {},
   "outputs": [
    {
     "name": "stdout",
     "output_type": "stream",
     "text": [
      " \n",
      "Accuracy:  0.9395142236083546\n",
      " \n",
      "Recall:  0.735769501054111\n",
      " \n",
      "Precision:  0.7986270022883295\n",
      " \n",
      "F1:  0.7659107534747622\n",
      " \n"
     ]
    },
    {
     "data": {
      "image/png": "[encoded data removed]",
      "text/plain": [
       "<Figure size 432x288 with 2 Axes>"
      ]
     },
     "metadata": {
      "needs_background": "light"
     },
     "output_type": "display_data"
    }
   ],
   "source": [
    "verbose_eval(log3, X_test, y_test, threshold=0.409)"
   ]
  },
  {
   "cell_type": "markdown",
   "id": "0fed4e87-ed49-45ca-b6b7-8dbea72ffb0c",
   "metadata": {},
   "source": [
    "---\n",
    "\n",
    "# Logistic Regression: Sentiment Analysis"
   ]
  },
  {
   "cell_type": "code",
   "execution_count": 36,
   "id": "f88f90fa-1320-403b-845d-e993b905c050",
   "metadata": {},
   "outputs": [],
   "source": [
    "Xsia_train = thor.vaderize(X_train)\n",
    "Xsia_test = thor.vaderize(X_test)"
   ]
  },
  {
   "cell_type": "code",
   "execution_count": 29,
   "id": "f1bc5ac1-1c60-4358-ba06-18a28eee89b0",
   "metadata": {},
   "outputs": [],
   "source": [
    "train_sia = pd.concat([Xsia_train, y_train.reset_index(drop=True)], axis=1)"
   ]
  },
  {
   "cell_type": "code",
   "execution_count": 44,
   "id": "60a5bece-8a3f-4c83-91ec-3b7054689711",
   "metadata": {},
   "outputs": [
    {
     "data": {
      "text/html": [
       "<div>\n",
       "<style scoped>\n",
       "    .dataframe tbody tr th:only-of-type {\n",
       "        vertical-align: middle;\n",
       "    }\n",
       "\n",
       "    .dataframe tbody tr th {\n",
       "        vertical-align: top;\n",
       "    }\n",
       "\n",
       "    .dataframe thead th {\n",
       "        text-align: right;\n",
       "    }\n",
       "</style>\n",
       "<table border=\"1\" class=\"dataframe\">\n",
       "  <thead>\n",
       "    <tr style=\"text-align: right;\">\n",
       "      <th></th>\n",
       "      <th>neg</th>\n",
       "      <th>neu</th>\n",
       "      <th>pos</th>\n",
       "      <th>compound</th>\n",
       "      <th>text</th>\n",
       "      <th>class</th>\n",
       "    </tr>\n",
       "  </thead>\n",
       "  <tbody>\n",
       "    <tr>\n",
       "      <th>0</th>\n",
       "      <td>0.273</td>\n",
       "      <td>0.727</td>\n",
       "      <td>0.00</td>\n",
       "      <td>-0.6705</td>\n",
       "      <td>Woman killed over bowling ball in Atlanta had ...</td>\n",
       "      <td>0</td>\n",
       "    </tr>\n",
       "    <tr>\n",
       "      <th>1</th>\n",
       "      <td>0.256</td>\n",
       "      <td>0.744</td>\n",
       "      <td>0.00</td>\n",
       "      <td>-0.4767</td>\n",
       "      <td>FirstFT: Russia launches fierce attack on Ukra...</td>\n",
       "      <td>0</td>\n",
       "    </tr>\n",
       "    <tr>\n",
       "      <th>2</th>\n",
       "      <td>0.000</td>\n",
       "      <td>1.000</td>\n",
       "      <td>0.00</td>\n",
       "      <td>0.0000</td>\n",
       "      <td>What will Silicon Valley learn from Holmes' co...</td>\n",
       "      <td>0</td>\n",
       "    </tr>\n",
       "    <tr>\n",
       "      <th>3</th>\n",
       "      <td>0.195</td>\n",
       "      <td>0.805</td>\n",
       "      <td>0.00</td>\n",
       "      <td>-0.4404</td>\n",
       "      <td>Kamila Valieva Falls Multiple Times During Wom...</td>\n",
       "      <td>0</td>\n",
       "    </tr>\n",
       "    <tr>\n",
       "      <th>4</th>\n",
       "      <td>0.410</td>\n",
       "      <td>0.360</td>\n",
       "      <td>0.23</td>\n",
       "      <td>-0.3612</td>\n",
       "      <td>CBS Sitcoms Under Fire For Using Prison Laughter</td>\n",
       "      <td>1</td>\n",
       "    </tr>\n",
       "  </tbody>\n",
       "</table>\n",
       "</div>"
      ],
      "text/plain": [
       "     neg    neu   pos  compound  \\\n",
       "0  0.273  0.727  0.00   -0.6705   \n",
       "1  0.256  0.744  0.00   -0.4767   \n",
       "2  0.000  1.000  0.00    0.0000   \n",
       "3  0.195  0.805  0.00   -0.4404   \n",
       "4  0.410  0.360  0.23   -0.3612   \n",
       "\n",
       "                                                text  class  \n",
       "0  Woman killed over bowling ball in Atlanta had ...      0  \n",
       "1  FirstFT: Russia launches fierce attack on Ukra...      0  \n",
       "2  What will Silicon Valley learn from Holmes' co...      0  \n",
       "3  Kamila Valieva Falls Multiple Times During Wom...      0  \n",
       "4   CBS Sitcoms Under Fire For Using Prison Laughter      1  "
      ]
     },
     "execution_count": 44,
     "metadata": {},
     "output_type": "execute_result"
    }
   ],
   "source": [
    "train_sia.head()"
   ]
  },
  {
   "cell_type": "code",
   "execution_count": 30,
   "id": "69bb9730-cf54-44e9-ba71-c0fe9c6e094e",
   "metadata": {},
   "outputs": [
    {
     "data": {
      "image/png": "[encoded data removed]",
      "text/plain": [
       "<Figure size 432x288 with 4 Axes>"
      ]
     },
     "metadata": {
      "needs_background": "light"
     },
     "output_type": "display_data"
    }
   ],
   "source": [
    "train_sia[ train_sia['class']==0 ].hist(column=['neg','pos', 'neu','compound']);"
   ]
  },
  {
   "cell_type": "code",
   "execution_count": 31,
   "id": "d67c67e0-b372-4a9d-ad1a-b3f65be4c8c7",
   "metadata": {},
   "outputs": [
    {
     "data": {
      "image/png": "[encoded data removed]",
      "text/plain": [
       "<Figure size 432x288 with 4 Axes>"
      ]
     },
     "metadata": {
      "needs_background": "light"
     },
     "output_type": "display_data"
    }
   ],
   "source": [
    "train_sia[ train_sia['class']==1 ].hist(column=['neg','pos', 'neu','compound']);"
   ]
  },
  {
   "cell_type": "code",
   "execution_count": 52,
   "id": "db4d03bb-3491-4341-940d-3036ba1c7953",
   "metadata": {},
   "outputs": [
    {
     "data": {
      "text/html": [
       "<div>\n",
       "<style scoped>\n",
       "    .dataframe tbody tr th:only-of-type {\n",
       "        vertical-align: middle;\n",
       "    }\n",
       "\n",
       "    .dataframe tbody tr th {\n",
       "        vertical-align: top;\n",
       "    }\n",
       "\n",
       "    .dataframe thead th {\n",
       "        text-align: right;\n",
       "    }\n",
       "</style>\n",
       "<table border=\"1\" class=\"dataframe\">\n",
       "  <thead>\n",
       "    <tr style=\"text-align: right;\">\n",
       "      <th></th>\n",
       "      <th>neg</th>\n",
       "      <th>neu</th>\n",
       "      <th>pos</th>\n",
       "      <th>compound</th>\n",
       "      <th>text</th>\n",
       "      <th>class</th>\n",
       "    </tr>\n",
       "  </thead>\n",
       "  <tbody>\n",
       "    <tr>\n",
       "      <th>4</th>\n",
       "      <td>0.410</td>\n",
       "      <td>0.360</td>\n",
       "      <td>0.230</td>\n",
       "      <td>-0.3612</td>\n",
       "      <td>CBS Sitcoms Under Fire For Using Prison Laughter</td>\n",
       "      <td>1</td>\n",
       "    </tr>\n",
       "    <tr>\n",
       "      <th>8</th>\n",
       "      <td>0.159</td>\n",
       "      <td>0.691</td>\n",
       "      <td>0.150</td>\n",
       "      <td>-0.0516</td>\n",
       "      <td>Man Waiting Until Parents Die Before Doing A S...</td>\n",
       "      <td>1</td>\n",
       "    </tr>\n",
       "    <tr>\n",
       "      <th>9</th>\n",
       "      <td>0.756</td>\n",
       "      <td>0.244</td>\n",
       "      <td>0.000</td>\n",
       "      <td>-0.9081</td>\n",
       "      <td>Victim In Fatal Accident Tragically Not Glenn ...</td>\n",
       "      <td>1</td>\n",
       "    </tr>\n",
       "    <tr>\n",
       "      <th>10</th>\n",
       "      <td>0.000</td>\n",
       "      <td>0.748</td>\n",
       "      <td>0.252</td>\n",
       "      <td>0.4019</td>\n",
       "      <td>Life: 7 Must-Own T-Shirts For Anyone With Sexu...</td>\n",
       "      <td>1</td>\n",
       "    </tr>\n",
       "    <tr>\n",
       "      <th>15</th>\n",
       "      <td>0.000</td>\n",
       "      <td>0.763</td>\n",
       "      <td>0.237</td>\n",
       "      <td>0.4767</td>\n",
       "      <td>[Classic from 1999] Hasbro Pledges Additional ...</td>\n",
       "      <td>1</td>\n",
       "    </tr>\n",
       "    <tr>\n",
       "      <th>...</th>\n",
       "      <td>...</td>\n",
       "      <td>...</td>\n",
       "      <td>...</td>\n",
       "      <td>...</td>\n",
       "      <td>...</td>\n",
       "      <td>...</td>\n",
       "    </tr>\n",
       "    <tr>\n",
       "      <th>95162</th>\n",
       "      <td>0.000</td>\n",
       "      <td>1.000</td>\n",
       "      <td>0.000</td>\n",
       "      <td>0.0000</td>\n",
       "      <td>Giuliani Demands Mueller Wrap Up Investigation...</td>\n",
       "      <td>1</td>\n",
       "    </tr>\n",
       "    <tr>\n",
       "      <th>95185</th>\n",
       "      <td>0.000</td>\n",
       "      <td>1.000</td>\n",
       "      <td>0.000</td>\n",
       "      <td>0.0000</td>\n",
       "      <td>Life: Trolling Master Class: Some Genius Prank...</td>\n",
       "      <td>1</td>\n",
       "    </tr>\n",
       "    <tr>\n",
       "      <th>95195</th>\n",
       "      <td>0.000</td>\n",
       "      <td>0.714</td>\n",
       "      <td>0.286</td>\n",
       "      <td>0.4939</td>\n",
       "      <td>Spain Holds First Annual ‘Running Of The Virus...</td>\n",
       "      <td>1</td>\n",
       "    </tr>\n",
       "    <tr>\n",
       "      <th>95213</th>\n",
       "      <td>0.000</td>\n",
       "      <td>0.898</td>\n",
       "      <td>0.102</td>\n",
       "      <td>0.1779</td>\n",
       "      <td>‘Fly, My Pretties,’ Says Jeff Bezos Releasing ...</td>\n",
       "      <td>1</td>\n",
       "    </tr>\n",
       "    <tr>\n",
       "      <th>95214</th>\n",
       "      <td>0.000</td>\n",
       "      <td>0.602</td>\n",
       "      <td>0.398</td>\n",
       "      <td>0.6808</td>\n",
       "      <td>Chicago Police Credit Their Extensive Experien...</td>\n",
       "      <td>1</td>\n",
       "    </tr>\n",
       "  </tbody>\n",
       "</table>\n",
       "<p>12805 rows × 6 columns</p>\n",
       "</div>"
      ],
      "text/plain": [
       "         neg    neu    pos  compound  \\\n",
       "4      0.410  0.360  0.230   -0.3612   \n",
       "8      0.159  0.691  0.150   -0.0516   \n",
       "9      0.756  0.244  0.000   -0.9081   \n",
       "10     0.000  0.748  0.252    0.4019   \n",
       "15     0.000  0.763  0.237    0.4767   \n",
       "...      ...    ...    ...       ...   \n",
       "95162  0.000  1.000  0.000    0.0000   \n",
       "95185  0.000  1.000  0.000    0.0000   \n",
       "95195  0.000  0.714  0.286    0.4939   \n",
       "95213  0.000  0.898  0.102    0.1779   \n",
       "95214  0.000  0.602  0.398    0.6808   \n",
       "\n",
       "                                                    text  class  \n",
       "4       CBS Sitcoms Under Fire For Using Prison Laughter      1  \n",
       "8      Man Waiting Until Parents Die Before Doing A S...      1  \n",
       "9      Victim In Fatal Accident Tragically Not Glenn ...      1  \n",
       "10     Life: 7 Must-Own T-Shirts For Anyone With Sexu...      1  \n",
       "15     [Classic from 1999] Hasbro Pledges Additional ...      1  \n",
       "...                                                  ...    ...  \n",
       "95162  Giuliani Demands Mueller Wrap Up Investigation...      1  \n",
       "95185  Life: Trolling Master Class: Some Genius Prank...      1  \n",
       "95195  Spain Holds First Annual ‘Running Of The Virus...      1  \n",
       "95213  ‘Fly, My Pretties,’ Says Jeff Bezos Releasing ...      1  \n",
       "95214  Chicago Police Credit Their Extensive Experien...      1  \n",
       "\n",
       "[12805 rows x 6 columns]"
      ]
     },
     "execution_count": 52,
     "metadata": {},
     "output_type": "execute_result"
    }
   ],
   "source": [
    "train_sia[ train_sia['class']==1 ]"
   ]
  },
  {
   "cell_type": "code",
   "execution_count": 48,
   "id": "10e8b471-f3b0-4003-ace4-e147cdfdd6de",
   "metadata": {},
   "outputs": [
    {
     "data": {
      "text/plain": [
       "LogisticRegression(n_jobs=8)"
      ]
     },
     "execution_count": 48,
     "metadata": {},
     "output_type": "execute_result"
    }
   ],
   "source": [
    "log4 = LogisticRegression(n_jobs=8)\n",
    "\n",
    "log4.fit(Xsia_train.drop(columns=['text','compound']), y_train)"
   ]
  },
  {
   "cell_type": "code",
   "execution_count": 49,
   "id": "e6315394-1e56-4e49-8c46-10761fa61756",
   "metadata": {},
   "outputs": [
    {
     "data": {
      "text/plain": [
       "(0.8655247736867531, 0.8655136565542009)"
      ]
     },
     "execution_count": 49,
     "metadata": {},
     "output_type": "execute_result"
    }
   ],
   "source": [
    "log4.score(Xsia_train.drop(columns=['text','compound']), y_train), log4.score(Xsia_test.drop(columns=['text','compound']), y_test)"
   ]
  },
  {
   "cell_type": "code",
   "execution_count": 51,
   "id": "8a8d0242-6e37-461c-ac9c-8b761b238b0b",
   "metadata": {},
   "outputs": [
    {
     "name": "stdout",
     "output_type": "stream",
     "text": [
      " \n",
      "Accuracy:  0.8655247736867531\n",
      " \n",
      "Recall:  0.0\n",
      " \n",
      "Precision:  0.0\n",
      " \n",
      "F1:  0.0\n",
      " \n"
     ]
    },
    {
     "name": "stderr",
     "output_type": "stream",
     "text": [
      "C:\\Users\\herma\\anaconda3\\lib\\site-packages\\sklearn\\metrics\\_classification.py:1318: UndefinedMetricWarning: Precision is ill-defined and being set to 0.0 due to no predicted samples. Use `zero_division` parameter to control this behavior.\n",
      "  _warn_prf(average, modifier, msg_start, len(result))\n"
     ]
    },
    {
     "data": {
      "image/png": "[encoded data removed]",
      "text/plain": [
       "<Figure size 432x288 with 2 Axes>"
      ]
     },
     "metadata": {
      "needs_background": "light"
     },
     "output_type": "display_data"
    }
   ],
   "source": [
    "verbose_eval(log4, Xsia_train.drop(columns=['text','compound']), y_train)"
   ]
  },
  {
   "cell_type": "code",
   "execution_count": null,
   "id": "a2f18872-d9cc-4233-81f7-eee7bb8dbacc",
   "metadata": {},
   "outputs": [],
   "source": []
  }
 ],
 "metadata": {
  "kernelspec": {
   "display_name": "Python 3 (ipykernel)",
   "language": "python",
   "name": "python3"
  },
  "language_info": {
   "codemirror_mode": {
    "name": "ipython",
    "version": 3
   },
   "file_extension": ".py",
   "mimetype": "text/x-python",
   "name": "python",
   "nbconvert_exporter": "python",
   "pygments_lexer": "ipython3",
   "version": "3.9.7"
  }
 },
 "nbformat": 4,
 "nbformat_minor": 5
}
