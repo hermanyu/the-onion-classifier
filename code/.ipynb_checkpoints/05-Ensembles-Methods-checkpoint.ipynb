{
 "cells": [
  {
   "cell_type": "code",
   "execution_count": 1,
   "id": "e4076335-44aa-42dc-9565-a558e87cece8",
   "metadata": {},
   "outputs": [],
   "source": [
    "import numpy as np\n",
    "import pandas as pd\n",
    "import matplotlib.pyplot as plt\n",
    "import seaborn as sns\n",
    "import re\n",
    "from collections import Counter\n",
    "import joblib\n",
    "\n",
    "from sklearn.tree import DecisionTreeClassifier\n",
    "from sklearn.ensemble import RandomForestClassifier, ExtraTreesClassifier, BaggingClassifier, AdaBoostClassifier, GradientBoostingClassifier, VotingClassifier\n",
    "\n",
    "from sklearn.metrics import confusion_matrix, ConfusionMatrixDisplay, recall_score, precision_score, plot_roc_curve, roc_auc_score\n",
    "from sklearn.model_selection import train_test_split, GridSearchCV\n",
    "from sklearn.pipeline import Pipeline\n",
    "from sklearn.preprocessing import StandardScaler, FunctionTransformer\n",
    "from sklearn.metrics import confusion_matrix, ConfusionMatrixDisplay, recall_score, precision_score, f1_score, plot_roc_curve, roc_auc_score, accuracy_score\n",
    "\n",
    "from sklearn.feature_extraction.text import CountVectorizer, TfidfVectorizer\n",
    "\n",
    "from imblearn.over_sampling import RandomOverSampler\n",
    "\n",
    "from nltk.tokenize import sent_tokenize, word_tokenize, RegexpTokenizer\n",
    "from nltk.stem import WordNetLemmatizer\n",
    "from nltk.stem.porter import PorterStemmer\n",
    "from nltk.corpus import stopwords\n",
    "\n",
    "\n",
    "import thor"
   ]
  },
  {
   "cell_type": "code",
   "execution_count": 2,
   "id": "286b8f7c-c769-4307-ace5-be2430cf57e8",
   "metadata": {},
   "outputs": [],
   "source": [
    "train = pd.read_csv('../data/total_train.csv')\n",
    "\n",
    "news_sample_train = train[ train['class'] == 0].iloc[0:10_000]\n",
    "onion_sample_train = train[ train['class'] == 1].iloc[0:10_000]\n",
    "\n",
    "\n",
    "balanced_train = pd.concat([news_sample_train, onion_sample_train]).reset_index(drop=True)\n",
    "\n",
    "X = balanced_train['title']\n",
    "y = balanced_train['class']\n",
    "\n",
    "X_train, X_test, y_train, y_test = train_test_split(X, y, stratify = y, test_size=0.3, random_state=42)"
   ]
  },
  {
   "cell_type": "code",
   "execution_count": 3,
   "id": "43850e78-e087-4b1b-925b-e4c23fcc78da",
   "metadata": {},
   "outputs": [
    {
     "data": {
      "text/plain": [
       "(14000,)"
      ]
     },
     "execution_count": 3,
     "metadata": {},
     "output_type": "execute_result"
    }
   ],
   "source": [
    "X_train.shape"
   ]
  },
  {
   "cell_type": "markdown",
   "id": "cef05088-54bd-4058-9327-6fda543b7641",
   "metadata": {},
   "source": [
    "--- \n",
    "\n",
    "# Bagging: The Method Bootstrapped Models"
   ]
  },
  {
   "cell_type": "code",
   "execution_count": 4,
   "id": "b8f5e320-050d-4c28-bc63-a44f90db2c51",
   "metadata": {},
   "outputs": [],
   "source": [
    "# pipe1 = Pipeline([\n",
    "#             ('cvec', TfidfVectorizer(max_df=0.3)),\n",
    "#             ('bag', BaggingClassifier(base_estimator=DecisionTreeClassifier(max_depth=20), n_estimators = 100))\n",
    "#         ])\n",
    "\n",
    "\n",
    "# pipe1_params = {\n",
    "#             'cvec__ngram_range': [(1,2)],\n",
    "#             'bag__base_estimator__max_depth': [35],\n",
    "#             'bag__n_estimators': [100, 200]\n",
    "#             }\n",
    "\n",
    "# bag_trees = GridSearchCV(pipe1, pipe1_params, cv=5, n_jobs=6)\n",
    "\n",
    "# bag_trees.fit(X_train, y_train)\n",
    "\n",
    "# joblib.dump(bag_trees, '../models/bag-300trees.pkl')\n",
    "\n",
    "bag_trees = joblib.load('../models/bag-300trees.pkl')"
   ]
  },
  {
   "cell_type": "code",
   "execution_count": 5,
   "id": "698ec8d1-c0ea-407d-9d44-f3f71655d228",
   "metadata": {},
   "outputs": [
    {
     "data": {
      "text/plain": [
       "(0.8493571428571428, 0.7226666666666667)"
      ]
     },
     "execution_count": 5,
     "metadata": {},
     "output_type": "execute_result"
    }
   ],
   "source": [
    "bag_trees.score(X_train, y_train), bag_trees.score(X_test, y_test)"
   ]
  },
  {
   "cell_type": "code",
   "execution_count": 6,
   "id": "5718cd79-296f-48f6-99b5-f369d21ef945",
   "metadata": {},
   "outputs": [
    {
     "data": {
      "text/plain": [
       "{'bag__base_estimator__max_depth': 35,\n",
       " 'bag__n_estimators': 100,\n",
       " 'cvec__ngram_range': (1, 2)}"
      ]
     },
     "execution_count": 6,
     "metadata": {},
     "output_type": "execute_result"
    }
   ],
   "source": [
    "bag_trees.best_params_"
   ]
  },
  {
   "cell_type": "code",
   "execution_count": 7,
   "id": "1f61720f-26fc-46c7-8bfa-0961f36ae337",
   "metadata": {},
   "outputs": [
    {
     "name": "stdout",
     "output_type": "stream",
     "text": [
      "Accuracy:  0.7226666666666667\n",
      " \n",
      "Recall:  0.6346666666666667\n",
      " \n",
      "Precision:  0.7702265372168284\n",
      " \n",
      "F1:  0.695906432748538\n"
     ]
    },
    {
     "name": "stderr",
     "output_type": "stream",
     "text": [
      "C:\\Users\\herma\\anaconda3\\envs\\tf-gpu\\lib\\site-packages\\sklearn\\utils\\deprecation.py:87: FutureWarning: Function plot_roc_curve is deprecated; Function :func:`plot_roc_curve` is deprecated in 1.0 and will be removed in 1.2. Use one of the class methods: :meth:`sklearn.metric.RocCurveDisplay.from_predictions` or :meth:`sklearn.metric.RocCurveDisplay.from_estimator`.\n",
      "  warnings.warn(msg, category=FutureWarning)\n"
     ]
    },
    {
     "data": {
      "image/png": "[encoded data removed]",
      "text/plain": [
       "<Figure size 432x288 with 1 Axes>"
      ]
     },
     "metadata": {
      "needs_background": "light"
     },
     "output_type": "display_data"
    }
   ],
   "source": [
    "preds = bag_trees.predict(X_test)\n",
    "\n",
    "print(\"Accuracy: \", accuracy_score(y_test, preds))\n",
    "print(\" \")\n",
    "print(\"Recall: \", recall_score(y_test, preds))\n",
    "print(\" \")\n",
    "print(\"Precision: \", precision_score(y_test, preds))\n",
    "print(\" \")\n",
    "print(\"F1: \", f1_score(y_test, preds))\n",
    "\n",
    "#plot roc curve\n",
    "plot_roc_curve(bag_trees, X_test, y_test);\n",
    "\n",
    "plt.plot([0,1],[0,1], linestyle='--', color='red', label='baseline');\n",
    "plt.legend();"
   ]
  },
  {
   "cell_type": "code",
   "execution_count": null,
   "id": "1825c737-9c78-4610-b3e9-7738409a4cb3",
   "metadata": {},
   "outputs": [],
   "source": []
  },
  {
   "cell_type": "markdown",
   "id": "14805fa9-5066-43e1-88f0-d34ee5d9ea48",
   "metadata": {},
   "source": [
    "---\n",
    "\n",
    "# Random Forest: The Method of Parallel Evolution"
   ]
  },
  {
   "cell_type": "code",
   "execution_count": 8,
   "id": "bd8b2946-caf4-4bcb-874d-9310bc6ab554",
   "metadata": {},
   "outputs": [],
   "source": [
    "pipe2 = Pipeline([\n",
    "            ('cvec', TfidfVectorizer(max_df=0.3, ngram_range=(1,3))),\n",
    "            ('rf', RandomForestClassifier())\n",
    "        ])\n",
    "\n",
    "forest_params = {\n",
    "            'rf__n_estimators':[200, 300],\n",
    "            'rf__max_depth':[20, 30, 50],\n",
    "            'rf__min_samples_leaf':[1,4, 10]\n",
    "        }"
   ]
  },
  {
   "cell_type": "code",
   "execution_count": 9,
   "id": "8a5e2ad2-96f7-4661-8b1a-3fe7b49bf1c1",
   "metadata": {},
   "outputs": [],
   "source": [
    "# forest = GridSearchCV(pipe2, forest_params, cv=5, n_jobs=8)\n",
    "\n",
    "# forest.fit(X_train, y_train)\n",
    "\n",
    "# joblib.dump(forest, '../models/forest.pkl')\n",
    "\n",
    "forest = joblib.load('../models/forest.pkl')"
   ]
  },
  {
   "cell_type": "code",
   "execution_count": 10,
   "id": "9b889be8-b571-4ef6-be27-e34c3ccf558e",
   "metadata": {},
   "outputs": [
    {
     "data": {
      "text/plain": [
       "(0.9122857142857143, 0.793)"
      ]
     },
     "execution_count": 10,
     "metadata": {},
     "output_type": "execute_result"
    }
   ],
   "source": [
    "forest.score(X_train, y_train), forest.score(X_test, y_test)"
   ]
  },
  {
   "cell_type": "code",
   "execution_count": 11,
   "id": "1f015754-d13f-4faa-8d14-5a34c7a2cdd9",
   "metadata": {},
   "outputs": [
    {
     "data": {
      "text/plain": [
       "{'rf__max_depth': 50, 'rf__min_samples_leaf': 1, 'rf__n_estimators': 300}"
      ]
     },
     "execution_count": 11,
     "metadata": {},
     "output_type": "execute_result"
    }
   ],
   "source": [
    "forest.best_params_"
   ]
  },
  {
   "cell_type": "code",
   "execution_count": 12,
   "id": "f28df39b-4814-42a2-a49b-e134c694b440",
   "metadata": {},
   "outputs": [
    {
     "name": "stdout",
     "output_type": "stream",
     "text": [
      "Accuracy:  0.793\n",
      " \n",
      "Recall:  0.7283333333333334\n",
      " \n",
      "Precision:  0.8365237366003063\n",
      " \n",
      "F1:  0.778688524590164\n"
     ]
    },
    {
     "name": "stderr",
     "output_type": "stream",
     "text": [
      "C:\\Users\\herma\\anaconda3\\envs\\tf-gpu\\lib\\site-packages\\sklearn\\utils\\deprecation.py:87: FutureWarning: Function plot_roc_curve is deprecated; Function :func:`plot_roc_curve` is deprecated in 1.0 and will be removed in 1.2. Use one of the class methods: :meth:`sklearn.metric.RocCurveDisplay.from_predictions` or :meth:`sklearn.metric.RocCurveDisplay.from_estimator`.\n",
      "  warnings.warn(msg, category=FutureWarning)\n"
     ]
    },
    {
     "data": {
      "image/png": "[encoded data removed]",
      "text/plain": [
       "<Figure size 432x288 with 1 Axes>"
      ]
     },
     "metadata": {
      "needs_background": "light"
     },
     "output_type": "display_data"
    }
   ],
   "source": [
    "preds = forest.predict(X_test)\n",
    "\n",
    "print(\"Accuracy: \", accuracy_score(y_test, preds))\n",
    "print(\" \")\n",
    "print(\"Recall: \", recall_score(y_test, preds))\n",
    "print(\" \")\n",
    "print(\"Precision: \", precision_score(y_test, preds))\n",
    "print(\" \")\n",
    "print(\"F1: \", f1_score(y_test, preds))\n",
    "\n",
    "plot_roc_curve(forest, X_test, y_test);\n",
    "\n",
    "plt.plot([0,1],[0,1], linestyle='--', color='red', label='baseline');\n",
    "\n",
    "plt.legend();"
   ]
  },
  {
   "cell_type": "markdown",
   "id": "af8b7d29-0307-4576-b3cf-1649bc01dd1a",
   "metadata": {},
   "source": [
    "---\n",
    "\n",
    "# AdaBoost: The Method of Division of Labor"
   ]
  },
  {
   "cell_type": "code",
   "execution_count": 13,
   "id": "e1054ebc-2fe0-4ff7-b1df-c2b3fd038dc2",
   "metadata": {},
   "outputs": [],
   "source": [
    "pipe3 = Pipeline([\n",
    "            ('cvec',TfidfVectorizer(max_df=0.3, ngram_range=(1,3))),\n",
    "            ('ada',AdaBoostClassifier(base_estimator=DecisionTreeClassifier()))\n",
    "        ])\n",
    "\n",
    "ada_params = {\n",
    "        'ada__base_estimator__max_depth':[5, 10, 20],\n",
    "        'ada__n_estimators':[200],\n",
    "    }"
   ]
  },
  {
   "cell_type": "code",
   "execution_count": 14,
   "id": "c0392fb6-ed3b-413f-b3fe-06ed01da5c67",
   "metadata": {},
   "outputs": [],
   "source": [
    "ada = GridSearchCV(pipe3, ada_params, cv=5, n_jobs=8)\n",
    "\n",
    "ada.fit(X_train, y_train)\n",
    "\n",
    "joblib.dump(ada, '../models/ada.pkl')\n",
    "\n",
    "ada = joblib.load('../models/ada.pkl')"
   ]
  },
  {
   "cell_type": "code",
   "execution_count": 15,
   "id": "328b6326-0088-4f39-829d-2f5ea0b46e24",
   "metadata": {},
   "outputs": [
    {
     "data": {
      "text/plain": [
       "(0.9835714285714285, 0.7191666666666666)"
      ]
     },
     "execution_count": 15,
     "metadata": {},
     "output_type": "execute_result"
    }
   ],
   "source": [
    "ada.score(X_train, y_train), ada.score(X_test, y_test)"
   ]
  },
  {
   "cell_type": "code",
   "execution_count": 16,
   "id": "634dddec-36a9-4eb0-8466-da1f22f95a92",
   "metadata": {},
   "outputs": [
    {
     "data": {
      "text/plain": [
       "{'ada__base_estimator__max_depth': 5, 'ada__n_estimators': 200}"
      ]
     },
     "execution_count": 16,
     "metadata": {},
     "output_type": "execute_result"
    }
   ],
   "source": [
    "ada.best_params_"
   ]
  },
  {
   "cell_type": "code",
   "execution_count": 17,
   "id": "9f9cf8f4-1420-41f9-8720-d3d14318aab9",
   "metadata": {},
   "outputs": [
    {
     "name": "stdout",
     "output_type": "stream",
     "text": [
      "Accuracy:  0.7191666666666666\n",
      " \n",
      "Recall:  0.722\n",
      " \n",
      "Precision:  0.7179317202519059\n",
      " \n",
      "F1:  0.7199601130131296\n"
     ]
    },
    {
     "name": "stderr",
     "output_type": "stream",
     "text": [
      "C:\\Users\\herma\\anaconda3\\envs\\tf-gpu\\lib\\site-packages\\sklearn\\utils\\deprecation.py:87: FutureWarning: Function plot_roc_curve is deprecated; Function :func:`plot_roc_curve` is deprecated in 1.0 and will be removed in 1.2. Use one of the class methods: :meth:`sklearn.metric.RocCurveDisplay.from_predictions` or :meth:`sklearn.metric.RocCurveDisplay.from_estimator`.\n",
      "  warnings.warn(msg, category=FutureWarning)\n"
     ]
    },
    {
     "data": {
      "image/png": "[encoded data removed]",
      "text/plain": [
       "<Figure size 432x288 with 1 Axes>"
      ]
     },
     "metadata": {
      "needs_background": "light"
     },
     "output_type": "display_data"
    }
   ],
   "source": [
    "preds = ada.predict(X_test)\n",
    "\n",
    "print(\"Accuracy: \", accuracy_score(y_test, preds))\n",
    "print(\" \")\n",
    "print(\"Recall: \", recall_score(y_test, preds))\n",
    "print(\" \")\n",
    "print(\"Precision: \", precision_score(y_test, preds))\n",
    "print(\" \")\n",
    "print(\"F1: \", f1_score(y_test, preds))\n",
    "\n",
    "plot_roc_curve(ada, X_test, y_test);\n",
    "\n",
    "plt.plot([0,1],[0,1], linestyle='--', color='red', label='baseline');\n",
    "\n",
    "plt.legend();"
   ]
  },
  {
   "cell_type": "markdown",
   "id": "006bcaa6-28c4-47e3-92f0-1c2e14edbff9",
   "metadata": {},
   "source": [
    "---\n",
    "\n",
    "# Gradient Boost: The Method of Successors"
   ]
  },
  {
   "cell_type": "code",
   "execution_count": 18,
   "id": "edb4c052-fff4-465b-b387-086a24105fbc",
   "metadata": {},
   "outputs": [],
   "source": [
    "pipe4 = Pipeline([\n",
    "            ('cvec', TfidfVectorizer(max_df=0.3, ngram_range=(1,3))),\n",
    "            ('grad', GradientBoostingClassifier()),\n",
    "        ])\n",
    "\n",
    "grad_params = {\n",
    "                'grad__n_estimators':[150, 200],\n",
    "                'grad__max_depth':[5, 10, 20]\n",
    "                }"
   ]
  },
  {
   "cell_type": "code",
   "execution_count": 19,
   "id": "63aa5c3d-b52d-4942-b7a5-edada72abbe2",
   "metadata": {},
   "outputs": [],
   "source": [
    "grad = GridSearchCV(pipe4, grad_params, cv=5, n_jobs=8)\n",
    "\n",
    "grad.fit(X_train, y_train)\n",
    "\n",
    "joblib.dump(grad, '../models/grad.pkl')\n",
    "\n",
    "grad = joblib.load('../models/grad.pkl')"
   ]
  },
  {
   "cell_type": "code",
   "execution_count": 20,
   "id": "a6d2a0f3-b0e6-463e-9f10-9935c305803d",
   "metadata": {},
   "outputs": [
    {
     "data": {
      "text/plain": [
       "(0.9295, 0.7843333333333333)"
      ]
     },
     "execution_count": 20,
     "metadata": {},
     "output_type": "execute_result"
    }
   ],
   "source": [
    "grad.score(X_train, y_train), grad.score(X_test, y_test)"
   ]
  },
  {
   "cell_type": "code",
   "execution_count": 21,
   "id": "4fd01015-d833-4b36-bba0-e2eb29614d55",
   "metadata": {},
   "outputs": [
    {
     "data": {
      "text/plain": [
       "{'grad__max_depth': 10, 'grad__n_estimators': 200}"
      ]
     },
     "execution_count": 21,
     "metadata": {},
     "output_type": "execute_result"
    }
   ],
   "source": [
    "grad.best_params_"
   ]
  },
  {
   "cell_type": "code",
   "execution_count": 22,
   "id": "5ffbbaf6-3654-4eed-9b1f-1fa281389802",
   "metadata": {},
   "outputs": [
    {
     "name": "stdout",
     "output_type": "stream",
     "text": [
      "Accuracy:  0.7843333333333333\n",
      " \n",
      "Recall:  0.7553333333333333\n",
      " \n",
      "Precision:  0.8018400566171267\n",
      " \n",
      "F1:  0.7778922073463782\n"
     ]
    },
    {
     "name": "stderr",
     "output_type": "stream",
     "text": [
      "C:\\Users\\herma\\anaconda3\\envs\\tf-gpu\\lib\\site-packages\\sklearn\\utils\\deprecation.py:87: FutureWarning: Function plot_roc_curve is deprecated; Function :func:`plot_roc_curve` is deprecated in 1.0 and will be removed in 1.2. Use one of the class methods: :meth:`sklearn.metric.RocCurveDisplay.from_predictions` or :meth:`sklearn.metric.RocCurveDisplay.from_estimator`.\n",
      "  warnings.warn(msg, category=FutureWarning)\n"
     ]
    },
    {
     "data": {
      "image/png": "[encoded data removed]",
      "text/plain": [
       "<Figure size 432x288 with 1 Axes>"
      ]
     },
     "metadata": {
      "needs_background": "light"
     },
     "output_type": "display_data"
    }
   ],
   "source": [
    "preds = grad.predict(X_test)\n",
    "\n",
    "print(\"Accuracy: \", accuracy_score(y_test, preds))\n",
    "print(\" \")\n",
    "print(\"Recall: \", recall_score(y_test, preds))\n",
    "print(\" \")\n",
    "print(\"Precision: \", precision_score(y_test, preds))\n",
    "print(\" \")\n",
    "print(\"F1: \", f1_score(y_test, preds))\n",
    "\n",
    "plot_roc_curve(grad, X_test, y_test);\n",
    "\n",
    "plt.plot([0,1],[0,1], linestyle='--', color='red', label='baseline');\n",
    "\n",
    "plt.legend();"
   ]
  },
  {
   "cell_type": "markdown",
   "id": "e51355e2-6822-415c-9413-6e3ab5d12c5e",
   "metadata": {},
   "source": [
    "---\n",
    "\n",
    "# Voting Classifiers: The Method of the Marvel Cinematic Universe"
   ]
  },
  {
   "cell_type": "code",
   "execution_count": 28,
   "id": "7e3ba423-9375-41b2-a88a-fdcae94144bb",
   "metadata": {},
   "outputs": [],
   "source": [
    "def assemble(ensemble, data):\n",
    "    preds = {}\n",
    "    for estimator in ensemble:\n",
    "        preds[estimator[0]]=pd.Series([ans[1] for ans in estimator[1].predict_proba(data)])\n",
    "\n",
    "    ensemble_preds = pd.DataFrame(preds)\n",
    "    ensemble_preds['ensemble'] = ensemble_preds.sum(axis=1)/len(ensemble)\n",
    "        \n",
    "    return ensemble_preds\n",
    "\n",
    "def vote(ensemble, data, threshold=0.5):\n",
    "    preds = assemble(ensemble, data)['ensemble'].map(lambda x: 1 if x>=threshold else 0)\n",
    "    \n",
    "    return preds\n",
    "    \n"
   ]
  },
  {
   "cell_type": "code",
   "execution_count": 29,
   "id": "409ad4fd-3e57-4dd2-bbe2-af829a47309e",
   "metadata": {},
   "outputs": [],
   "source": [
    "avengers = [\n",
    "        ('bag_tree', bag_trees),\n",
    "        ('random_forest', forest),\n",
    "        ('adaboost', ada),\n",
    "        ('gradientboost', grad)\n",
    "    ]\n",
    "\n",
    "ensemble_preds = vote(avengers, X_test)"
   ]
  },
  {
   "cell_type": "code",
   "execution_count": 30,
   "id": "412d5e97-e119-4202-89c9-3b3b9f975f4c",
   "metadata": {},
   "outputs": [
    {
     "data": {
      "text/plain": [
       "0.782"
      ]
     },
     "execution_count": 30,
     "metadata": {},
     "output_type": "execute_result"
    }
   ],
   "source": [
    "accuracy_score(y_test, ensemble_preds)"
   ]
  },
  {
   "cell_type": "code",
   "execution_count": null,
   "id": "7bb3e735-57ec-4669-af18-b191bc0f365d",
   "metadata": {},
   "outputs": [],
   "source": []
  },
  {
   "cell_type": "code",
   "execution_count": null,
   "id": "e37c05c5-848a-4901-b40b-dc49e611e0c5",
   "metadata": {},
   "outputs": [],
   "source": []
  },
  {
   "cell_type": "code",
   "execution_count": null,
   "id": "437ab219-f7ed-455a-acf0-8f3f0b65b6ce",
   "metadata": {},
   "outputs": [],
   "source": []
  },
  {
   "cell_type": "code",
   "execution_count": null,
   "id": "7c3f77f7-3934-4c10-938d-3bf55ea2e6bc",
   "metadata": {},
   "outputs": [],
   "source": []
  },
  {
   "cell_type": "code",
   "execution_count": null,
   "id": "c8b5e25f-be08-467a-883f-a8d7ab597695",
   "metadata": {},
   "outputs": [],
   "source": []
  },
  {
   "cell_type": "code",
   "execution_count": null,
   "id": "74f41dcb-429d-444c-adc1-1acec76a1b22",
   "metadata": {},
   "outputs": [],
   "source": []
  },
  {
   "cell_type": "code",
   "execution_count": null,
   "id": "49353285-8b5f-4abb-8fe0-5e37536074db",
   "metadata": {},
   "outputs": [],
   "source": []
  },
  {
   "cell_type": "code",
   "execution_count": null,
   "id": "4a766f73-5591-4a81-8675-373934199f75",
   "metadata": {},
   "outputs": [],
   "source": []
  }
 ],
 "metadata": {
  "kernelspec": {
   "display_name": "Python 3 (ipykernel)",
   "language": "python",
   "name": "python3"
  },
  "language_info": {
   "codemirror_mode": {
    "name": "ipython",
    "version": 3
   },
   "file_extension": ".py",
   "mimetype": "text/x-python",
   "name": "python",
   "nbconvert_exporter": "python",
   "pygments_lexer": "ipython3",
   "version": "3.9.7"
  }
 },
 "nbformat": 4,
 "nbformat_minor": 5
}
