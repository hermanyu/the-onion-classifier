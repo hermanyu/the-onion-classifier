{
 "cells": [
  {
   "cell_type": "markdown",
   "id": "4f6063f8-416e-4d79-858c-307aa117cd0f",
   "metadata": {},
   "source": [
    "# Real News vs The Onion\n",
    "\n",
    "This project aims to investigate the possibility of using machine learning to train a discriminator to correctly identify real versus fake news headlines. As stated, the scope of this project is rather broad and ambitious so we offer a much more reasonable sub-problem: create a machine learning model which can classify posts from ```r/news``` against those from ```r/TheOnion``` using only the post titles alone.\n",
    "\n",
    "For the purposes of accomplishing this goal, we attempted to scrape 100,000 posts from each subreddit. While we were successfully able to scrape 100,000 posts from ```r/news```, our webscraper only returned approximately 17,000 posts from ```r/TheOnion```. Cleaning the data involved purging duplicate titles and non-ASCII encoded titles; the reader may check this process in the ```data-prep.ipynb``` notebook. After this cleaning process, we were left with a training set of approximately 80,000 posts: 70,000 from ```r/news``` and 10,000 from ```r/TheOnion```. Once a final model has been selected from amongst all of our models, we will evaluate its performance on 9,000 posts which we hold in reserve.\n",
    "\n",
    "We should remark here: our webscraper collected the data sequentially by creation time. Thus posts were scraped based on how recently they were created. Most of the posts we scraped from ```r/news``` thus were posts from either the past few months or the past year. Thus it is highly likely that many of the posts from ```r/news``` have a recency bias in terms of topics, word appearances, and references. This is important to keep in mind any results using word frequency modelling might require further training on an older dataset of news headlines.\n",
    "\n",
    "Let us begin with some exploratory data analysis."
   ]
  },
  {
   "cell_type": "code",
   "execution_count": 1,
   "id": "465efb44-4382-4c82-a436-dec96bd76c22",
   "metadata": {},
   "outputs": [],
   "source": [
    "import numpy as np\n",
    "import pandas as pd\n",
    "import matplotlib.pyplot as plt\n",
    "import seaborn as sns\n",
    "import re\n",
    "from collections import Counter\n",
    "\n",
    "from sklearn.feature_extraction.text import CountVectorizer, TfidfVectorizer\n",
    "\n",
    "from nltk.tokenize import sent_tokenize, word_tokenize, RegexpTokenizer\n",
    "from nltk.stem import WordNetLemmatizer\n",
    "from nltk.stem.porter import PorterStemmer\n",
    "from nltk.corpus import stopwords\n",
    "from nltk.sentiment.vader import SentimentIntensityAnalyzer\n",
    "\n",
    "import thor\n",
    "\n",
    "import warnings\n",
    "warnings.filterwarnings('ignore')"
   ]
  },
  {
   "cell_type": "code",
   "execution_count": 2,
   "id": "321f00b7-ac5d-491c-bc77-2740f2f806e4",
   "metadata": {},
   "outputs": [
    {
     "data": {
      "text/plain": [
       "(8926, 3)"
      ]
     },
     "execution_count": 2,
     "metadata": {},
     "output_type": "execute_result"
    }
   ],
   "source": [
    "train = pd.read_csv('../data/total_train.csv')[['title', 'class']]\n",
    "\n",
    "test = pd.read_csv('../data/total_test.csv')\n",
    "\n",
    "test.shape"
   ]
  },
  {
   "cell_type": "markdown",
   "id": "dc9bbaa1-a739-4f02-90b3-1404cdb31c7f",
   "metadata": {},
   "source": [
    "- Let's lower case all the words to make counting and parsing easier."
   ]
  },
  {
   "cell_type": "code",
   "execution_count": 3,
   "id": "ce77064a-b51a-4b52-8acd-fb94b62ef2b8",
   "metadata": {},
   "outputs": [],
   "source": [
    "train['title'] = train['title'].str.lower()"
   ]
  },
  {
   "cell_type": "code",
   "execution_count": 4,
   "id": "b0b10dfb-99ed-48da-be83-0320997a30cc",
   "metadata": {},
   "outputs": [
    {
     "data": {
      "text/plain": [
       "(80329, 2)"
      ]
     },
     "execution_count": 4,
     "metadata": {},
     "output_type": "execute_result"
    }
   ],
   "source": [
    "# take a look at the size of the data\n",
    "train.shape"
   ]
  },
  {
   "cell_type": "markdown",
   "id": "abf184ec-6095-4406-871b-b503ec09142c",
   "metadata": {},
   "source": [
    "- So we have 80,000 news headlines gathered from ```r/news``` and ```r/TheOnion```.\n",
    "- Let's also take a look at the class sizes and see what kind of baseline accuracy we should expect from our models."
   ]
  },
  {
   "cell_type": "code",
   "execution_count": 5,
   "id": "8a538000-db74-43b7-824d-cbfe0c78aed3",
   "metadata": {},
   "outputs": [
    {
     "data": {
      "text/plain": [
       "0    0.873196\n",
       "1    0.126804\n",
       "Name: class, dtype: float64"
      ]
     },
     "execution_count": 5,
     "metadata": {},
     "output_type": "execute_result"
    }
   ],
   "source": [
    "train['class'].value_counts(normalize=True)"
   ]
  },
  {
   "cell_type": "markdown",
   "id": "cd7fbd06-3ed1-48f1-b61e-c6270f65b6f6",
   "metadata": {},
   "source": [
    "- We have an imbalance between the classes: ```r/news``` posts outnumber ```r/TheOnion``` posts at a ratio of more than 7:1.\n",
    "- This imbalance may or may not exist in the real world, but since we do not have the expertise to decide this, we keep the data as-is and treat this as an imbalanced class problem."
   ]
  },
  {
   "cell_type": "code",
   "execution_count": 6,
   "id": "aaa423d1-1a54-4a2c-ba22-055ec32854b4",
   "metadata": {},
   "outputs": [],
   "source": [
    "# Remove Stop words\n",
    "stops = set(stopwords.words('english'))\n",
    "\n",
    "cleaned = thor.tokenize(train['title']).map(lambda x: ' '.join([word for word in x if word not in stops]))"
   ]
  },
  {
   "cell_type": "code",
   "execution_count": 7,
   "id": "019cbbc8-4125-4a86-a1b7-e5cb6732e2bc",
   "metadata": {},
   "outputs": [
    {
     "data": {
      "text/html": [
       "<div>\n",
       "<style scoped>\n",
       "    .dataframe tbody tr th:only-of-type {\n",
       "        vertical-align: middle;\n",
       "    }\n",
       "\n",
       "    .dataframe tbody tr th {\n",
       "        vertical-align: top;\n",
       "    }\n",
       "\n",
       "    .dataframe thead th {\n",
       "        text-align: right;\n",
       "    }\n",
       "</style>\n",
       "<table border=\"1\" class=\"dataframe\">\n",
       "  <thead>\n",
       "    <tr style=\"text-align: right;\">\n",
       "      <th></th>\n",
       "      <th>title</th>\n",
       "      <th>class</th>\n",
       "    </tr>\n",
       "  </thead>\n",
       "  <tbody>\n",
       "    <tr>\n",
       "      <th>0</th>\n",
       "      <td>sheriff office removes photo santa filling gun...</td>\n",
       "      <td>0</td>\n",
       "    </tr>\n",
       "    <tr>\n",
       "      <th>1</th>\n",
       "      <td>library lets borrow people instead books may h...</td>\n",
       "      <td>0</td>\n",
       "    </tr>\n",
       "    <tr>\n",
       "      <th>2</th>\n",
       "      <td>russian elements infiltrated every element eur...</td>\n",
       "      <td>0</td>\n",
       "    </tr>\n",
       "    <tr>\n",
       "      <th>3</th>\n",
       "      <td>drivers left alive go final nascar race season</td>\n",
       "      <td>1</td>\n",
       "    </tr>\n",
       "    <tr>\n",
       "      <th>4</th>\n",
       "      <td>happens ukraine since 2015</td>\n",
       "      <td>0</td>\n",
       "    </tr>\n",
       "  </tbody>\n",
       "</table>\n",
       "</div>"
      ],
      "text/plain": [
       "                                               title  class\n",
       "0  sheriff office removes photo santa filling gun...      0\n",
       "1  library lets borrow people instead books may h...      0\n",
       "2  russian elements infiltrated every element eur...      0\n",
       "3     drivers left alive go final nascar race season      1\n",
       "4                         happens ukraine since 2015      0"
      ]
     },
     "execution_count": 7,
     "metadata": {},
     "output_type": "execute_result"
    }
   ],
   "source": [
    "cleaned = pd.concat([cleaned, train['class']], axis=1)\n",
    "\n",
    "cleaned.head()"
   ]
  },
  {
   "cell_type": "markdown",
   "id": "1bbad306-a05b-42c5-80a1-83c727f91695",
   "metadata": {},
   "source": [
    "---\n",
    "\n",
    "# Word Frequencies"
   ]
  },
  {
   "cell_type": "code",
   "execution_count": 8,
   "id": "7db398ff-57d0-49f2-b40b-3d69bf9dac1e",
   "metadata": {},
   "outputs": [],
   "source": [
    "# split the real news headlines from the onion headlines\n",
    "news = cleaned[ cleaned['class'] == 0 ]\n",
    "onion = cleaned[ cleaned['class'] == 1 ]"
   ]
  },
  {
   "cell_type": "code",
   "execution_count": 9,
   "id": "1d5639a3-a99b-4db7-a235-82b586a52c5b",
   "metadata": {},
   "outputs": [
    {
     "data": {
      "text/html": [
       "<div>\n",
       "<style scoped>\n",
       "    .dataframe tbody tr th:only-of-type {\n",
       "        vertical-align: middle;\n",
       "    }\n",
       "\n",
       "    .dataframe tbody tr th {\n",
       "        vertical-align: top;\n",
       "    }\n",
       "\n",
       "    .dataframe thead th {\n",
       "        text-align: right;\n",
       "    }\n",
       "</style>\n",
       "<table border=\"1\" class=\"dataframe\">\n",
       "  <thead>\n",
       "    <tr style=\"text-align: right;\">\n",
       "      <th></th>\n",
       "      <th>title</th>\n",
       "      <th>class</th>\n",
       "    </tr>\n",
       "  </thead>\n",
       "  <tbody>\n",
       "    <tr>\n",
       "      <th>3</th>\n",
       "      <td>drivers left alive go final nascar race season</td>\n",
       "      <td>1</td>\n",
       "    </tr>\n",
       "    <tr>\n",
       "      <th>8</th>\n",
       "      <td>said find ruth bader ginsburg phil knight rond...</td>\n",
       "      <td>1</td>\n",
       "    </tr>\n",
       "    <tr>\n",
       "      <th>33</th>\n",
       "      <td>trump insists never thought firing mueller fee...</td>\n",
       "      <td>1</td>\n",
       "    </tr>\n",
       "    <tr>\n",
       "      <th>41</th>\n",
       "      <td>post video facebook let friends know officiall...</td>\n",
       "      <td>1</td>\n",
       "    </tr>\n",
       "    <tr>\n",
       "      <th>50</th>\n",
       "      <td>immigrant children terrified ghastly visage la...</td>\n",
       "      <td>1</td>\n",
       "    </tr>\n",
       "  </tbody>\n",
       "</table>\n",
       "</div>"
      ],
      "text/plain": [
       "                                                title  class\n",
       "3      drivers left alive go final nascar race season      1\n",
       "8   said find ruth bader ginsburg phil knight rond...      1\n",
       "33  trump insists never thought firing mueller fee...      1\n",
       "41  post video facebook let friends know officiall...      1\n",
       "50  immigrant children terrified ghastly visage la...      1"
      ]
     },
     "execution_count": 9,
     "metadata": {},
     "output_type": "execute_result"
    }
   ],
   "source": [
    "onion.head()"
   ]
  },
  {
   "cell_type": "code",
   "execution_count": 10,
   "id": "76737936-92c5-4633-8eba-57fe217eb330",
   "metadata": {},
   "outputs": [
    {
     "data": {
      "text/plain": [
       "'antifungal drugs market opportunity analysis, trends, and business strategies | forecast- 2023'"
      ]
     },
     "execution_count": 10,
     "metadata": {},
     "output_type": "execute_result"
    }
   ],
   "source": [
    "# An example headline from r/TheOnion\n",
    "train.loc[48, 'title']"
   ]
  },
  {
   "cell_type": "code",
   "execution_count": 11,
   "id": "b0cfde86-cbdb-4778-928b-39b54a2c3c5d",
   "metadata": {},
   "outputs": [
    {
     "data": {
      "text/plain": [
       "new       615\n",
       "man       603\n",
       "life      551\n",
       "trump     479\n",
       "find      438\n",
       "say       427\n",
       "news      425\n",
       "said      405\n",
       "onion     333\n",
       "report    254\n",
       "dtype: int64"
      ]
     },
     "execution_count": 11,
     "metadata": {},
     "output_type": "execute_result"
    }
   ],
   "source": [
    "# Let's take at the most common words in r/TheOnion articles\n",
    "onion_count = thor.count_words(onion['title'])\n",
    "\n",
    "onion_top10 = onion_count.sort_values(ascending=False)[0:10]\n",
    "\n",
    "onion_top10"
   ]
  },
  {
   "cell_type": "markdown",
   "id": "4a989ac8-a99b-4045-aab5-4f817686cf99",
   "metadata": {},
   "source": [
    "- We see that \"Trump\" makes an appearance in the top 10 for ```r/TheOnion```.\n",
    "- Other notable words: \"man\", \"find\", \"report\". Seems that most Onion headlines tend to sound vague, nebulous, and anonymous."
   ]
  },
  {
   "cell_type": "code",
   "execution_count": 12,
   "id": "8dd5e617-ff30-419a-8246-6c5909f4e769",
   "metadata": {},
   "outputs": [
    {
     "data": {
      "text/plain": [
       "covid      3469\n",
       "ukraine    3414\n",
       "new        3184\n",
       "says       2546\n",
       "russia     2452\n",
       "us         2444\n",
       "news       2131\n",
       "2022       1994\n",
       "man        1871\n",
       "russian    1836\n",
       "dtype: int64"
      ]
     },
     "execution_count": 12,
     "metadata": {},
     "output_type": "execute_result"
    }
   ],
   "source": [
    "# Let's do the same for r/news\n",
    "news_count = thor.count_words(news['title'])\n",
    "\n",
    "news_top10 = news_count.sort_values(ascending=False)[0:10]\n",
    "\n",
    "news_top10 "
   ]
  },
  {
   "cell_type": "markdown",
   "id": "feb7bafa-e05c-4969-8e59-793200b0a9c0",
   "metadata": {},
   "source": [
    "- Not surprisingly, most of the articles in ```r/news``` are dominated by recent events such as covid and Ukraine."
   ]
  },
  {
   "cell_type": "code",
   "execution_count": 13,
   "id": "c9da261a-6314-41c9-93c9-6ee2b84b888e",
   "metadata": {},
   "outputs": [
    {
     "data": {
      "image/png": "[encoded data removed]",
      "text/plain": [
       "<Figure size 1296x432 with 2 Axes>"
      ]
     },
     "metadata": {
      "needs_background": "light"
     },
     "output_type": "display_data"
    }
   ],
   "source": [
    "# Let's visualize this datum\n",
    "fig, ax = plt.subplots(1,2,figsize=(18,6));\n",
    "\n",
    "ax[0].barh(y=onion_top10.index, width = onion_top10, color = 'tab:red');\n",
    "ax[0].set_title('r/TheOnion Top 10 Words', fontsize=20, font='ms gothic');\n",
    "ax[0].set_yticklabels(onion_top10.index, fontsize=15, font='candara');\n",
    "ax[0].grid(axis='x');\n",
    "\n",
    "ax[1].barh(y=news_top10.index, width = news_top10, color = 'dodgerblue');\n",
    "ax[1].set_title('r/news Top 10 Words', fontsize=20, font='ms gothic');\n",
    "ax[1].set_yticklabels(news_top10.index, fontsize=15, font='candara');\n",
    "ax[1].grid(axis='x');\n",
    "\n",
    "plt.savefig('../images/top10words.png');"
   ]
  },
  {
   "cell_type": "markdown",
   "id": "682f6b39-f500-4178-b6c8-4a85640eadab",
   "metadata": {},
   "source": [
    "---\n",
    "\n",
    "# Name Frequencies\n",
    "\n",
    "One thing that might be interesting is the occurences of names between news and Onion headlines. We already saw that \"Trump\" cracked the top 10 in ```r/TheOnion``` but let's see if there are others worth paying attention to. \n",
    "\n",
    "One good place to start is by looking at some word leaders and important political figures/government officials."
   ]
  },
  {
   "cell_type": "code",
   "execution_count": 14,
   "id": "3a0806d1-9135-4c00-ae31-2cc3c1265b02",
   "metadata": {},
   "outputs": [],
   "source": [
    "names = ['trump', 'biden', 'putin', 'macron', 'johnson', 'trudeau', 'zelensky', 'ketanji', 'fauci', 'xi', 'mcconnell']"
   ]
  },
  {
   "cell_type": "code",
   "execution_count": 15,
   "id": "4f98c834-3536-4034-9f76-c305fa890622",
   "metadata": {},
   "outputs": [],
   "source": [
    "def get_counts_for(arr, word):\n",
    "    if word in arr.index:\n",
    "        return (word, arr[word])\n",
    "    \n",
    "    else:\n",
    "        return (word, 0)\n",
    "\n",
    "    \n",
    "    \n",
    "onion_names_ct = [get_counts_for(onion_count, name) for name in names]\n",
    "news_names_ct = [get_counts_for(news_count, name) for name in names]"
   ]
  },
  {
   "cell_type": "code",
   "execution_count": 16,
   "id": "1787a165-8735-42dc-8413-ce415bb79b52",
   "metadata": {},
   "outputs": [
    {
     "name": "stdout",
     "output_type": "stream",
     "text": [
      "[('trump', 479), ('biden', 98), ('putin', 19), ('macron', 1), ('johnson', 19), ('trudeau', 5), ('zelensky', 0), ('ketanji', 2), ('fauci', 2), ('xi', 3), ('mcconnell', 10)]\n",
      "[('trump', 1008), ('biden', 1456), ('putin', 847), ('macron', 40), ('johnson', 188), ('trudeau', 70), ('zelensky', 142), ('ketanji', 38), ('fauci', 133), ('xi', 63), ('mcconnell', 18)]\n"
     ]
    }
   ],
   "source": [
    "print(onion_names_ct)\n",
    "print(news_names_ct)"
   ]
  },
  {
   "cell_type": "markdown",
   "id": "21905f76-b1eb-4a0e-8bf0-6526c30ddf91",
   "metadata": {},
   "source": [
    "- We can normalize these counts to get a better idea of their distributions, but we can also make some rough observations by keeping in mind that the ratio of ```r/TheOnion``` to ```r/news``` posts are approximately 1:7 and then comparing the ratios for the corresponding words:\n",
    "    - \"Trump\" shows up at a ratio of approximately 2:5 between ```r/TheOnion``` and ```r/news```.\n",
    "    - \"Biden\" Shows up at a ratio of approximately 1:14.\n",
    "    - \"Putin\" shows up at a ratio of approximately 1:42.\n",
    "    - \"Macron\" shows up at a ratio of exactly 1:37.\n",
    "    - \"Johnson\" shows up at a ratio of approximately 1:10.\n",
    "    - \"Trudeau\" shows up at a ratio of approximately 1:24.\n",
    "    - \"Zelensky\" doesn't even show up in ```r/TheOnion```.\n",
    "    - \"Ketanji\" shows up at a ratio of exactly 1:17.\n",
    "    - \"Fauci\" shows up at a ratio of approximately 1:64.\n",
    "    - \"Xi\" shows up at a ratio of approximately 1:21.\n",
    "    \n",
    "- Look at the ratios, it's quite clear that the ```r/TheOnion``` posts we currently have are slightly less likely to reference a world leader than ```r/news``` posts. The exception to this rule is \"Trump\".\n",
    "- That being said: there is a temporal element that must be considered here. We scraped posts in post order. It might very well be the case that we scraped almost all ```r/TheOnion``` posts dating a few years back, but only managed to scraped the 70,000 most recent ```r/news``` posts which only go back a few months."
   ]
  },
  {
   "cell_type": "code",
   "execution_count": 17,
   "id": "074df03a-c475-42a2-8697-4c70285031db",
   "metadata": {},
   "outputs": [
    {
     "name": "stdout",
     "output_type": "stream",
     "text": [
      "[('kardashian', 3), ('madonna', 1), ('kanye', 12), ('jenner', 6), ('lebron', 17), ('bezos', 14), ('gates', 15), ('musk', 26), ('cruise', 5), ('rowling', 9)]\n",
      "[('kardashian', 59), ('madonna', 11), ('kanye', 83), ('jenner', 21), ('lebron', 16), ('bezos', 47), ('gates', 55), ('musk', 288), ('cruise', 47), ('rowling', 7)]\n"
     ]
    }
   ],
   "source": [
    "# Let's also try some celebrity figures\n",
    "celebs = ['kardashian', 'madonna', 'kanye', 'jenner','lebron', 'bezos', 'gates', 'musk', 'cruise', 'rowling']\n",
    "\n",
    "onion_celebs_ct = [get_counts_for(onion_count, name) for name in celebs]\n",
    "news_celebs_ct = [get_counts_for(news_count, name) for name in celebs]\n",
    "\n",
    "print(onion_celebs_ct)\n",
    "print(news_celebs_ct)"
   ]
  },
  {
   "cell_type": "markdown",
   "id": "06182596-f782-48e6-ab58-1b035ea48ca9",
   "metadata": {},
   "source": [
    "- Roughly speaking, it seems that \"Bezos\" and \"Gates\" tend to have a larger appearance rate in ```r/TheOnion``` than in ```r/news```.\n",
    "- Quite interestingly: \"Kardishian\" shows up less often than \"Jenner\" in ```r/TheOnion``` even though the situation is flipped in ```r/news```"
   ]
  },
  {
   "cell_type": "code",
   "execution_count": 18,
   "id": "366f694c-1d32-4dfa-8b94-98ad7c0c8ec4",
   "metadata": {},
   "outputs": [],
   "source": [
    "# Let's visualize this with a scatterplot\n",
    "name_cts = {name[0][0]:[name[0][1],name[1][1]] for name in zip(onion_names_ct, news_names_ct)}\n",
    "celeb_cts = {name[0][0]:[name[0][1],name[1][1]] for name in zip(onion_celebs_ct, news_celebs_ct)}\n",
    "\n",
    "name_df = pd.concat([pd.DataFrame(data=name_cts, index=['onion', 'news']),pd.DataFrame(data=celeb_cts, index=['onion', 'news'])], axis=1).T"
   ]
  },
  {
   "cell_type": "code",
   "execution_count": 19,
   "id": "11cf4a72-7cb5-4dc8-995b-77d66779c92a",
   "metadata": {},
   "outputs": [
    {
     "data": {
      "text/html": [
       "<div>\n",
       "<style scoped>\n",
       "    .dataframe tbody tr th:only-of-type {\n",
       "        vertical-align: middle;\n",
       "    }\n",
       "\n",
       "    .dataframe tbody tr th {\n",
       "        vertical-align: top;\n",
       "    }\n",
       "\n",
       "    .dataframe thead th {\n",
       "        text-align: right;\n",
       "    }\n",
       "</style>\n",
       "<table border=\"1\" class=\"dataframe\">\n",
       "  <thead>\n",
       "    <tr style=\"text-align: right;\">\n",
       "      <th></th>\n",
       "      <th>onion</th>\n",
       "      <th>news</th>\n",
       "    </tr>\n",
       "  </thead>\n",
       "  <tbody>\n",
       "    <tr>\n",
       "      <th>trump</th>\n",
       "      <td>479</td>\n",
       "      <td>1008</td>\n",
       "    </tr>\n",
       "    <tr>\n",
       "      <th>biden</th>\n",
       "      <td>98</td>\n",
       "      <td>1456</td>\n",
       "    </tr>\n",
       "    <tr>\n",
       "      <th>putin</th>\n",
       "      <td>19</td>\n",
       "      <td>847</td>\n",
       "    </tr>\n",
       "    <tr>\n",
       "      <th>macron</th>\n",
       "      <td>1</td>\n",
       "      <td>40</td>\n",
       "    </tr>\n",
       "    <tr>\n",
       "      <th>johnson</th>\n",
       "      <td>19</td>\n",
       "      <td>188</td>\n",
       "    </tr>\n",
       "    <tr>\n",
       "      <th>trudeau</th>\n",
       "      <td>5</td>\n",
       "      <td>70</td>\n",
       "    </tr>\n",
       "    <tr>\n",
       "      <th>zelensky</th>\n",
       "      <td>0</td>\n",
       "      <td>142</td>\n",
       "    </tr>\n",
       "    <tr>\n",
       "      <th>ketanji</th>\n",
       "      <td>2</td>\n",
       "      <td>38</td>\n",
       "    </tr>\n",
       "    <tr>\n",
       "      <th>fauci</th>\n",
       "      <td>2</td>\n",
       "      <td>133</td>\n",
       "    </tr>\n",
       "    <tr>\n",
       "      <th>xi</th>\n",
       "      <td>3</td>\n",
       "      <td>63</td>\n",
       "    </tr>\n",
       "    <tr>\n",
       "      <th>mcconnell</th>\n",
       "      <td>10</td>\n",
       "      <td>18</td>\n",
       "    </tr>\n",
       "    <tr>\n",
       "      <th>kardashian</th>\n",
       "      <td>3</td>\n",
       "      <td>59</td>\n",
       "    </tr>\n",
       "    <tr>\n",
       "      <th>madonna</th>\n",
       "      <td>1</td>\n",
       "      <td>11</td>\n",
       "    </tr>\n",
       "    <tr>\n",
       "      <th>kanye</th>\n",
       "      <td>12</td>\n",
       "      <td>83</td>\n",
       "    </tr>\n",
       "    <tr>\n",
       "      <th>jenner</th>\n",
       "      <td>6</td>\n",
       "      <td>21</td>\n",
       "    </tr>\n",
       "    <tr>\n",
       "      <th>lebron</th>\n",
       "      <td>17</td>\n",
       "      <td>16</td>\n",
       "    </tr>\n",
       "    <tr>\n",
       "      <th>bezos</th>\n",
       "      <td>14</td>\n",
       "      <td>47</td>\n",
       "    </tr>\n",
       "    <tr>\n",
       "      <th>gates</th>\n",
       "      <td>15</td>\n",
       "      <td>55</td>\n",
       "    </tr>\n",
       "    <tr>\n",
       "      <th>musk</th>\n",
       "      <td>26</td>\n",
       "      <td>288</td>\n",
       "    </tr>\n",
       "    <tr>\n",
       "      <th>cruise</th>\n",
       "      <td>5</td>\n",
       "      <td>47</td>\n",
       "    </tr>\n",
       "    <tr>\n",
       "      <th>rowling</th>\n",
       "      <td>9</td>\n",
       "      <td>7</td>\n",
       "    </tr>\n",
       "  </tbody>\n",
       "</table>\n",
       "</div>"
      ],
      "text/plain": [
       "            onion  news\n",
       "trump         479  1008\n",
       "biden          98  1456\n",
       "putin          19   847\n",
       "macron          1    40\n",
       "johnson        19   188\n",
       "trudeau         5    70\n",
       "zelensky        0   142\n",
       "ketanji         2    38\n",
       "fauci           2   133\n",
       "xi              3    63\n",
       "mcconnell      10    18\n",
       "kardashian      3    59\n",
       "madonna         1    11\n",
       "kanye          12    83\n",
       "jenner          6    21\n",
       "lebron         17    16\n",
       "bezos          14    47\n",
       "gates          15    55\n",
       "musk           26   288\n",
       "cruise          5    47\n",
       "rowling         9     7"
      ]
     },
     "execution_count": 19,
     "metadata": {},
     "output_type": "execute_result"
    }
   ],
   "source": [
    "name_df"
   ]
  },
  {
   "cell_type": "code",
   "execution_count": 20,
   "id": "5d3f29d2-61b5-4673-bc2e-488f67486640",
   "metadata": {},
   "outputs": [
    {
     "data": {
      "image/png": "[encoded data removed]",
      "text/plain": [
       "<Figure size 720x432 with 1 Axes>"
      ]
     },
     "metadata": {
      "needs_background": "light"
     },
     "output_type": "display_data"
    }
   ],
   "source": [
    "plt.figure(figsize=(10,6));\n",
    "sns.scatterplot(x=name_df['news'], y=name_df['onion']);\n",
    "plt.plot([0,1400],[0,165], linestyle='--', color='tab:red');\n",
    "plt.title('Scatterplot of Names by # of Appearances', fontsize=15, font='ms gothic');\n",
    "plt.xlabel('r/news', fontsize=15, font='ms gothic');\n",
    "plt.ylabel('r/TheOnion', fontsize=15, font='ms gothic')\n",
    "\n",
    "for name in ['trump', 'biden', 'putin', 'musk']:\n",
    "    plt.text(name_df.loc[name,'news'], name_df.loc[name,'onion'], name)\n",
    "    \n",
    "plt.savefig('../images/names-scatter.png')"
   ]
  },
  {
   "cell_type": "markdown",
   "id": "22b17d6d-94af-4010-bb1f-3e1772e2aabd",
   "metadata": {},
   "source": [
    "- The red line here is given by the equation $y=\\frac{1}{7}x$ and represents the ratio between ```r/TheOnion``` posts and ```r/news``` posts. We see that most names generally, hover around the line with the exceptions of \"Putin\" and \"Trump\" (and possibly even \"Biden\")."
   ]
  },
  {
   "cell_type": "markdown",
   "id": "2e861127-0fcf-47d3-aa8a-f630d8e31213",
   "metadata": {},
   "source": [
    "---\n",
    "\n",
    "# Title Lengths and Word Count"
   ]
  },
  {
   "cell_type": "code",
   "execution_count": 21,
   "id": "6c7626b6-4dd0-43fc-ae1a-37a4031b3314",
   "metadata": {},
   "outputs": [],
   "source": [
    "# get the number of words in each title\n",
    "onion['word_count'] = thor.tokenize(onion['title']).map(lambda x: len(x))\n",
    "\n",
    "news['word_count'] = thor.tokenize(news['title']).map(lambda x: len(x))"
   ]
  },
  {
   "cell_type": "code",
   "execution_count": 22,
   "id": "fb1e4917-31f7-485e-99d5-853fdc3a50c1",
   "metadata": {},
   "outputs": [
    {
     "data": {
      "text/html": [
       "<div>\n",
       "<style scoped>\n",
       "    .dataframe tbody tr th:only-of-type {\n",
       "        vertical-align: middle;\n",
       "    }\n",
       "\n",
       "    .dataframe tbody tr th {\n",
       "        vertical-align: top;\n",
       "    }\n",
       "\n",
       "    .dataframe thead th {\n",
       "        text-align: right;\n",
       "    }\n",
       "</style>\n",
       "<table border=\"1\" class=\"dataframe\">\n",
       "  <thead>\n",
       "    <tr style=\"text-align: right;\">\n",
       "      <th></th>\n",
       "      <th>title</th>\n",
       "      <th>class</th>\n",
       "      <th>word_count</th>\n",
       "    </tr>\n",
       "  </thead>\n",
       "  <tbody>\n",
       "    <tr>\n",
       "      <th>3</th>\n",
       "      <td>drivers left alive go final nascar race season</td>\n",
       "      <td>1</td>\n",
       "      <td>8</td>\n",
       "    </tr>\n",
       "    <tr>\n",
       "      <th>8</th>\n",
       "      <td>said find ruth bader ginsburg phil knight rond...</td>\n",
       "      <td>1</td>\n",
       "      <td>10</td>\n",
       "    </tr>\n",
       "    <tr>\n",
       "      <th>33</th>\n",
       "      <td>trump insists never thought firing mueller fee...</td>\n",
       "      <td>1</td>\n",
       "      <td>15</td>\n",
       "    </tr>\n",
       "    <tr>\n",
       "      <th>41</th>\n",
       "      <td>post video facebook let friends know officiall...</td>\n",
       "      <td>1</td>\n",
       "      <td>9</td>\n",
       "    </tr>\n",
       "    <tr>\n",
       "      <th>50</th>\n",
       "      <td>immigrant children terrified ghastly visage la...</td>\n",
       "      <td>1</td>\n",
       "      <td>9</td>\n",
       "    </tr>\n",
       "  </tbody>\n",
       "</table>\n",
       "</div>"
      ],
      "text/plain": [
       "                                                title  class  word_count\n",
       "3      drivers left alive go final nascar race season      1           8\n",
       "8   said find ruth bader ginsburg phil knight rond...      1          10\n",
       "33  trump insists never thought firing mueller fee...      1          15\n",
       "41  post video facebook let friends know officiall...      1           9\n",
       "50  immigrant children terrified ghastly visage la...      1           9"
      ]
     },
     "execution_count": 22,
     "metadata": {},
     "output_type": "execute_result"
    }
   ],
   "source": [
    "onion.head()"
   ]
  },
  {
   "cell_type": "markdown",
   "id": "4b422b21-e0d6-4462-a059-18841091a6fa",
   "metadata": {},
   "source": [
    "- Let's take a quick look at the distribution of word count for ```r/news``` posts and ```r/TheOnion``` posts."
   ]
  },
  {
   "cell_type": "code",
   "execution_count": 23,
   "id": "997e9f52-2b86-4e20-9d2f-8d8e0e8879d1",
   "metadata": {},
   "outputs": [
    {
     "data": {
      "text/plain": [
       "count    10186.000000\n",
       "mean         8.393776\n",
       "std          3.345900\n",
       "min          0.000000\n",
       "25%          6.000000\n",
       "50%          8.000000\n",
       "75%         10.000000\n",
       "max         30.000000\n",
       "Name: word_count, dtype: float64"
      ]
     },
     "execution_count": 23,
     "metadata": {},
     "output_type": "execute_result"
    }
   ],
   "source": [
    "onion.word_count.describe()"
   ]
  },
  {
   "cell_type": "code",
   "execution_count": 24,
   "id": "80c245f3-af11-4e5a-8454-091c4a309c31",
   "metadata": {},
   "outputs": [
    {
     "data": {
      "text/plain": [
       "count    70143.000000\n",
       "mean         8.665797\n",
       "std          4.142809\n",
       "min          0.000000\n",
       "25%          6.000000\n",
       "50%          8.000000\n",
       "75%         10.000000\n",
       "max         59.000000\n",
       "Name: word_count, dtype: float64"
      ]
     },
     "execution_count": 24,
     "metadata": {},
     "output_type": "execute_result"
    }
   ],
   "source": [
    "news.word_count.describe()"
   ]
  },
  {
   "cell_type": "markdown",
   "id": "e1316669-46ff-4631-8cd4-e2ffa2109f50",
   "metadata": {},
   "source": [
    "- For the most part, the distributions look almost identical here."
   ]
  },
  {
   "cell_type": "code",
   "execution_count": 25,
   "id": "94c5d868-18a2-43f5-ae04-999ec4aae209",
   "metadata": {},
   "outputs": [],
   "source": [
    "train['word_count'] = thor.tokenize(train['title']).map(lambda x: len(x))\n",
    "cleaned['word_count'] = thor.tokenize(cleaned['title']).map(lambda x: len(x))"
   ]
  },
  {
   "cell_type": "code",
   "execution_count": 26,
   "id": "4ba1a355-3746-435c-8a33-35dd03e2a808",
   "metadata": {},
   "outputs": [
    {
     "data": {
      "image/png": "[encoded data removed]",
      "text/plain": [
       "<Figure size 720x720 with 2 Axes>"
      ]
     },
     "metadata": {
      "needs_background": "light"
     },
     "output_type": "display_data"
    }
   ],
   "source": [
    "fig, ax = plt.subplots(1,2, figsize=(10, 10));\n",
    "sns.boxplot(x='class', y='word_count', hue='class', data=train, ax=ax[0]);\n",
    "ax[0].set_title('Word Count (with Stop Words)', fontsize=15, font='ms gothic');\n",
    "ax[0].grid(axis='y');\n",
    "\n",
    "sns.boxplot(x='class', y='word_count', hue='class', data=cleaned, ax=ax[1]);\n",
    "ax[1].set_title('Word Count (No Stop Words)', fontsize=15, font='ms gothic');\n",
    "ax[1].grid(axis='y');\n",
    "\n",
    "plt.savefig('../images/word_counts_box.png')"
   ]
  },
  {
   "cell_type": "markdown",
   "id": "654a9d6d-bc02-4471-9c8a-aa3c382a6f3b",
   "metadata": {},
   "source": [
    "- With the Stop Words: ```r/TheOnion``` posts tend to have slightly longer titles than ```r/news``` posts.\n",
    "- Without the Stop Words: ```r/TheOnion``` posts and ```r/news``` posts tend to have about the same number of words in their titles.\n",
    "\n",
    "This suggests that ```r/TheOnion``` headlines tend to contain more stop words than real news headlines. This makes intuitive sense if we consider it for a moment: real news headlines generally want to compactly and concisely communicate information in the title while this is not a priority for ```r/TheOnion``` headlines."
   ]
  },
  {
   "cell_type": "code",
   "execution_count": null,
   "id": "d2d4c2d0-79dd-451b-9c4b-cdd600380aaf",
   "metadata": {},
   "outputs": [],
   "source": []
  },
  {
   "cell_type": "code",
   "execution_count": null,
   "id": "0a0c3a1a-faf4-42eb-9492-58d3c9b4d34f",
   "metadata": {},
   "outputs": [],
   "source": []
  },
  {
   "cell_type": "code",
   "execution_count": null,
   "id": "01c30bbd-493d-4f64-91bf-260e70282926",
   "metadata": {},
   "outputs": [],
   "source": []
  }
 ],
 "metadata": {
  "kernelspec": {
   "display_name": "Python 3 (ipykernel)",
   "language": "python",
   "name": "python3"
  },
  "language_info": {
   "codemirror_mode": {
    "name": "ipython",
    "version": 3
   },
   "file_extension": ".py",
   "mimetype": "text/x-python",
   "name": "python",
   "nbconvert_exporter": "python",
   "pygments_lexer": "ipython3",
   "version": "3.9.12"
  }
 },
 "nbformat": 4,
 "nbformat_minor": 5
}
