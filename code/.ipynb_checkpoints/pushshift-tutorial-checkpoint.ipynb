{
 "cells": [
  {
   "cell_type": "markdown",
   "id": "367a4bc5-887d-4403-98a6-6767ac91f5a2",
   "metadata": {},
   "source": [
    "# Scraping Submissions"
   ]
  },
  {
   "cell_type": "code",
   "execution_count": null,
   "id": "cbc67928-7ca9-4e17-96fa-e5a2cb292cee",
   "metadata": {},
   "outputs": [],
   "source": [
    "import pandas as pd\n",
    "import requests\n",
    "from bs4 import BeautifulSoup"
   ]
  },
  {
   "cell_type": "code",
   "execution_count": null,
   "id": "80b2e65f-da69-491b-baf1-98c33bd6b102",
   "metadata": {},
   "outputs": [],
   "source": [
    "# pushshift api is an \"endpoint\" api, i.e. we connect to a url link\n",
    "# to request specific data. The parameters passed at the end of the link to specify\n",
    "# what data gets requested\n",
    "nfl_url = 'https://api.pushshift.io/reddit/search/submission/?subreddit=nfl&fields=title,selftext&limit=100'\n",
    "\n",
    "# the base url comes in 2 varieties:\n",
    "## submissions\n",
    "base_post_url = 'https://api.pushshift.io/reddit/search/submission/'\n",
    "\n",
    "base_comment_url = 'https://api.pushshift.io/reddit/search/comment/'"
   ]
  },
  {
   "cell_type": "code",
   "execution_count": null,
   "id": "c1e6e58d-d4a0-4c24-9a15-e06865fd9a83",
   "metadata": {},
   "outputs": [],
   "source": [
    "req = requests.get(\n",
    "                base_post_url,\n",
    "                params = {'subreddit':'datascience', # specifies subreddit to search\n",
    "                          'fields':'title',\n",
    "                          'limit':'100' # specifies how many posts to do it for\n",
    "                         }\n",
    "                )\n",
    "\n",
    "\n",
    "req.status_code, req.url"
   ]
  },
  {
   "cell_type": "code",
   "execution_count": null,
   "id": "a4d79ce2-f053-4657-a98b-cd670f473204",
   "metadata": {},
   "outputs": [],
   "source": [
    "dsjson = req.json()['data']"
   ]
  },
  {
   "cell_type": "code",
   "execution_count": null,
   "id": "e4f04f17-8c60-488e-a45d-3d8c7deb924f",
   "metadata": {},
   "outputs": [],
   "source": [
    "dsjson[0]"
   ]
  },
  {
   "cell_type": "code",
   "execution_count": null,
   "id": "859bee17-58f6-4ab9-b828-52a2c9b0fb0b",
   "metadata": {
    "scrolled": true,
    "tags": []
   },
   "outputs": [],
   "source": [
    "for i in range(len(dsjson)):\n",
    "    print(\"Title: \"+dsjson[i]['title'])\n",
    "    print(\" \")\n",
    "    print(\" \")\n",
    "    print(\" \")"
   ]
  },
  {
   "cell_type": "markdown",
   "id": "d25fa900-c467-4320-bfd0-6f701918a64e",
   "metadata": {},
   "source": [
    "\n",
    "<br>\n",
    "\n",
    "*remark:* ```Pushshift.io``` uses comma separated values to pass multiple values to its parameters. For example, say we wanted to get both the Title and Self-Text content from a post. Then the url we would need to request would be:\n",
    "\n",
    "```desired_url = 'https://api.pushshift.io/reddit/search/submission/?subreddit=datascience&fields=title,selftext&limit=100'```\n",
    "\n",
    "notice in the url we have: ```fields=title,selftext``` where the comma ```,``` is used to denote multiple values. \n",
    "\n",
    "However, we try to pass multiple values in the ```requests.get()```, notice what happens"
   ]
  },
  {
   "cell_type": "code",
   "execution_count": null,
   "id": "9d783dab-a7c6-4c98-a1bb-66347d48869b",
   "metadata": {},
   "outputs": [],
   "source": [
    "attempt = requests.get(\n",
    "                base_post_url,\n",
    "                params = {'subreddit':'datascience',\n",
    "                          'fields':'title,selftext', # try to pass a comma\n",
    "                          'limit':'100'\n",
    "                         }\n",
    "                )\n",
    "\n",
    "\n",
    "attempt.status_code, attempt.url"
   ]
  },
  {
   "cell_type": "code",
   "execution_count": null,
   "id": "9eb01ed8-75e7-459a-9347-aa54604787fe",
   "metadata": {},
   "outputs": [],
   "source": [
    "dsattempt = attempt.json()['data']"
   ]
  },
  {
   "cell_type": "code",
   "execution_count": null,
   "id": "ae28bb6e-73a3-43c2-b9f5-78803cbb5dbb",
   "metadata": {},
   "outputs": [],
   "source": [
    "dsattempt[0]"
   ]
  },
  {
   "cell_type": "markdown",
   "id": "1fd05aeb-d1da-4b72-8504-3309bd2a5865",
   "metadata": {},
   "source": [
    "- We don't get anything back! This is because ```requests.get()``` encodes characters using RFC 3986 standard and the comma ```,``` gets encoded as ```%2C``` which we can see in the url that gets returned.\n",
    "\n",
    "<br> \n",
    "\n",
    "So how do we get around this? We could try passing ```title``` and ```selftext``` as separate values via a tuple:"
   ]
  },
  {
   "cell_type": "code",
   "execution_count": null,
   "id": "32298a79-ce5a-4f8f-8c4d-6d7fafbdf303",
   "metadata": {},
   "outputs": [],
   "source": [
    "attempt2 = requests.get(\n",
    "                base_post_url,\n",
    "                params = {'subreddit':'datascience',\n",
    "                          'fields':('title','selftext'), # try to pass a comma\n",
    "                          'limit':'100'\n",
    "                         }\n",
    "                )\n",
    "\n",
    "\n",
    "attempt2.status_code, attempt2.url"
   ]
  },
  {
   "cell_type": "code",
   "execution_count": null,
   "id": "ba7ba9b5-554b-4ecb-ab94-dcdd9a48a827",
   "metadata": {},
   "outputs": [],
   "source": [
    "dsattempt2 = attempt2.json()['data']"
   ]
  },
  {
   "cell_type": "code",
   "execution_count": null,
   "id": "99bb440a-9a08-44a3-bc61-5e287c4e162c",
   "metadata": {},
   "outputs": [],
   "source": [
    "dsattempt2[0]"
   ]
  },
  {
   "cell_type": "markdown",
   "id": "13948213-f968-4fd6-a029-4dded2f77428",
   "metadata": {},
   "source": [
    "- This looks ok, let's check out the rest of the posts it grabbed"
   ]
  },
  {
   "cell_type": "code",
   "execution_count": null,
   "id": "5ec0eb08-0c43-4141-9c18-48bbd52fab1e",
   "metadata": {
    "scrolled": true,
    "tags": []
   },
   "outputs": [],
   "source": [
    "for i in range(len(dsattempt2)):\n",
    "    print(\"Title: \"+dsattempt2[i]['title'])\n",
    "    print(\" \")\n",
    "    print(\" \")\n",
    "    print(dsattempt2[i]['selftext'])\n",
    "    print(\" \")\n",
    "    print(\" \")\n",
    "    print(\" \")\n",
    "    print(\" \")"
   ]
  },
  {
   "cell_type": "code",
   "execution_count": null,
   "id": "0b278031-36bf-4098-bf21-033b201c3b0c",
   "metadata": {
    "scrolled": true,
    "tags": []
   },
   "outputs": [],
   "source": [
    "dsjson"
   ]
  },
  {
   "cell_type": "markdown",
   "id": "1c0e84af-8b83-4fb3-bd8a-43aeb08bddf4",
   "metadata": {},
   "source": [
    "---\n",
    "\n",
    "# Pushshift.io Search Parameters\n",
    "\n",
    "## Submission\n",
    "\n",
    "\n",
    "| Parameter | Description | Default | Accepted Values|\n",
    "|----------|-------------|---------|----------------|\n",
    "| ids | get posts by their ids | N/A | comma-separated base36 ids |\n",
    "| q | Search term; will search ALL possible fields| N/A | string; qouted string for phrases|\n",
    "| q:not | Exclude search term | N/A | string; quoted string for phrases|\n",
    "| title | searches title for term | N/A | string; quoted string for phrases|\n",
    "| title:not | exclude terms for title field | N/A | string; quoted string for phrases|\n",
    "| selftext | searches through body of the post | N/A | string; quoted string for phrases|\n",
    "| selftext:not | excludes terms from body of the post | N/A | string; quoted string for phrases|\n",
    "| size | Number of results to return | 25 | integer <= 500 |\n",
    "| fields | one return specific fields (comma separated) | All Fields | string or comma-separated string |\n",
    "| sort | sort results in a specific order | \"desc\" | \"asc\" or \"desc\" |\n",
    "| sort_type | sort by a specific attribute | \"created_utc\" (time created) | \"score\", \"num_comments\", \"created_utc\" |\n",
    "| aggs | return aggregation summary | N/A | \\[ \"author\", \"link_id\", \"created_utc\", \"subreddit\"\\]|\n",
    "| author | author/creator of content | N/A | string; quoted string for phrases|\n",
    "| subreddit | search specific subreddit | N/A | string; quoted string for phrases|\n",
    "| after | return results after this date | N/A | Epoch value or integer + \"s,m,h,d\" (e.g. 30d for 30 days)|\n",
    "| before | return results before this date | N/A | Epoch value or integer + \"s,m,h,d\" (e.g. 30d for 30 days)|\n",
    "| score | restrict search based on score (upvotes) | N/A | interger or > x or < x (e.g. score => 100 or score=<25)|\n",
    "| num_comments | restrict based on number of comments | N/A | interger or > x or < x (e.g. score => 100 or score=<25)|\n",
    "| over_18 | restrict to nsfw or sfw | both allowed | \"true\" or \"false\" |\n",
    "| is_video | restrict to video content | both allowed | \"true\" or \"false\" |\n",
    "| locked | return locked or unlocked threads | both allowed | \"true\" or \"false\"|\n",
    "| stickied | return stickied or unstickied content | both allowed | \"true\" or \"false\"|\n",
    "| spoiler | exclude or include spoilers only | both allowed | \"true\" or \"false\"|\n",
    "| contest_mode | exclude or include contest mode submissions | both allowed | \"true\" or \"false\"|\n",
    "| frequency | used with the aggs parameter when set to created_utc | N/A | \"second\", \"minute\", \"hour\", \"day\"|\n",
    "| metadata | display metadata about the query | false | \"true\" or \"false\" |\n",
    "\n",
    "\n",
    "--- \n",
    "\n",
    "## List of Endpoints\n",
    "\n",
    "| Endpoint | Description | Status |\n",
    "|---|---|---|\n",
    "| /reddit/search/comment | search reddit comments | active |\n",
    "| /reddit/search/submission | search reddit submissions | active |\n",
    "| /reddit/submission/comment_ids/{base36-submission-id} | retrieve comments for a submission object | active |"
   ]
  }
 ],
 "metadata": {
  "kernelspec": {
   "display_name": "Python 3 (ipykernel)",
   "language": "python",
   "name": "python3"
  },
  "language_info": {
   "codemirror_mode": {
    "name": "ipython",
    "version": 3
   },
   "file_extension": ".py",
   "mimetype": "text/x-python",
   "name": "python",
   "nbconvert_exporter": "python",
   "pygments_lexer": "ipython3",
   "version": "3.9.12"
  }
 },
 "nbformat": 4,
 "nbformat_minor": 5
}
