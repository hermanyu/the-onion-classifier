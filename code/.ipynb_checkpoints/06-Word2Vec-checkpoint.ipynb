{
 "cells": [
  {
   "cell_type": "code",
   "execution_count": 2,
   "id": "7e6a70a2-eb7d-4d0b-ac10-08eb2f3d7d80",
   "metadata": {},
   "outputs": [],
   "source": [
    "from gensim.models import Word2Vec\n",
    "\n",
    "import numpy as np\n",
    "import pandas as pd\n",
    "import matplotlib.pyplot as plt\n",
    "import re\n",
    "from collections import Counter\n",
    "import joblib\n",
    "\n",
    "from sklearn.linear_model import LogisticRegression\n",
    "from sklearn.ensemble import RandomForestClassifier\n",
    "from sklearn.tree import DecisionTreeClassifier\n",
    "\n",
    "from sklearn.metrics import confusion_matrix, ConfusionMatrixDisplay, recall_score, precision_score, plot_roc_curve, roc_auc_score\n",
    "from sklearn.model_selection import train_test_split, GridSearchCV\n",
    "from sklearn.pipeline import Pipeline\n",
    "from sklearn.preprocessing import StandardScaler, FunctionTransformer\n",
    "from sklearn.metrics import confusion_matrix, ConfusionMatrixDisplay, recall_score, precision_score, f1_score, plot_roc_curve, roc_auc_score, accuracy_score\n",
    "\n",
    "from sklearn.feature_extraction.text import CountVectorizer, TfidfVectorizer\n",
    "\n",
    "from imblearn.over_sampling import RandomOverSampler\n",
    "\n",
    "from nltk.tokenize import sent_tokenize, word_tokenize, RegexpTokenizer\n",
    "from nltk.stem import WordNetLemmatizer\n",
    "from nltk.stem.porter import PorterStemmer\n",
    "from nltk.corpus import stopwords\n",
    "\n",
    "\n",
    "import thor"
   ]
  },
  {
   "cell_type": "code",
   "execution_count": 3,
   "id": "6a6f3a47-391f-460f-a3d7-1ac2ab93e809",
   "metadata": {},
   "outputs": [],
   "source": [
    "train = pd.read_csv('../data/total_train.csv')\n",
    "\n",
    "X = train['title'].str.lower()\n",
    "y = train['class']\n",
    "\n",
    "X_train, X_test, y_train, y_test = train_test_split(X, y, stratify = y, test_size=0.1, random_state=42)\n",
    "\n",
    "X_train = X_train.reset_index(drop=True)\n",
    "X_test = X_test.reset_index(drop=True)\n",
    "y_train = y_train.reset_index(drop=True)\n",
    "y_test = y_test.reset_index(drop=True)"
   ]
  },
  {
   "cell_type": "markdown",
   "id": "22445e8f-fbf6-42d3-b591-d41812040da4",
   "metadata": {},
   "source": [
    "# Data Preparation"
   ]
  },
  {
   "cell_type": "code",
   "execution_count": 4,
   "id": "e38d9ffc-73b0-4d3e-a27e-e193e046326c",
   "metadata": {},
   "outputs": [],
   "source": [
    "train_sentences = thor.tokenize(X_train, pattern='\\w\\w+')\n",
    "test_sentences =thor.tokenize(X_test, pattern = '\\w\\w+')"
   ]
  },
  {
   "cell_type": "code",
   "execution_count": 5,
   "id": "f29b03f1-b06c-40b6-818c-479b4ac2d1f4",
   "metadata": {},
   "outputs": [
    {
     "data": {
      "text/plain": [
       "0        [pakistan, muslims, attack, christian, family,...\n",
       "1        [please, sign, the, petition, ezgi, needa, you...\n",
       "2        [why, evangelical, women, are, questioning, th...\n",
       "3        [episode, drama, business, proposal, dapat, ra...\n",
       "4        [pentagon, approves, 700, national, guardsmen,...\n",
       "                               ...                        \n",
       "72553    [centre, approves, continuation, of, police, m...\n",
       "72554    [justice, department, continues, to, look, at,...\n",
       "72555    [tuneskit, screen, recorder, crack, free, down...\n",
       "72556    [pawandeep, rajan, biography, winner, age, wik...\n",
       "72557    [more, than, 500, flee, to, thailand, as, rebe...\n",
       "Name: title, Length: 72558, dtype: object"
      ]
     },
     "execution_count": 5,
     "metadata": {},
     "output_type": "execute_result"
    }
   ],
   "source": [
    "train_sentences"
   ]
  },
  {
   "cell_type": "markdown",
   "id": "bf7d8056-4a1e-4a43-9609-3e1df296f9f8",
   "metadata": {},
   "source": [
    "# Word2Vec \n",
    "\n",
    "What we will do use a pre-trained Word2Vec model to embed words as 100-dimensional vectors. The model we will use is Stanford's Glove model and we will implement via the NLP library ```gensim```. We have downloaded the pre-trained model in the ```word2vec``` folder. First we will need to convert the glove word2vec model into a gensim word2vec model."
   ]
  },
  {
   "cell_type": "code",
   "execution_count": 6,
   "id": "035d2688-4400-4a88-b620-d9b9c7393e66",
   "metadata": {},
   "outputs": [
    {
     "name": "stderr",
     "output_type": "stream",
     "text": [
      "C:\\Users\\herma\\AppData\\Local\\Temp\\ipykernel_14424\\1149461943.py:6: DeprecationWarning: Call to deprecated `glove2word2vec` (KeyedVectors.load_word2vec_format(.., binary=False, no_header=True) loads GLoVE text vectors.).\n",
      "  glove2word2vec(glove_input_file, word2vec_output_file)\n"
     ]
    },
    {
     "data": {
      "text/plain": [
       "(400001, 100)"
      ]
     },
     "execution_count": 6,
     "metadata": {},
     "output_type": "execute_result"
    }
   ],
   "source": [
    "from gensim.scripts.glove2word2vec import glove2word2vec\n",
    "\n",
    "glove_input_file = '../word2vec/glove.6B.100d.txt'\n",
    "word2vec_output_file = '../word2vec/word2vec.txt'\n",
    "\n",
    "glove2word2vec(glove_input_file, word2vec_output_file)"
   ]
  },
  {
   "cell_type": "markdown",
   "id": "fa65ed9c-21a2-4acf-849d-a14705783b9e",
   "metadata": {},
   "source": [
    "<br>\n",
    "\n",
    "With the conversion complete, we can next load the model and test out some of the word embeddings.\n"
   ]
  },
  {
   "cell_type": "code",
   "execution_count": 7,
   "id": "6d8722a6-8fbd-4bf0-afb6-51b204f829d1",
   "metadata": {},
   "outputs": [],
   "source": [
    "#import gensim.downloader as api\n",
    "#w2v = api.load(\"glove-wiki-gigaword-100\")\n",
    "\n",
    "from gensim.models import KeyedVectors\n",
    "\n",
    "w2v = KeyedVectors.load_word2vec_format('../word2vec/word2vec.txt', binary=False)\n"
   ]
  },
  {
   "cell_type": "markdown",
   "id": "cbdc0e2c-8e5b-4f6e-9037-1f0ec8000441",
   "metadata": {},
   "source": [
    "<br>\n",
    "\n",
    "It might be a good idea to demonstrate how a word2vec model actually works. In a nutshell, a word2vec model takes a word such as ```queen``` and maps it to a vector, like so:"
   ]
  },
  {
   "cell_type": "code",
   "execution_count": 8,
   "id": "f8a78335-8494-46f0-a66a-2cccaeeb13a9",
   "metadata": {},
   "outputs": [
    {
     "data": {
      "text/plain": [
       "array([-0.50045 , -0.70826 ,  0.55388 ,  0.673   ,  0.22486 ,  0.60281 ,\n",
       "       -0.26194 ,  0.73872 , -0.65383 , -0.21606 , -0.33806 ,  0.24498 ,\n",
       "       -0.51497 ,  0.8568  , -0.37199 , -0.58824 ,  0.30637 , -0.30668 ,\n",
       "       -0.2187  ,  0.78369 , -0.61944 , -0.54925 ,  0.43067 , -0.027348,\n",
       "        0.97574 ,  0.46169 ,  0.11486 , -0.99842 ,  1.0661  , -0.20819 ,\n",
       "        0.53158 ,  0.40922 ,  1.0406  ,  0.24943 ,  0.18709 ,  0.41528 ,\n",
       "       -0.95408 ,  0.36822 , -0.37948 , -0.6802  , -0.14578 , -0.20113 ,\n",
       "        0.17113 , -0.55705 ,  0.7191  ,  0.070014, -0.23637 ,  0.49534 ,\n",
       "        1.1576  , -0.05078 ,  0.25731 , -0.091052,  1.2663  ,  1.1047  ,\n",
       "       -0.51584 , -2.0033  , -0.64821 ,  0.16417 ,  0.32935 ,  0.048484,\n",
       "        0.18997 ,  0.66116 ,  0.080882,  0.3364  ,  0.22758 ,  0.1462  ,\n",
       "       -0.51005 ,  0.63777 ,  0.47299 , -0.3282  ,  0.083899, -0.78547 ,\n",
       "        0.099148,  0.039176,  0.27893 ,  0.11747 ,  0.57862 ,  0.043639,\n",
       "       -0.15965 , -0.35304 , -0.048965, -0.32461 ,  1.4981  ,  0.58138 ,\n",
       "       -1.132   , -0.60673 , -0.37505 , -1.1813  ,  0.80117 , -0.50014 ,\n",
       "       -0.16574 , -0.70584 ,  0.43012 ,  0.51051 , -0.8033  , -0.66572 ,\n",
       "       -0.63717 , -0.36032 ,  0.13347 , -0.56075 ], dtype=float32)"
      ]
     },
     "execution_count": 8,
     "metadata": {},
     "output_type": "execute_result"
    }
   ],
   "source": [
    "w2v['queen']"
   ]
  },
  {
   "cell_type": "markdown",
   "id": "60a390a6-042b-4ec6-8282-3bba3d5d8cef",
   "metadata": {},
   "source": [
    "<br>\n",
    "\n",
    "The model converts ```queen``` to a vector by training a neural network. Essentially what the model does is:\n",
    "- look at the sentences with the word ```queen```.\n",
    "- For each sentence, mark down all the words that appear near it, e.g. ```prince```, ```mother```, ```highness```, etc. These are called **context words**.\n",
    "- It then looks for other words with the similar context words such as, eg. ```king``` and adjusts the vector entries for ```queen``` closer to that of ```king```.\n",
    "\n",
    "The pre-trained model we are using is Stanford's Glove model, which has 6 billion words trained on Wikipedia pages.\n",
    "\n",
    "Because word2vec transforms words to vectors, we can now add and subtract words like so: if we take ```king``` minus ```man``` plus ```woman```, the resulting vector is closest to ```queen``` (with similarity score of 0.77)."
   ]
  },
  {
   "cell_type": "code",
   "execution_count": 9,
   "id": "489a00de-830a-4374-a476-f218d89e4575",
   "metadata": {},
   "outputs": [
    {
     "data": {
      "text/plain": [
       "[('queen', 0.7698541283607483)]"
      ]
     },
     "execution_count": 9,
     "metadata": {},
     "output_type": "execute_result"
    }
   ],
   "source": [
    "w2v.most_similar(positive=['woman', 'king'], negative=['man'], topn=1)"
   ]
  },
  {
   "cell_type": "markdown",
   "id": "03120e98-fcb6-4e4d-b4fc-12f6180b4e36",
   "metadata": {},
   "source": [
    "The similarity score between two vectors is measured via the cosine of the angle formed by the two vectors. Intuitively:\n",
    "\n",
    "<br>\n",
    "\n",
    "$$\\cos(0)=1 \\qquad \\qquad \\cos\\left(\\frac{\\pi}{2}\\right)=0$$\n",
    "\n",
    "<br>\n",
    "\n",
    "So two vectors which are similar will have small angle $\\theta$ and consequently will have a $\\cos(\\theta)$ near 1. On the other hand two vectors which are \"independent\" would be nearly orthogonal and hence have nearly $\\cos(\\theta)$ near 0. \n",
    "\n",
    "To compute the cosine of the angle, we can use the Law of Cosines to derive the following formula:\n",
    "$$\\textbf{v}\\cdot \\textbf{u} = |v||u|\\cos(\\theta)$$\n",
    "\n",
    "<br>\n",
    "\n",
    "$$\\cos(\\theta)=\\frac{\\textbf{v}\\cdot \\textbf{u}}{|v||u|}$$\n",
    "\n",
    "So the number 0.77 (in the similarity score outputted above) is actually the cosine of the angle between the vector $\\textbf{v}$ = ```king``` - ```man``` + ```woman``` and the vectur $\\textbf{u}$ = ```queen```. "
   ]
  },
  {
   "cell_type": "code",
   "execution_count": 10,
   "id": "2644bd2b-7238-495f-be9c-56404bae3f59",
   "metadata": {},
   "outputs": [
    {
     "data": {
      "text/plain": [
       "0.7834415"
      ]
     },
     "execution_count": 10,
     "metadata": {},
     "output_type": "execute_result"
    }
   ],
   "source": [
    "v = w2v['king'] - w2v['man'] + w2v['woman']\n",
    "\n",
    "np.dot(v, w2v['queen'])/(np.linalg.norm(v)*np.linalg.norm(w2v['queen']))"
   ]
  },
  {
   "cell_type": "markdown",
   "id": "8fcf03dc-ecf2-4c95-b39a-136a5b6e1e2d",
   "metadata": {},
   "source": [
    "### WARNING\n",
    "\n",
    "Word2vec is *infamous* for implicitly learning social bias because of how society uses language. One (in)famous example demonstrating gender and sexual bias is the following: ```doctor```-```man```+```woman```"
   ]
  },
  {
   "cell_type": "code",
   "execution_count": 11,
   "id": "e00490ab-e1c7-4e3f-90c7-7649ce78471e",
   "metadata": {},
   "outputs": [
    {
     "data": {
      "text/plain": [
       "[('nurse', 0.7735227942466736)]"
      ]
     },
     "execution_count": 11,
     "metadata": {},
     "output_type": "execute_result"
    }
   ],
   "source": [
    "w2v.most_similar(positive = ['doctor', 'woman'], negative=['man'], topn=1)"
   ]
  },
  {
   "cell_type": "markdown",
   "id": "a6ebda3d-79e7-4cd7-a075-1db38dfbfd7a",
   "metadata": {},
   "source": [
    "Notice that word2vec has implicitly learned gender bias since it has associated the word ```woman``` with the occupation of being a ```nurse```. A bit more of an insidious take: word2vec doesn't recognize the existence of woman doctors.\n",
    "\n",
    "Since we are using Word2Vec for the purposes of extrapolating word \"context\", it is good to be aware of this rather unfortunate property of Word2Vec. \n",
    "\n",
    "Anyways, this is how we will be using Word2Vec:\n",
    "\n",
    "1. For each document: embed each of the words as a 100-dimensional vector. This gives us an array of 100-D vectors a.k.a. a **tensor**.\n",
    "2. Concatenate this array into one single very long vector (3000-dimensional to be exact). Now we have transformed our document into a vector but unlike a simple frequency count, the values of the vector correspond to word meaning and word context. We have also preserved word ordering as well.\n",
    "3. Collect these vectors as rows of a matrix. Now we have a matrix representation of our corpus which we can train a model on.\n",
    "\n",
    "The hope is that by using word embeddings, we have found a way to encode some semblence of \"context\" and \"meaning\". "
   ]
  },
  {
   "cell_type": "code",
   "execution_count": 12,
   "id": "22eecdd3-493f-4ad6-a0f9-bb27d82ec1e1",
   "metadata": {},
   "outputs": [],
   "source": [
    "# turn each word into a 100-dimensional vector. Words which are not in our vocabulary will have to be encoded as all 0's\n",
    "def word_to_vector(word):\n",
    "    try:\n",
    "        return w2v[word]\n",
    "    except:\n",
    "        return np.zeros(100)\n",
    "    \n",
    "# turn a document into a chain of 2500-dimensional vector, with each word occupying a slice of size 100.   \n",
    "def sent_to_vector(sent):\n",
    "    if len(sent) == 0:\n",
    "        return np.zeros(3000)\n",
    "    \n",
    "    elif len(sent) >= 30:\n",
    "        return np.concatenate([word_to_vector(word) for word in sent[0:30]])\n",
    "    \n",
    "    else:\n",
    "        n = 30-len(sent)\n",
    "        return np.concatenate([word_to_vector(word) for word in sent]+[[0]*100]*n)\n",
    "\n",
    "# turn the corpus into a matrix\n",
    "def doc_to_vector(ser):\n",
    "    return [sent_to_vector(sent) for sent in ser]\n"
   ]
  },
  {
   "cell_type": "code",
   "execution_count": 13,
   "id": "a1e22d7e-fb7c-41c6-9f9b-0c01afafee27",
   "metadata": {
    "scrolled": true,
    "tags": []
   },
   "outputs": [],
   "source": [
    "Xvec_train = doc_to_vector(train_sentences)\n",
    "\n",
    "Xvec_test = doc_to_vector(test_sentences)"
   ]
  },
  {
   "cell_type": "markdown",
   "id": "59e85651-d997-4a3f-ade3-9e466398edfe",
   "metadata": {},
   "source": [
    "## Logistic Regression\n",
    "\n",
    "With our corpus properly formatted, let's try to train a model on this and see what happens. With such a high number of training examples and only 3000 input dimensions, Logistic Regression seems like a good first choice."
   ]
  },
  {
   "cell_type": "code",
   "execution_count": 14,
   "id": "36015561-5836-467a-a30d-5716a346d08b",
   "metadata": {},
   "outputs": [],
   "source": [
    "#logvec = LogisticRegression(max_iter=20_000, C=1)\n",
    "\n",
    "#logvec.fit(Xvec_train, y_train)\n",
    "\n",
    "#joblib.dump(logvec, '../models/log2vec.pkl')\n",
    "\n",
    "logvec = joblib.load('../models/log2vec.pkl')"
   ]
  },
  {
   "cell_type": "code",
   "execution_count": 15,
   "id": "50e83528-1ace-4b0a-b3cd-203911466b5f",
   "metadata": {},
   "outputs": [
    {
     "data": {
      "text/plain": [
       "(0.9136690647482014, 0.8958074919374845)"
      ]
     },
     "execution_count": 15,
     "metadata": {},
     "output_type": "execute_result"
    }
   ],
   "source": [
    "logvec.score(Xvec_train, y_train), logvec.score(Xvec_test, y_test)"
   ]
  },
  {
   "cell_type": "code",
   "execution_count": 16,
   "id": "92bd7624-5c96-43ad-b739-780348dac37e",
   "metadata": {},
   "outputs": [
    {
     "name": "stdout",
     "output_type": "stream",
     "text": [
      " \n",
      "Accuracy:  0.8958074919374845\n",
      " \n",
      "Recall:  0.3721841332027424\n",
      " \n",
      "Precision:  0.6563039723661486\n",
      " \n",
      "F1:  0.475\n",
      " \n"
     ]
    },
    {
     "data": {
      "image/png": "[encoded data removed]",
      "text/plain": [
       "<Figure size 432x288 with 2 Axes>"
      ]
     },
     "metadata": {
      "needs_background": "light"
     },
     "output_type": "display_data"
    }
   ],
   "source": [
    "thor.verbose_eval(logvec, Xvec_test, y_test)"
   ]
  },
  {
   "cell_type": "code",
   "execution_count": 17,
   "id": "f1d1e794-3dbb-4bd7-b52c-24a9a5cee0e0",
   "metadata": {},
   "outputs": [],
   "source": [
    "ros = RandomOverSampler()\n",
    "\n",
    "Xover_train, y_over_train = ros.fit_resample(Xvec_train, y_train)"
   ]
  },
  {
   "cell_type": "code",
   "execution_count": 18,
   "id": "e9ef5500-473a-4230-82a1-e112a8c32127",
   "metadata": {},
   "outputs": [],
   "source": [
    "#logvec_over = LogisticRegression(max_iter=20_000, C=1)\n",
    "\n",
    "#logvec_over.fit(Xover_train, y_over_train)\n",
    "\n",
    "#joblib.dump(logvec_over, '../models/log2vec_over.pkl')\n",
    "\n",
    "logvec_over = joblib.load('../models/log2vec_over.pkl')"
   ]
  },
  {
   "cell_type": "code",
   "execution_count": 19,
   "id": "8ee2fd04-f1d4-4cd8-9ebc-69e3280b74a7",
   "metadata": {},
   "outputs": [
    {
     "data": {
      "text/plain": [
       "(0.8253109020895145, 0.8004217315802531)"
      ]
     },
     "execution_count": 19,
     "metadata": {},
     "output_type": "execute_result"
    }
   ],
   "source": [
    "logvec_over.score(Xover_train, y_over_train), logvec_over.score(Xvec_test, y_test)"
   ]
  },
  {
   "cell_type": "code",
   "execution_count": 20,
   "id": "17e1ed23-43fa-4c7f-9c52-59925bd25fbf",
   "metadata": {},
   "outputs": [
    {
     "name": "stdout",
     "output_type": "stream",
     "text": [
      " \n",
      "Accuracy:  0.8004217315802531\n",
      " \n",
      "Recall:  0.7247796278158668\n",
      " \n",
      "Precision:  0.3578336557059961\n",
      " \n",
      "F1:  0.4791194561346714\n",
      " \n"
     ]
    },
    {
     "data": {
      "image/png": "[encoded data removed]",
      "text/plain": [
       "<Figure size 432x288 with 2 Axes>"
      ]
     },
     "metadata": {
      "needs_background": "light"
     },
     "output_type": "display_data"
    }
   ],
   "source": [
    "thor.verbose_eval(logvec_over, Xvec_test, y_test)"
   ]
  },
  {
   "cell_type": "markdown",
   "id": "777801b4-5a9b-4e6d-9cdb-9529020a06cc",
   "metadata": {},
   "source": [
    "<br>\n",
    "\n",
    "Rather interestingly, this model is significantly worse than our previous models using only count frequencies as features. This is rather alarming since we have (at least theoretically) encoded more information for the model to use and yet the model isn't able to use it.\n",
    "\n",
    "This leads us to suspect that we need a more sophisticated model. \n",
    "\n",
    "<br>"
   ]
  },
  {
   "cell_type": "markdown",
   "id": "f7e3889a-0c29-427a-b48d-92133ea77228",
   "metadata": {},
   "source": [
    "# OnionNet: a Simple 1-Layer Neural Network"
   ]
  },
  {
   "cell_type": "code",
   "execution_count": 21,
   "id": "a5e5a87a-f4b8-45b2-9932-b69914f00ad9",
   "metadata": {},
   "outputs": [],
   "source": [
    "import tensorflow as tf\n",
    "from tensorflow import keras"
   ]
  },
  {
   "cell_type": "code",
   "execution_count": 22,
   "id": "ad81114a-d178-4238-99b3-48736db5e7fb",
   "metadata": {},
   "outputs": [
    {
     "data": {
      "text/plain": [
       "[PhysicalDevice(name='/physical_device:GPU:0', device_type='GPU')]"
      ]
     },
     "execution_count": 22,
     "metadata": {},
     "output_type": "execute_result"
    }
   ],
   "source": [
    "tf.config.list_physical_devices('GPU')"
   ]
  },
  {
   "cell_type": "code",
   "execution_count": 23,
   "id": "d2e52027-ec55-4490-a4ed-ea8807a924b5",
   "metadata": {},
   "outputs": [],
   "source": [
    "X_array_train = np.array(Xvec_train)\n",
    "y_array_train = np.array(y_train)\n",
    "\n",
    "X_array_test = np.array(Xvec_test)\n",
    "y_array_test = np.array(y_test)"
   ]
  },
  {
   "cell_type": "code",
   "execution_count": 57,
   "id": "13a7e1d7-f96c-41d1-ab23-14cec6b9fb7f",
   "metadata": {},
   "outputs": [],
   "source": [
    "onionnet = keras.Sequential([\n",
    "                keras.Input(shape=(3000,)),\n",
    "                keras.layers.Dense(600, activation = 'relu', activity_regularizer = keras.regularizers.l2(0.001)),\n",
    "                keras.layers.Dense(1, activation = 'sigmoid')\n",
    "            ])"
   ]
  },
  {
   "cell_type": "code",
   "execution_count": 58,
   "id": "dbeeb1bd-836a-4206-baac-d40b38d62201",
   "metadata": {},
   "outputs": [
    {
     "name": "stdout",
     "output_type": "stream",
     "text": [
      "Model: \"sequential_7\"\n",
      "_________________________________________________________________\n",
      " Layer (type)                Output Shape              Param #   \n",
      "=================================================================\n",
      " dense_14 (Dense)            (None, 600)               1800600   \n",
      "                                                                 \n",
      " dense_15 (Dense)            (None, 1)                 601       \n",
      "                                                                 \n",
      "=================================================================\n",
      "Total params: 1,801,201\n",
      "Trainable params: 1,801,201\n",
      "Non-trainable params: 0\n",
      "_________________________________________________________________\n"
     ]
    }
   ],
   "source": [
    "onionnet.summary()"
   ]
  },
  {
   "cell_type": "code",
   "execution_count": 59,
   "id": "177fc6cb-07d0-4da3-a892-9f22fab3344b",
   "metadata": {},
   "outputs": [],
   "source": [
    "onionnet.compile(\n",
    "        loss = 'binary_crossentropy',\n",
    "        optimizer = keras.optimizers.Adam(learning_rate=0.001),\n",
    "        metrics = ['accuracy']\n",
    "        )"
   ]
  },
  {
   "cell_type": "code",
   "execution_count": 61,
   "id": "257342f4-cf59-4e57-9969-d6617965af6e",
   "metadata": {
    "scrolled": true,
    "tags": []
   },
   "outputs": [
    {
     "name": "stdout",
     "output_type": "stream",
     "text": [
      "Epoch 1/20\n",
      "500/500 - 1s - loss: 0.2214 - accuracy: 0.9296 - val_loss: 0.4271 - val_accuracy: 0.8792 - 1s/epoch - 2ms/step\n",
      "Epoch 2/20\n",
      "500/500 - 1s - loss: 0.2223 - accuracy: 0.9288 - val_loss: 0.4269 - val_accuracy: 0.8802 - 895ms/epoch - 2ms/step\n",
      "Epoch 3/20\n",
      "500/500 - 1s - loss: 0.2211 - accuracy: 0.9302 - val_loss: 0.4348 - val_accuracy: 0.8767 - 848ms/epoch - 2ms/step\n",
      "Epoch 4/20\n",
      "500/500 - 1s - loss: 0.2187 - accuracy: 0.9302 - val_loss: 0.4199 - val_accuracy: 0.8823 - 810ms/epoch - 2ms/step\n",
      "Epoch 5/20\n",
      "500/500 - 1s - loss: 0.2176 - accuracy: 0.9308 - val_loss: 0.4303 - val_accuracy: 0.8823 - 792ms/epoch - 2ms/step\n",
      "Epoch 6/20\n",
      "500/500 - 1s - loss: 0.2161 - accuracy: 0.9307 - val_loss: 0.4355 - val_accuracy: 0.8783 - 792ms/epoch - 2ms/step\n",
      "Epoch 7/20\n",
      "500/500 - 1s - loss: 0.2163 - accuracy: 0.9314 - val_loss: 0.4405 - val_accuracy: 0.8783 - 848ms/epoch - 2ms/step\n",
      "Epoch 8/20\n",
      "500/500 - 1s - loss: 0.2136 - accuracy: 0.9317 - val_loss: 0.4423 - val_accuracy: 0.8785 - 823ms/epoch - 2ms/step\n",
      "Epoch 9/20\n",
      "500/500 - 1s - loss: 0.2149 - accuracy: 0.9315 - val_loss: 0.4619 - val_accuracy: 0.8785 - 812ms/epoch - 2ms/step\n",
      "Epoch 10/20\n",
      "500/500 - 1s - loss: 0.2143 - accuracy: 0.9311 - val_loss: 0.4419 - val_accuracy: 0.8750 - 790ms/epoch - 2ms/step\n",
      "Epoch 11/20\n",
      "500/500 - 1s - loss: 0.2133 - accuracy: 0.9316 - val_loss: 0.4533 - val_accuracy: 0.8805 - 816ms/epoch - 2ms/step\n",
      "Epoch 12/20\n",
      "500/500 - 1s - loss: 0.2133 - accuracy: 0.9317 - val_loss: 0.4447 - val_accuracy: 0.8783 - 819ms/epoch - 2ms/step\n",
      "Epoch 13/20\n",
      "500/500 - 1s - loss: 0.2124 - accuracy: 0.9316 - val_loss: 0.4502 - val_accuracy: 0.8740 - 840ms/epoch - 2ms/step\n",
      "Epoch 14/20\n",
      "500/500 - 1s - loss: 0.2100 - accuracy: 0.9316 - val_loss: 0.4487 - val_accuracy: 0.8727 - 897ms/epoch - 2ms/step\n",
      "Epoch 15/20\n",
      "500/500 - 1s - loss: 0.2097 - accuracy: 0.9322 - val_loss: 0.4653 - val_accuracy: 0.8777 - 926ms/epoch - 2ms/step\n",
      "Epoch 16/20\n",
      "500/500 - 1s - loss: 0.2100 - accuracy: 0.9324 - val_loss: 0.4605 - val_accuracy: 0.8752 - 826ms/epoch - 2ms/step\n",
      "Epoch 17/20\n",
      "500/500 - 1s - loss: 0.2114 - accuracy: 0.9320 - val_loss: 0.4637 - val_accuracy: 0.8773 - 793ms/epoch - 2ms/step\n",
      "Epoch 18/20\n",
      "500/500 - 1s - loss: 0.2087 - accuracy: 0.9318 - val_loss: 0.4695 - val_accuracy: 0.8755 - 804ms/epoch - 2ms/step\n",
      "Epoch 19/20\n",
      "500/500 - 1s - loss: 0.2095 - accuracy: 0.9325 - val_loss: 0.4694 - val_accuracy: 0.8748 - 841ms/epoch - 2ms/step\n",
      "Epoch 20/20\n",
      "500/500 - 1s - loss: 0.2086 - accuracy: 0.9326 - val_loss: 0.4617 - val_accuracy: 0.8740 - 886ms/epoch - 2ms/step\n"
     ]
    },
    {
     "data": {
      "text/plain": [
       "<keras.callbacks.History at 0x1c784f96ee0>"
      ]
     },
     "execution_count": 61,
     "metadata": {},
     "output_type": "execute_result"
    }
   ],
   "source": [
    "onionnet.fit(X_array_train, y_array_train, epochs = 20, verbose=2, validation_data = (X_array_test, y_array_test))"
   ]
  },
  {
   "cell_type": "code",
   "execution_count": 28,
   "id": "024d261f-e873-432b-ab92-3087c45c0367",
   "metadata": {},
   "outputs": [
    {
     "name": "stdout",
     "output_type": "stream",
     "text": [
      "125/125 [==============================] - 0s 1ms/step - loss: 0.4213 - accuracy: 0.8823\n"
     ]
    },
    {
     "data": {
      "text/plain": [
       "[0.4213024377822876, 0.8822500109672546]"
      ]
     },
     "execution_count": 56,
     "metadata": {},
     "output_type": "execute_result"
    }
   ],
   "source": [
    "onionnet.evaluate(X_array_test, y_array_test)"
   ]
  },
  {
   "cell_type": "markdown",
   "id": "3ed75e02-8423-409b-81e2-3d7a603a2f26",
   "metadata": {},
   "source": [
    "<br>\n",
    "\n",
    "Well, we've thrown everything and the kitchen sink at this data set and we still can't seem to break improve upon the base Logistic Regression model using only count frequencies. This seems to indicate that data itself might just inherently be misbehaving and a bit too dirty. One approach is to find more clean data or to generate a hand-labelled set of simpler training examples.\n",
    "\n",
    "An alternative approach is to reduce the scope of the problem and try to solve a simpler problem first. For example, we could try instead to classify news articles based on political subreddits which emphasize both a distinct tone as well as distinct keywords.\n",
    "\n",
    "Another major issue might be the fact that we inherently set-up the problem as one of imbalanced classes. It may be the case that results would be much better if we had set-up the problem where the classes were more balanced. We can check quickly if such a set-up would in fact help."
   ]
  },
  {
   "cell_type": "code",
   "execution_count": null,
   "id": "848160ac-0592-4363-bb94-8767f3688511",
   "metadata": {},
   "outputs": [],
   "source": [
    "news_sample_train = train[ train['class'] == 0].iloc[0:10_000]\n",
    "onion_sample_train = train[ train['class'] == 1].iloc[0:10_000]\n",
    "\n",
    "\n",
    "balanced_train = pd.concat([news_sample_train, onion_sample_train]).reset_index(drop=True)\n",
    "\n",
    "X = balanced_train['title']\n",
    "y = balanced_train['class']\n",
    "\n",
    "X_train, X_test, y_train, y_test = train_test_split(X, y, stratify = y, test_size=0.2, random_state=42)\n",
    "\n",
    "train_sentences = thor.tokenize(X_train, pattern='\\w\\w+')\n",
    "test_sentences =thor.tokenize(X_test, pattern = '\\w\\w+')\n",
    "\n",
    "Xvec_train = doc_to_vector(train_sentences)\n",
    "Xvec_test = doc_to_vector(test_sentences)\n",
    "\n",
    "X_array_train = np.array(Xvec_train)\n",
    "y_array_train = np.array(y_train)\n",
    "\n",
    "X_array_test = np.array(Xvec_test)\n",
    "y_array_test = np.array(y_test)"
   ]
  },
  {
   "cell_type": "code",
   "execution_count": 30,
   "id": "0ac05451-b52f-4dec-8989-f16b45b4247d",
   "metadata": {},
   "outputs": [
    {
     "data": {
      "text/plain": [
       "1    0.5\n",
       "0    0.5\n",
       "Name: class, dtype: float64"
      ]
     },
     "execution_count": 37,
     "metadata": {},
     "output_type": "execute_result"
    }
   ],
   "source": [
    "y_test.value_counts(normalize=True)"
   ]
  },
  {
   "cell_type": "code",
   "execution_count": 31,
   "id": "e46ffd57-6743-4dd2-a562-1f08a92444e3",
   "metadata": {},
   "outputs": [
    {
     "name": "stdout",
     "output_type": "stream",
     "text": [
      "Epoch 1/10\n",
      "500/500 - 2s - loss: 0.2291 - accuracy: 0.9304 - val_loss: 0.3919 - val_accuracy: 0.8865 - 2s/epoch - 3ms/step\n",
      "Epoch 2/10\n",
      "500/500 - 1s - loss: 0.2241 - accuracy: 0.9316 - val_loss: 0.4000 - val_accuracy: 0.8873 - 982ms/epoch - 2ms/step\n",
      "Epoch 3/10\n",
      "500/500 - 1s - loss: 0.2236 - accuracy: 0.9312 - val_loss: 0.4146 - val_accuracy: 0.8875 - 925ms/epoch - 2ms/step\n",
      "Epoch 4/10\n",
      "500/500 - 1s - loss: 0.2237 - accuracy: 0.9308 - val_loss: 0.4034 - val_accuracy: 0.8827 - 915ms/epoch - 2ms/step\n",
      "Epoch 5/10\n",
      "500/500 - 1s - loss: 0.2187 - accuracy: 0.9316 - val_loss: 0.3926 - val_accuracy: 0.8852 - 925ms/epoch - 2ms/step\n",
      "Epoch 6/10\n",
      "500/500 - 1s - loss: 0.2230 - accuracy: 0.9314 - val_loss: 0.3876 - val_accuracy: 0.8800 - 922ms/epoch - 2ms/step\n",
      "Epoch 7/10\n",
      "500/500 - 1s - loss: 0.2185 - accuracy: 0.9311 - val_loss: 0.3935 - val_accuracy: 0.8840 - 947ms/epoch - 2ms/step\n",
      "Epoch 8/10\n",
      "500/500 - 1s - loss: 0.2199 - accuracy: 0.9317 - val_loss: 0.4099 - val_accuracy: 0.8808 - 924ms/epoch - 2ms/step\n",
      "Epoch 9/10\n",
      "500/500 - 1s - loss: 0.2225 - accuracy: 0.9305 - val_loss: 0.4111 - val_accuracy: 0.8848 - 932ms/epoch - 2ms/step\n",
      "Epoch 10/10\n",
      "500/500 - 1s - loss: 0.2237 - accuracy: 0.9313 - val_loss: 0.4267 - val_accuracy: 0.8823 - 954ms/epoch - 2ms/step\n"
     ]
    },
    {
     "data": {
      "text/plain": [
       "<keras.callbacks.History at 0x1c84b030af0>"
      ]
     },
     "execution_count": 38,
     "metadata": {},
     "output_type": "execute_result"
    }
   ],
   "source": [
    "onionnet2 = keras.Sequential([\n",
    "                keras.Input(shape=(3000,)),\n",
    "                keras.layers.Dense(600, activation = 'relu', activity_regularizer = keras.regularizers.l2(0.0001)),\n",
    "                keras.layers.Dense(1, activation = 'sigmoid')\n",
    "            ])\n",
    "\n",
    "onionnet.compile(\n",
    "        loss = 'binary_crossentropy',\n",
    "        optimizer = keras.optimizers.Adam(learning_rate=0.001),\n",
    "        metrics = ['accuracy']\n",
    "        )\n",
    "\n",
    "onionnet.fit(X_array_train, y_array_train, epochs = 10, verbose=2, validation_data = (X_array_test, y_array_test))"
   ]
  },
  {
   "cell_type": "markdown",
   "id": "191bb639-170c-4820-b4d7-59b8dee854d8",
   "metadata": {},
   "source": [
    "<br>\n",
    "\n",
    "Balancing the has pushed it above the baseline accuracy but it seems there is something inherently stopping it from being able to improve.\n",
    "\n",
    "---\n",
    "\n",
    "# Conclusion\n",
    "\n",
    "So it seems that this word2vec encoding of our documents does not work as well as simple frequency encodings from our previous models. This leads us to suggest that there is something inherent in the data (or perhaps in the encoding method) which is preventing a decent model from being trained.\n",
    "\n",
    "We notice that our neural network seems to reduce training loss at the expense of increasing cross-validation loss. We are currently not sure why this is the case."
   ]
  },
  {
   "cell_type": "markdown",
   "id": "9e5242b2-3535-4af2-acb2-dcc257bb44e9",
   "metadata": {},
   "source": [
    "---\n",
    "\n",
    "# Further Investigations\n",
    "\n",
    "We end our project with a proposal for a possible avenue of future investigation. Recall that the whole premise of using word2vec was to try and preserve word ordering and context clues. Since we are interested in extracting information from word ordering, it might be possible to achieve some better results using a Convolutional Neural Network. Essentially, the idea is to achieve a sort of 3-gram grouping by convolving sequential sub-vectors of length 300 (moving at steps of 100 per word). In the same way that images can be paced-together by convolving sub-matrices of the pixel matrix using a CNN, it might be possible to achieve something analogous to this for a sentence structure.\n",
    "\n",
    "Another thing worth trying is to run the neural network on the corpus using frequence encoding. Since a basic logistic regression model was abel to do so well using this method, we suspect a neural network may do slightly better and scale better to an even larger data set. At the moment, our hardware limitations prevent us from representing the frequency encoded corpus as a dense matrix, which we would need to do in order to input into the ```keras.Sequential()``` model."
   ]
  },
  {
   "cell_type": "code",
   "execution_count": null,
   "id": "cc541a11-9683-4c87-b55b-f2492a0ccdd2",
   "metadata": {},
   "outputs": [],
   "source": []
  },
  {
   "cell_type": "code",
   "execution_count": null,
   "id": "89fc88d1-289b-4a59-baac-0ba9eb34ed38",
   "metadata": {},
   "outputs": [],
   "source": []
  }
 ],
 "metadata": {
  "kernelspec": {
   "display_name": "Python 3 (ipykernel)",
   "language": "python",
   "name": "python3"
  },
  "language_info": {
   "codemirror_mode": {
    "name": "ipython",
    "version": 3
   },
   "file_extension": ".py",
   "mimetype": "text/x-python",
   "name": "python",
   "nbconvert_exporter": "python",
   "pygments_lexer": "ipython3",
   "version": "3.9.7"
  }
 },
 "nbformat": 4,
 "nbformat_minor": 5
}
