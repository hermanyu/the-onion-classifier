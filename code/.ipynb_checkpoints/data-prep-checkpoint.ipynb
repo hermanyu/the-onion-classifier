{
 "cells": [
  {
   "cell_type": "code",
   "execution_count": 1,
   "id": "ab82af5b-d9a9-4810-90b5-a23838f06584",
   "metadata": {},
   "outputs": [],
   "source": [
    "import numpy as np\n",
    "import pandas as pd\n",
    "import matplotlib.pyplot as plt\n",
    "import seaborn as sns\n",
    "import re\n",
    "from collections import Counter\n",
    "import joblib\n",
    "\n",
    "from sklearn.linear_model import LogisticRegression\n",
    "\n",
    "from sklearn.metrics import confusion_matrix, ConfusionMatrixDisplay, recall_score, precision_score\n",
    "from sklearn.model_selection import train_test_split, GridSearchCV\n",
    "from sklearn.pipeline import Pipeline\n",
    "from sklearn.preprocessing import StandardScaler, FunctionTransformer\n",
    "\n",
    "from sklearn.feature_extraction.text import CountVectorizer, TfidfVectorizer\n",
    "\n",
    "from nltk.tokenize import sent_tokenize, word_tokenize, RegexpTokenizer\n",
    "from nltk.stem import WordNetLemmatizer\n",
    "from nltk.stem.porter import PorterStemmer\n",
    "from nltk.corpus import stopwords\n",
    "\n",
    "\n",
    "import thor"
   ]
  },
  {
   "cell_type": "code",
   "execution_count": 2,
   "id": "52083e71-5c8f-49a5-a81e-e43122758ac0",
   "metadata": {},
   "outputs": [],
   "source": [
    "news1 = pd.read_csv('../data/news10k.csv', index_col = 'Unnamed: 0')\n",
    "news2 = pd.read_csv('../data/news100k_iter1.csv', index_col = 'Unnamed: 0')\n",
    "\n",
    "onion1 = pd.read_csv('../data/onion10k.csv', index_col = 'Unnamed: 0')\n",
    "onion2 = pd.read_csv('../data/onion100k_iter1.csv', index_col = 'Unnamed: 0')"
   ]
  },
  {
   "cell_type": "code",
   "execution_count": 3,
   "id": "6d5042a0-aa91-43e6-bceb-8fc5a901c8c3",
   "metadata": {},
   "outputs": [],
   "source": [
    "news = pd.concat([news1[['created_utc', 'title']],news2])\n",
    "\n",
    "onion = pd.concat([onion1[['created_utc', 'title']], onion2])"
   ]
  },
  {
   "cell_type": "code",
   "execution_count": 4,
   "id": "a503e5ae-2e51-4b7b-b9c4-1f397532f6a0",
   "metadata": {},
   "outputs": [],
   "source": [
    "news['class'] = 0\n",
    "onion['class'] = 1"
   ]
  },
  {
   "cell_type": "code",
   "execution_count": 5,
   "id": "9c944407-6ada-4f95-9583-a8804c7f3f0a",
   "metadata": {},
   "outputs": [
    {
     "data": {
      "text/plain": [
       "((110000, 3), (17307, 3))"
      ]
     },
     "execution_count": 5,
     "metadata": {},
     "output_type": "execute_result"
    }
   ],
   "source": [
    "news.shape, onion.shape"
   ]
  },
  {
   "cell_type": "code",
   "execution_count": 6,
   "id": "c6cd4cf3-9bf9-4e75-8b0f-455729d9e8c0",
   "metadata": {},
   "outputs": [],
   "source": [
    "total = pd.concat([news, onion])"
   ]
  },
  {
   "cell_type": "code",
   "execution_count": 7,
   "id": "ec707315-6cdf-4946-a80b-e13935638423",
   "metadata": {},
   "outputs": [
    {
     "data": {
      "text/plain": [
       "(127307, 3)"
      ]
     },
     "execution_count": 7,
     "metadata": {},
     "output_type": "execute_result"
    }
   ],
   "source": [
    "total.shape"
   ]
  },
  {
   "cell_type": "code",
   "execution_count": 9,
   "id": "3db46695-5192-4670-845a-435e048f7550",
   "metadata": {},
   "outputs": [],
   "source": [
    "total['title'] = total['title'].str.lower()"
   ]
  },
  {
   "cell_type": "code",
   "execution_count": 10,
   "id": "c4fb3a4e-c4ea-47ad-a8b3-b8293bdb18c8",
   "metadata": {},
   "outputs": [],
   "source": [
    "total.drop_duplicates(subset='title', inplace=True)"
   ]
  },
  {
   "cell_type": "code",
   "execution_count": 11,
   "id": "fc297d1a-6fef-4759-8144-02de0f45aa03",
   "metadata": {},
   "outputs": [
    {
     "data": {
      "text/plain": [
       "(117216, 3)"
      ]
     },
     "execution_count": 11,
     "metadata": {},
     "output_type": "execute_result"
    }
   ],
   "source": [
    "total.shape"
   ]
  },
  {
   "cell_type": "code",
   "execution_count": 12,
   "id": "6ef26437-01b3-4e2f-b09a-762dc9854a08",
   "metadata": {},
   "outputs": [],
   "source": [
    "total = total[total['title'].map(lambda x: x.isascii())]"
   ]
  },
  {
   "cell_type": "code",
   "execution_count": 13,
   "id": "3c4d069a-09ca-4221-83ae-b36bd0e4305a",
   "metadata": {},
   "outputs": [
    {
     "data": {
      "text/plain": [
       "(11318, 3)"
      ]
     },
     "execution_count": 13,
     "metadata": {},
     "output_type": "execute_result"
    }
   ],
   "source": [
    "total[ total['class']==1 ].shape"
   ]
  },
  {
   "cell_type": "code",
   "execution_count": 14,
   "id": "8e18740a-004a-4871-9709-e874c3aff010",
   "metadata": {},
   "outputs": [],
   "source": [
    "total = total.sample(frac=1).reset_index(drop=True)"
   ]
  },
  {
   "cell_type": "code",
   "execution_count": 15,
   "id": "84c1ec1e-1ef3-47f0-8790-834a361fee20",
   "metadata": {},
   "outputs": [],
   "source": [
    "X = total.drop(columns='class')\n",
    "y = total['class']\n",
    "\n",
    "X_train, X_test, y_train, y_test = train_test_split(X, y, stratify=y, test_size=0.1, random_state=42)"
   ]
  },
  {
   "cell_type": "code",
   "execution_count": 16,
   "id": "f21ed129-c70f-464e-a140-6f3a22f58e1e",
   "metadata": {},
   "outputs": [],
   "source": [
    "total_train = pd.concat([X_train, y_train], axis=1)\n",
    "total_test = pd.concat([X_test, y_test], axis=1)"
   ]
  },
  {
   "cell_type": "code",
   "execution_count": 17,
   "id": "9f38ee2d-8762-4b59-a627-149d51ecd047",
   "metadata": {},
   "outputs": [],
   "source": [
    "total.to_csv('../data/total.csv', index=False)\n",
    "total_train.to_csv('../data/total_train.csv', index=False)\n",
    "total_test.to_csv('../data/total_test.csv', index=False)"
   ]
  },
  {
   "cell_type": "code",
   "execution_count": 18,
   "id": "e46082ae-f0fc-4000-8d99-3fd942d9a17a",
   "metadata": {},
   "outputs": [
    {
     "data": {
      "text/html": [
       "<div>\n",
       "<style scoped>\n",
       "    .dataframe tbody tr th:only-of-type {\n",
       "        vertical-align: middle;\n",
       "    }\n",
       "\n",
       "    .dataframe tbody tr th {\n",
       "        vertical-align: top;\n",
       "    }\n",
       "\n",
       "    .dataframe thead th {\n",
       "        text-align: right;\n",
       "    }\n",
       "</style>\n",
       "<table border=\"1\" class=\"dataframe\">\n",
       "  <thead>\n",
       "    <tr style=\"text-align: right;\">\n",
       "      <th></th>\n",
       "      <th>created_utc</th>\n",
       "      <th>title</th>\n",
       "      <th>class</th>\n",
       "    </tr>\n",
       "  </thead>\n",
       "  <tbody>\n",
       "    <tr>\n",
       "      <th>52512</th>\n",
       "      <td>1638807805</td>\n",
       "      <td>sheriff's office removes photo of santa fillin...</td>\n",
       "      <td>0</td>\n",
       "    </tr>\n",
       "    <tr>\n",
       "      <th>83221</th>\n",
       "      <td>1636918297</td>\n",
       "      <td>this library lets you borrow people instead of...</td>\n",
       "      <td>0</td>\n",
       "    </tr>\n",
       "    <tr>\n",
       "      <th>48443</th>\n",
       "      <td>1647961430</td>\n",
       "      <td>russian elements have infiltrated every elemen...</td>\n",
       "      <td>0</td>\n",
       "    </tr>\n",
       "    <tr>\n",
       "      <th>63446</th>\n",
       "      <td>1511181800</td>\n",
       "      <td>only 4 drivers left alive go into final nascar...</td>\n",
       "      <td>1</td>\n",
       "    </tr>\n",
       "    <tr>\n",
       "      <th>72432</th>\n",
       "      <td>1646768574</td>\n",
       "      <td>what happens in ukraine since 2015</td>\n",
       "      <td>0</td>\n",
       "    </tr>\n",
       "  </tbody>\n",
       "</table>\n",
       "</div>"
      ],
      "text/plain": [
       "       created_utc                                              title  class\n",
       "52512   1638807805  sheriff's office removes photo of santa fillin...      0\n",
       "83221   1636918297  this library lets you borrow people instead of...      0\n",
       "48443   1647961430  russian elements have infiltrated every elemen...      0\n",
       "63446   1511181800  only 4 drivers left alive go into final nascar...      1\n",
       "72432   1646768574                 what happens in ukraine since 2015      0"
      ]
     },
     "execution_count": 18,
     "metadata": {},
     "output_type": "execute_result"
    }
   ],
   "source": [
    "total_train.head()"
   ]
  }
 ],
 "metadata": {
  "kernelspec": {
   "display_name": "Python 3 (ipykernel)",
   "language": "python",
   "name": "python3"
  },
  "language_info": {
   "codemirror_mode": {
    "name": "ipython",
    "version": 3
   },
   "file_extension": ".py",
   "mimetype": "text/x-python",
   "name": "python",
   "nbconvert_exporter": "python",
   "pygments_lexer": "ipython3",
   "version": "3.9.12"
  }
 },
 "nbformat": 4,
 "nbformat_minor": 5
}
