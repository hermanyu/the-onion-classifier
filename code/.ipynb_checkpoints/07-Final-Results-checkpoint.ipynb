{
 "cells": [
  {
   "cell_type": "code",
   "execution_count": 11,
   "id": "b131f6a4-f0cd-4429-873b-d6dc82f50ff5",
   "metadata": {},
   "outputs": [],
   "source": [
    "import numpy as np\n",
    "import pandas as pd\n",
    "import matplotlib.pyplot as plt\n",
    "import joblib\n",
    "\n",
    "from sklearn.linear_model import LogisticRegression\n",
    "from sklearn.pipeline import Pipeline\n",
    "from sklearn.model_selection import GridSearchCV\n",
    "\n",
    "from sklearn.metrics import confusion_matrix, ConfusionMatrixDisplay, recall_score, precision_score, f1_score, plot_roc_curve, roc_auc_score, accuracy_score\n",
    "\n",
    "from sklearn.feature_extraction.text import CountVectorizer, TfidfVectorizer\n",
    "\n",
    "from nltk.tokenize import sent_tokenize, word_tokenize, RegexpTokenizer\n",
    "from nltk.stem import WordNetLemmatizer\n",
    "from nltk.stem.porter import PorterStemmer\n",
    "from nltk.corpus import stopwords\n",
    "\n",
    "\n",
    "import thor"
   ]
  },
  {
   "cell_type": "code",
   "execution_count": 2,
   "id": "83a0c125-ad51-4d2b-b2d5-ba52e8122142",
   "metadata": {},
   "outputs": [],
   "source": [
    "test = pd.read_csv('../data/total_test.csv')\n",
    "\n",
    "X = test['title']\n",
    "y = test['class']"
   ]
  },
  {
   "cell_type": "code",
   "execution_count": 4,
   "id": "26a795b9-b431-4c9e-9267-32acf5d2aef5",
   "metadata": {},
   "outputs": [
    {
     "data": {
      "text/plain": [
       "0.986715784773387"
      ]
     },
     "execution_count": 4,
     "metadata": {},
     "output_type": "execute_result"
    }
   ],
   "source": [
    "final_model = joblib.load('../models/logreg1.pkl')\n",
    "\n",
    "final_model.score(X, y)"
   ]
  },
  {
   "cell_type": "code",
   "execution_count": 8,
   "id": "76a3bc39-e7d3-415b-a220-c4efa86f0f47",
   "metadata": {},
   "outputs": [
    {
     "name": "stdout",
     "output_type": "stream",
     "text": [
      "Accuracy:  0.986715784773387\n",
      " \n",
      "Recall:  0.9251101321585903\n",
      " \n",
      "Precision:  0.9686346863468634\n",
      " \n",
      "F1:  0.9463722397476341\n"
     ]
    },
    {
     "name": "stderr",
     "output_type": "stream",
     "text": [
      "C:\\Users\\herma\\anaconda3\\envs\\tf-gpu\\lib\\site-packages\\sklearn\\utils\\deprecation.py:87: FutureWarning: Function plot_roc_curve is deprecated; Function :func:`plot_roc_curve` is deprecated in 1.0 and will be removed in 1.2. Use one of the class methods: :meth:`sklearn.metric.RocCurveDisplay.from_predictions` or :meth:`sklearn.metric.RocCurveDisplay.from_estimator`.\n",
      "  warnings.warn(msg, category=FutureWarning)\n"
     ]
    },
    {
     "data": {
      "image/png": "[encoded data removed]",
      "text/plain": [
       "<Figure size 432x288 with 1 Axes>"
      ]
     },
     "metadata": {
      "needs_background": "light"
     },
     "output_type": "display_data"
    }
   ],
   "source": [
    "preds = final_model.predict(X)\n",
    "\n",
    "print(\"Accuracy: \", accuracy_score(y, preds))\n",
    "print(\" \")\n",
    "print(\"Recall: \", recall_score(y, preds))\n",
    "print(\" \")\n",
    "print(\"Precision: \", precision_score(y, preds))\n",
    "print(\" \")\n",
    "print(\"F1: \", f1_score(y, preds))\n",
    "\n",
    "#plot roc curve\n",
    "plot_roc_curve(final_model, X, y);\n",
    "\n",
    "plt.plot([0,1],[0,1], linestyle='--', color='red', label='baseline');\n",
    "plt.legend();"
   ]
  },
  {
   "cell_type": "code",
   "execution_count": 9,
   "id": "5c65be5d-9619-4c71-86ed-c1b2fdcefbd2",
   "metadata": {},
   "outputs": [],
   "source": [
    "train = pd.read_csv('../data/total_train.csv')\n",
    "\n",
    "total = pd.concat([train, test])\n",
    "\n",
    "X_total = total['title']\n",
    "\n",
    "y_total = total['class']"
   ]
  },
  {
   "cell_type": "code",
   "execution_count": 10,
   "id": "3b1a159b-da01-47f6-9de2-1f7d71143f91",
   "metadata": {},
   "outputs": [
    {
     "data": {
      "text/plain": [
       "{'cvec__binary': True,\n",
       " 'cvec__max_df': 0.3,\n",
       " 'cvec__ngram_range': (1, 2),\n",
       " 'cvec__stop_words': None,\n",
       " 'logreg__C': 10}"
      ]
     },
     "execution_count": 10,
     "metadata": {},
     "output_type": "execute_result"
    }
   ],
   "source": [
    "final_model.best_params_"
   ]
  },
  {
   "cell_type": "code",
   "execution_count": 12,
   "id": "ddde7381-3d0f-4c62-82f8-c575b154dd9e",
   "metadata": {},
   "outputs": [],
   "source": [
    "production_model = Pipeline([\n",
    "                        ('cvec', CountVectorizer(binary=True, ngram_range=(1,2), max_df=0.3)),\n",
    "                        ('logreg', LogisticRegression(C=10))\n",
    "                    ])\n",
    "\n"
   ]
  },
  {
   "cell_type": "code",
   "execution_count": null,
   "id": "deed3fc8-82e8-4889-834b-d3520d98b320",
   "metadata": {},
   "outputs": [],
   "source": []
  }
 ],
 "metadata": {
  "kernelspec": {
   "display_name": "Python 3 (ipykernel)",
   "language": "python",
   "name": "python3"
  },
  "language_info": {
   "codemirror_mode": {
    "name": "ipython",
    "version": 3
   },
   "file_extension": ".py",
   "mimetype": "text/x-python",
   "name": "python",
   "nbconvert_exporter": "python",
   "pygments_lexer": "ipython3",
   "version": "3.9.7"
  }
 },
 "nbformat": 4,
 "nbformat_minor": 5
}
