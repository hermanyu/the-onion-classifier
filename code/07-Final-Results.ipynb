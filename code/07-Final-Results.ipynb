{
 "cells": [
  {
   "cell_type": "markdown",
   "id": "9d6a238b-eafe-4b65-a98a-3cc5388b3394",
   "metadata": {},
   "source": [
    "# The Final Production Model"
   ]
  },
  {
   "cell_type": "code",
   "execution_count": 1,
   "id": "b131f6a4-f0cd-4429-873b-d6dc82f50ff5",
   "metadata": {},
   "outputs": [],
   "source": [
    "import numpy as np\n",
    "import pandas as pd\n",
    "import matplotlib.pyplot as plt\n",
    "import joblib\n",
    "\n",
    "from sklearn.linear_model import LogisticRegression\n",
    "from sklearn.svm import LinearSVC\n",
    "from sklearn.pipeline import Pipeline\n",
    "from sklearn.model_selection import GridSearchCV\n",
    "\n",
    "from sklearn.metrics import confusion_matrix, ConfusionMatrixDisplay, recall_score, precision_score, f1_score, plot_roc_curve, roc_auc_score, accuracy_score\n",
    "\n",
    "from sklearn.feature_extraction.text import CountVectorizer, TfidfVectorizer\n",
    "\n",
    "from nltk.tokenize import sent_tokenize, word_tokenize, RegexpTokenizer\n",
    "from nltk.stem import WordNetLemmatizer\n",
    "from nltk.stem.porter import PorterStemmer\n",
    "from nltk.corpus import stopwords\n",
    "\n",
    "\n",
    "import thor"
   ]
  },
  {
   "cell_type": "code",
   "execution_count": 2,
   "id": "83a0c125-ad51-4d2b-b2d5-ba52e8122142",
   "metadata": {},
   "outputs": [],
   "source": [
    "# load in the final test set; we have not touched this until now, so this is strictly unseen data.\n",
    "test = pd.read_csv('../data/total_test.csv')\n",
    "\n",
    "X = test['title']\n",
    "y = test['class']"
   ]
  },
  {
   "cell_type": "code",
   "execution_count": 3,
   "id": "26a795b9-b431-4c9e-9267-32acf5d2aef5",
   "metadata": {},
   "outputs": [
    {
     "data": {
      "text/plain": [
       "0.9384942863544701"
      ]
     },
     "execution_count": 3,
     "metadata": {},
     "output_type": "execute_result"
    }
   ],
   "source": [
    "# Let's bring in our SVM model which seems to have worked the best\n",
    "final_model = joblib.load('../models/svm3.pkl')\n",
    "\n",
    "# Let's evaluate the SVM score on the test set we've held out up until now.\n",
    "final_model.score(X, y)"
   ]
  },
  {
   "cell_type": "code",
   "execution_count": 4,
   "id": "76a3bc39-e7d3-415b-a220-c4efa86f0f47",
   "metadata": {},
   "outputs": [
    {
     "name": "stdout",
     "output_type": "stream",
     "text": [
      "Accuracy:  0.9384942863544701\n",
      " \n",
      "Recall:  0.6113074204946997\n",
      " \n",
      "Precision:  0.8639200998751561\n",
      " \n",
      "F1:  0.7159855147439214\n"
     ]
    },
    {
     "name": "stderr",
     "output_type": "stream",
     "text": [
      "C:\\Users\\herma\\anaconda3\\envs\\tf-gpu\\lib\\site-packages\\sklearn\\utils\\deprecation.py:87: FutureWarning: Function plot_roc_curve is deprecated; Function :func:`plot_roc_curve` is deprecated in 1.0 and will be removed in 1.2. Use one of the class methods: :meth:`sklearn.metric.RocCurveDisplay.from_predictions` or :meth:`sklearn.metric.RocCurveDisplay.from_estimator`.\n",
      "  warnings.warn(msg, category=FutureWarning)\n"
     ]
    },
    {
     "data": {
      "image/png": "[encoded data removed]",
      "text/plain": [
       "<Figure size 432x288 with 1 Axes>"
      ]
     },
     "metadata": {
      "needs_background": "light"
     },
     "output_type": "display_data"
    }
   ],
   "source": [
    "preds = final_model.predict(X)\n",
    "\n",
    "print(\"Accuracy: \", accuracy_score(y, preds))\n",
    "print(\" \")\n",
    "print(\"Recall: \", recall_score(y, preds))\n",
    "print(\" \")\n",
    "print(\"Precision: \", precision_score(y, preds))\n",
    "print(\" \")\n",
    "print(\"F1: \", f1_score(y, preds))\n",
    "\n",
    "#plot roc curve\n",
    "plot_roc_curve(final_model, X, y);\n",
    "\n",
    "plt.plot([0,1],[0,1], linestyle='--', color='red', label='baseline');\n",
    "plt.legend();"
   ]
  },
  {
   "cell_type": "code",
   "execution_count": 5,
   "id": "5c65be5d-9619-4c71-86ed-c1b2fdcefbd2",
   "metadata": {},
   "outputs": [],
   "source": [
    "# build final production model by training on all data.\n",
    "total = pd.read_csv('../data/total.csv')\n",
    "\n",
    "X_total = total['title']\n",
    "y_total = total['class']"
   ]
  },
  {
   "cell_type": "code",
   "execution_count": 6,
   "id": "15fe5c47-c876-4943-aef4-c20646a5262d",
   "metadata": {},
   "outputs": [
    {
     "data": {
      "text/plain": [
       "(89255, 3)"
      ]
     },
     "execution_count": 6,
     "metadata": {},
     "output_type": "execute_result"
    }
   ],
   "source": [
    "total.shape"
   ]
  },
  {
   "cell_type": "code",
   "execution_count": 7,
   "id": "3b1a159b-da01-47f6-9de2-1f7d71143f91",
   "metadata": {},
   "outputs": [
    {
     "data": {
      "text/plain": [
       "{'cvec__max_df': 0.3,\n",
       " 'cvec__ngram_range': (1, 2),\n",
       " 'cvec__stop_words': None,\n",
       " 'svm__C': 0.5}"
      ]
     },
     "execution_count": 7,
     "metadata": {},
     "output_type": "execute_result"
    }
   ],
   "source": [
    "final_model.best_params_"
   ]
  },
  {
   "cell_type": "code",
   "execution_count": 8,
   "id": "ddde7381-3d0f-4c62-82f8-c575b154dd9e",
   "metadata": {},
   "outputs": [
    {
     "data": {
      "text/plain": [
       "Pipeline(steps=[('cvec',\n",
       "                 CountVectorizer(binary=True, max_df=0.3, ngram_range=(1, 2))),\n",
       "                ('svm', LinearSVC(C=0.5))])"
      ]
     },
     "execution_count": 8,
     "metadata": {},
     "output_type": "execute_result"
    }
   ],
   "source": [
    "# instantiate pipeline and fit model\n",
    "production_model = Pipeline([\n",
    "                        ('cvec', CountVectorizer(binary=True, ngram_range=(1,2), max_df=0.3)),\n",
    "                        ('svm', LinearSVC(C=0.5))\n",
    "                    ])\n",
    "\n",
    "\n",
    "production_model.fit(X,y)"
   ]
  },
  {
   "cell_type": "code",
   "execution_count": 9,
   "id": "deed3fc8-82e8-4889-834b-d3520d98b320",
   "metadata": {},
   "outputs": [
    {
     "data": {
      "text/plain": [
       "0.9998879677347076"
      ]
     },
     "execution_count": 9,
     "metadata": {},
     "output_type": "execute_result"
    }
   ],
   "source": [
    "production_model.score(X,y)"
   ]
  },
  {
   "cell_type": "code",
   "execution_count": 10,
   "id": "641ccc33-d237-4e0b-ad5b-8cbc8135f986",
   "metadata": {},
   "outputs": [
    {
     "name": "stdout",
     "output_type": "stream",
     "text": [
      "Accuracy:  0.9998879677347076\n",
      " \n",
      "Recall:  0.9991166077738516\n",
      " \n",
      "Precision:  1.0\n",
      " \n",
      "F1:  0.9995581087052585\n"
     ]
    },
    {
     "name": "stderr",
     "output_type": "stream",
     "text": [
      "C:\\Users\\herma\\anaconda3\\envs\\tf-gpu\\lib\\site-packages\\sklearn\\utils\\deprecation.py:87: FutureWarning: Function plot_roc_curve is deprecated; Function :func:`plot_roc_curve` is deprecated in 1.0 and will be removed in 1.2. Use one of the class methods: :meth:`sklearn.metric.RocCurveDisplay.from_predictions` or :meth:`sklearn.metric.RocCurveDisplay.from_estimator`.\n",
      "  warnings.warn(msg, category=FutureWarning)\n"
     ]
    },
    {
     "data": {
      "image/png": "[encoded data removed]",
      "text/plain": [
       "<Figure size 432x288 with 1 Axes>"
      ]
     },
     "metadata": {
      "needs_background": "light"
     },
     "output_type": "display_data"
    }
   ],
   "source": [
    "# quick look at metrics\n",
    "preds = production_model.predict(X)\n",
    "\n",
    "print(\"Accuracy: \", accuracy_score(y, preds))\n",
    "print(\" \")\n",
    "print(\"Recall: \", recall_score(y, preds))\n",
    "print(\" \")\n",
    "print(\"Precision: \", precision_score(y, preds))\n",
    "print(\" \")\n",
    "print(\"F1: \", f1_score(y, preds))\n",
    "\n",
    "#plot roc curve\n",
    "plot_roc_curve(final_model, X, y);\n",
    "\n",
    "plt.plot([0,1],[0,1], linestyle='--', color='red', label='baseline');\n",
    "plt.legend();"
   ]
  },
  {
   "cell_type": "code",
   "execution_count": 11,
   "id": "8c4147ee-c5a7-4605-a9f1-37082fec4952",
   "metadata": {},
   "outputs": [
    {
     "data": {
      "text/plain": [
       "['../models/production_model_svm.pkl']"
      ]
     },
     "execution_count": 11,
     "metadata": {},
     "output_type": "execute_result"
    }
   ],
   "source": [
    "# save model\n",
    "joblib.dump(production_model, '../models/production_model_svm.pkl')"
   ]
  },
  {
   "cell_type": "markdown",
   "id": "b46d5523-a66e-408a-a58e-2c4da6edcd2e",
   "metadata": {},
   "source": [
    "# Random Forest\n",
    "\n",
    "Let us also evaluate the Random Forest model which we trained on the balanced data set."
   ]
  },
  {
   "cell_type": "code",
   "execution_count": 12,
   "id": "b20d7074-655b-4c49-a1f9-75545f66bffc",
   "metadata": {},
   "outputs": [],
   "source": [
    "test = pd.read_csv('../data/total_test.csv')\n",
    "\n",
    "X = test['title']\n",
    "y = test['class']\n",
    "\n",
    "randomforest = joblib.load('../models/forest.pkl')"
   ]
  },
  {
   "cell_type": "code",
   "execution_count": 13,
   "id": "c5a5cb57-7549-4ef5-b7f6-638bdc93ae1b",
   "metadata": {},
   "outputs": [
    {
     "data": {
      "text/plain": [
       "0.8493166031817163"
      ]
     },
     "execution_count": 13,
     "metadata": {},
     "output_type": "execute_result"
    }
   ],
   "source": [
    "randomforest.score(X,y)"
   ]
  }
 ],
 "metadata": {
  "kernelspec": {
   "display_name": "Python 3 (ipykernel)",
   "language": "python",
   "name": "python3"
  },
  "language_info": {
   "codemirror_mode": {
    "name": "ipython",
    "version": 3
   },
   "file_extension": ".py",
   "mimetype": "text/x-python",
   "name": "python",
   "nbconvert_exporter": "python",
   "pygments_lexer": "ipython3",
   "version": "3.9.12"
  }
 },
 "nbformat": 4,
 "nbformat_minor": 5
}
