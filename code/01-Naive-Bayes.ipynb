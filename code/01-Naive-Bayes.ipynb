{
 "cells": [
  {
   "cell_type": "markdown",
   "id": "2bfc7148-c314-4a7e-add6-c68bcbb00262",
   "metadata": {},
   "source": [
    "# Naive Bayes\n",
    "\n",
    "In this notebook, we build a few Naive Bayes models and evaluate their performance. The key thing to keep in mind is that our data set is imbalanced, with over 87% of the data beloning to Class 0 (i.e. ```r/news```). This makes it hard to gage model performance from accuracy alone."
   ]
  },
  {
   "cell_type": "code",
   "execution_count": 2,
   "id": "7e675085-5363-4afd-9eed-e24e77781803",
   "metadata": {},
   "outputs": [],
   "source": [
    "import numpy as np\n",
    "import pandas as pd\n",
    "import matplotlib.pyplot as plt\n",
    "import seaborn as sns\n",
    "import re\n",
    "from collections import Counter\n",
    "import joblib\n",
    "\n",
    "from sklearn.naive_bayes import MultinomialNB, GaussianNB\n",
    "from sklearn.linear_model import LogisticRegression\n",
    "\n",
    "from sklearn.metrics import confusion_matrix, ConfusionMatrixDisplay, recall_score, precision_score, plot_roc_curve, roc_auc_score\n",
    "from sklearn.model_selection import train_test_split, GridSearchCV\n",
    "from sklearn.pipeline import Pipeline\n",
    "from sklearn.preprocessing import StandardScaler, FunctionTransformer, PowerTransformer\n",
    "from sklearn.metrics import confusion_matrix, ConfusionMatrixDisplay, recall_score, precision_score, f1_score\n",
    "\n",
    "from sklearn.feature_extraction.text import CountVectorizer, TfidfVectorizer\n",
    "\n",
    "from nltk.tokenize import sent_tokenize, word_tokenize, RegexpTokenizer\n",
    "from nltk.stem import WordNetLemmatizer\n",
    "from nltk.stem.porter import PorterStemmer\n",
    "from nltk.corpus import stopwords\n",
    "from nltk.sentiment.vader import SentimentIntensityAnalyzer\n",
    "\n",
    "\n",
    "import thor"
   ]
  },
  {
   "cell_type": "markdown",
   "id": "ea3c129c-80f2-4338-82d7-3590c9cc1a19",
   "metadata": {},
   "source": [
    "# The Baseline Accuracy"
   ]
  },
  {
   "cell_type": "code",
   "execution_count": 3,
   "id": "db301d9e-fa51-4018-9663-edb4b5b5b5d0",
   "metadata": {},
   "outputs": [],
   "source": [
    "train = pd.read_csv('../data/total_train.csv')\n",
    "\n",
    "X = train.drop(columns='class')['title'].str.lower()\n",
    "y = train['class']"
   ]
  },
  {
   "cell_type": "code",
   "execution_count": 4,
   "id": "f73e2777-2027-42e0-b9c1-b81f7643697d",
   "metadata": {},
   "outputs": [
    {
     "data": {
      "text/plain": [
       "(80329, 3)"
      ]
     },
     "execution_count": 4,
     "metadata": {},
     "output_type": "execute_result"
    }
   ],
   "source": [
    "train.shape"
   ]
  },
  {
   "cell_type": "code",
   "execution_count": 5,
   "id": "0770560c-9e1e-466a-b487-89cb6628e461",
   "metadata": {},
   "outputs": [],
   "source": [
    "X_train, X_test, y_train, y_test = train_test_split(X, y, stratify=y, test_size=0.1, random_state=42) "
   ]
  },
  {
   "cell_type": "markdown",
   "id": "df82a457-0dc8-4785-8833-1c2d47728728",
   "metadata": {},
   "source": [
    "- Our baseline accuracy is the score our model would get if it just guessed the majority class for every prediction.\n"
   ]
  },
  {
   "cell_type": "code",
   "execution_count": 6,
   "id": "1b6f5c06-fed3-43b0-b5cf-8a28ff22f008",
   "metadata": {},
   "outputs": [
    {
     "data": {
      "text/plain": [
       "class\n",
       "0    0.873196\n",
       "1    0.126804\n",
       "dtype: float64"
      ]
     },
     "execution_count": 6,
     "metadata": {},
     "output_type": "execute_result"
    }
   ],
   "source": [
    "train.value_counts(subset='class', normalize=True)"
   ]
  },
  {
   "cell_type": "markdown",
   "id": "0f22165c-853d-45da-a11a-d471a3f7a4e9",
   "metadata": {},
   "source": [
    "<br>\n",
    "\n",
    "Notice the imbalance of class distributions: the model can simply cheat and guess ```r/news``` every time, and still have 87.3% accuracy. This is our baseline accuracy and also indicates that accuracy is probably not the single best metric for evaluating our model. Some alternatives metrics include:\n",
    "1. The Recall Score: how good is the model at detecting ```r/TheOnion``` headlines?\n",
    "    - Higher recall score means the model is able to detect ```r/TheOnion``` headlines better.\n",
    "2. The Precision Score: If the model predicts a headline is from ```r/TheOnion```, how likely is it to be correct?\n",
    "    - Higher Precision Score means the model is not just randomly guessing whether something is from ```r/TheOnion```.\n",
    "3. The $F_1$-score: combines the previous two metrics via geometric mean.\n",
    "4. The AUC (Area Under the Curve) of the ROC.\n",
    "\n",
    "\n",
    "<br>"
   ]
  },
  {
   "cell_type": "markdown",
   "id": "39bae2e1-211d-4303-b3e4-945d76e654a0",
   "metadata": {},
   "source": [
    "# Naive Bayes: A Quick Model from 2 Lines of Code\n",
    "\n",
    "To get us up and running, let's start with a quick and dirty Naive Bayes classifier.\n",
    "\n",
    "A **Naive Bayes** classifier is a classification model that makes predictions using the principal of Maximum Likelihood. That is, the Naive Bayes classifier will predict that class $y=c$ which maximizes the *likelihood* of the data:\n",
    "$$P(\\text{ data }|y = c)$$\n",
    "\n",
    "In the context of our problem, Naive Bayes looks at the words $w_1,\\ldots, w_n$ inside our document then asks two questions:\n",
    "1. What is the probability $P(w_1,\\ldots, w_n | \\text{ news })$ we would see $w_1,\\ldots,w_n$ if the document is from ```r/news```?\n",
    "2. What is the probability $P(w_1,\\ldots, w_n | \\text{ onion })$ we would see $w_1,\\ldots,w_n$ if the document is from ```r/TheOnion```?\n",
    "\n",
    "Which ever probability is bigger, the model will select that as the predicted class.\n",
    "\n",
    "The \"Naive\" part of Naive Bayes comes from how the model actually computes these probabilities. The fact of the matter is: these probabilities are nearly impossible to compute most of the time. Naive Bayes gets around this by simply playing dumb: it *ignores the rules* and *pretends* that the word appearances are all independent (hence the term *naive*).\n",
    "\n",
    "$$P(w_1,\\ldots, w_n | \\text{ news })  = c * P(w_1| \\text{ news })\\ldots  P(w_n| \\text{ news })$$\n",
    "$$P(w_1,\\ldots, w_n | \\text{ onion })  = c * P(w_1| \\text{ onion })\\ldots  P(w_n| \\text{ onion })$$\n",
    "\n",
    "where $c$ is some constant that doesn't really matter. The individual conditional probabilities $P(w_1|\\text{ onion })$ for example, are estimated using the fraction:\n",
    "\n",
    "<br>\n",
    "\n",
    "$$P(w_1|\\text{ onion }) = \\frac{ \\text{ # of docs in Onion containing }w_1}{\\text{ # of docs in Onion }}$$\n",
    "\n",
    "<br>\n",
    "\n",
    "In order to train our Naive Bayes model (and any model really), we have to first convert our text-based data to numeric data. There are several different ways to do this and each method of conversion leads to different routes of model building. Since we are using Naive Bayes, what we want try first is a **Count Vectorization**. \n",
    "\n",
    "A **Count Vectorization** converts a document into a vector where the entries of the vector correspond how to many times a specific word appears in the document. More formally: given a document $D$ and a vocabulary $w_1,\\ldots, w_n$, encode the document $D$ as the vector:\n",
    "$$D\\mapsto \\langle d_1,d_2,\\ldots,d_n \\rangle$$\n",
    "where $d_i$ is the number of times the word $w_i$ appears in $D$."
   ]
  },
  {
   "cell_type": "code",
   "execution_count": 7,
   "id": "d99b44d1-bcd2-4460-8ae1-b0d9ad487c62",
   "metadata": {},
   "outputs": [
    {
     "data": {
      "text/plain": [
       "Pipeline(steps=[('cvec', CountVectorizer(stop_words='english')),\n",
       "                ('mnb', MultinomialNB())])"
      ]
     },
     "execution_count": 7,
     "metadata": {},
     "output_type": "execute_result"
    }
   ],
   "source": [
    "# create a multinomial naive bayes pipeline with count vectoriz\n",
    "bayes1 = Pipeline([\n",
    "                ('cvec', CountVectorizer(stop_words='english')),\n",
    "                ('mnb', MultinomialNB())\n",
    "            ])\n",
    "\n",
    "bayes1.fit(X_train, y_train)    "
   ]
  },
  {
   "cell_type": "code",
   "execution_count": 8,
   "id": "3a55e6e4-7a4c-4d8a-a4b0-d3b2dd567361",
   "metadata": {},
   "outputs": [
    {
     "data": {
      "text/plain": [
       "(0.9378388845855926, 0.9163450765591933)"
      ]
     },
     "execution_count": 8,
     "metadata": {},
     "output_type": "execute_result"
    }
   ],
   "source": [
    "bayes1.score(X_train, y_train), bayes1.score(X_test, y_test)"
   ]
  },
  {
   "cell_type": "markdown",
   "id": "3428f6f5-1054-4aba-89ce-d5f421354215",
   "metadata": {},
   "source": [
    "<br>\n",
    "\n",
    "We achieved a 91.5% accuracy rate on the test set! Not bad for a model we built with only 2 lines of code! \n",
    "\n",
    "But our excitement is short-lived once we remember that the baseline accuracy is 87%. This means our model only had about +4.5% higher accuracy than just randomly guessing.\n",
    "1. On one hand, the the model is showing it's not just randomly guessing.\n",
    "2. On the other hand, it's not clear to what extent the model has actually learned something interesting.\n",
    "\n",
    "To answer the question: \"has the model found something useful?\" we will have to look at the metrics described above:"
   ]
  },
  {
   "cell_type": "code",
   "execution_count": 9,
   "id": "fc142c25-818c-4b16-b3fe-c5b607e3466c",
   "metadata": {},
   "outputs": [
    {
     "data": {
      "image/png": "[encoded data removed]",
      "text/plain": [
       "<Figure size 432x288 with 2 Axes>"
      ]
     },
     "metadata": {
      "needs_background": "light"
     },
     "output_type": "display_data"
    }
   ],
   "source": [
    "# plot confusion matrix\n",
    "bayes1_preds = bayes1.predict(X_test)\n",
    "\n",
    "cm = confusion_matrix(y_test, bayes1_preds)\n",
    "cmd = ConfusionMatrixDisplay(cm)\n",
    "\n",
    "cmd.from_predictions(y_test, bayes1_preds);"
   ]
  },
  {
   "cell_type": "code",
   "execution_count": 10,
   "id": "68b462d9-b399-4b73-a188-8ddd38016208",
   "metadata": {},
   "outputs": [
    {
     "name": "stdout",
     "output_type": "stream",
     "text": [
      "Recall:  0.5318940137389597\n",
      " \n",
      "Precision:  0.7354138398914518\n",
      " \n",
      "F1:  0.6173120728929385\n",
      " \n"
     ]
    }
   ],
   "source": [
    "print(\"Recall: \", recall_score(y_test, bayes1_preds))\n",
    "print(\" \")\n",
    "print(\"Precision: \", precision_score(y_test, bayes1_preds))\n",
    "print(\" \")\n",
    "print(\"F1: \", f1_score(y_test, bayes1_preds))\n",
    "print(\" \")"
   ]
  },
  {
   "cell_type": "code",
   "execution_count": 11,
   "id": "cc2c6190-8c40-4a99-9225-8a5b1915b7be",
   "metadata": {},
   "outputs": [
    {
     "name": "stderr",
     "output_type": "stream",
     "text": [
      "C:\\Users\\herma\\anaconda3\\lib\\site-packages\\sklearn\\utils\\deprecation.py:87: FutureWarning: Function plot_roc_curve is deprecated; Function :func:`plot_roc_curve` is deprecated in 1.0 and will be removed in 1.2. Use one of the class methods: :meth:`sklearn.metric.RocCurveDisplay.from_predictions` or :meth:`sklearn.metric.RocCurveDisplay.from_estimator`.\n",
      "  warnings.warn(msg, category=FutureWarning)\n"
     ]
    },
    {
     "data": {
      "image/png": "[encoded data removed]",
      "text/plain": [
       "<Figure size 432x288 with 1 Axes>"
      ]
     },
     "metadata": {
      "needs_background": "light"
     },
     "output_type": "display_data"
    }
   ],
   "source": [
    "#plot roc curve\n",
    "plot_roc_curve(bayes1, X_test, y_test);\n",
    "\n",
    "plt.plot([0,1],[0,1], linestyle='--', color='red', label='baseline');\n",
    "\n",
    "plt.legend();"
   ]
  },
  {
   "cell_type": "markdown",
   "id": "650f3755-dcb7-41d7-ac4c-6c7b5cbbecd3",
   "metadata": {},
   "source": [
    "<br>\n",
    "\n",
    "All things considered, things the results are actually pretty decent considering how little we actually did to build this model.\n",
    "- Recall on the test set is approximately 50%. This means the model is picking up on half of the ```r/TheOnion``` posts.\n",
    "- Precision on the test set is at 72%. This means the model is decently certain a post is from ```r/TheOnion``` before actually predicting.\n",
    "- The AUC is at 0.92 and the ROC curve is moderately close to the upper-left corner. The ideal AUC is 1 with a ROC curve that hits the point (0,1).\n",
    "\n",
    "<br>"
   ]
  },
  {
   "cell_type": "markdown",
   "id": "83049d24-ccf4-4c0c-b38e-dacdfbc6c1b9",
   "metadata": {},
   "source": [
    "---\n",
    "\n",
    "# Naive Bayes Redux\n",
    "\n",
    "We can attempt to improve upon the simple Naive Bayes model from before. Let's start by taking a look at some of the misclassified posts."
   ]
  },
  {
   "cell_type": "code",
   "execution_count": 13,
   "id": "8470e47d-9cac-47ec-9282-58f644c5f8da",
   "metadata": {},
   "outputs": [],
   "source": [
    "# false negative posts. These are r/TheOnion posts that were not detected by the model\n",
    "train_false_negs = X_train[ (y_train==1) & (bayes1.predict(X_train)==0)]"
   ]
  },
  {
   "cell_type": "code",
   "execution_count": 14,
   "id": "2257d29d-7025-41f8-b5a2-b55a5d0e081a",
   "metadata": {},
   "outputs": [
    {
     "data": {
      "text/plain": [
       "30440    caitlyn jenner sues bruce jenner over sexual h...\n",
       "50233                     so-called christian has erection\n",
       "75224                the guardian is back in business boys\n",
       "Name: title, dtype: object"
      ]
     },
     "execution_count": 14,
     "metadata": {},
     "output_type": "execute_result"
    }
   ],
   "source": [
    "train_false_negs.head(3)"
   ]
  },
  {
   "cell_type": "code",
   "execution_count": 15,
   "id": "a709a2df-7241-460b-adce-d24f065cf1fe",
   "metadata": {},
   "outputs": [
    {
     "data": {
      "text/plain": [
       "'caitlyn jenner sues bruce jenner over sexual harassment'"
      ]
     },
     "execution_count": 15,
     "metadata": {},
     "output_type": "execute_result"
    }
   ],
   "source": [
    "train_false_negs.iloc[0]"
   ]
  },
  {
   "cell_type": "markdown",
   "id": "6c584b3e-6e1f-4cf6-a8ee-bec32eba3325",
   "metadata": {},
   "source": [
    "- The first post here might actually be a mis-labelled data point since it appears to be a legitimate news headline, but then again that is the whole point of ```r/TheOnion``` and this project.\n",
    "- As much as we would like to take a closer look at the data, it simply is not feasible to manually inspect all 80,000 news headlines to ensure the labels were correct.\n",
    "\n",
    "What we can do is take a random sample of headlines and see if anything unusual sticks out."
   ]
  },
  {
   "cell_type": "code",
   "execution_count": 16,
   "id": "bd046708-ca5d-4229-8b30-cfce36edd4d4",
   "metadata": {},
   "outputs": [
    {
     "name": "stdout",
     "output_type": "stream",
     "text": [
      "new netflix gas lets users inhale multiple seasons of tv shows\n",
      "death penalty for spitting on shopping trolleys in saudi arabia\n",
      "latest attack: isis just put the pentagon on ebay\n",
      "everyone in pride parade straight\n",
      "hey teenage morons, how about you put down 'fortnite' for a sec?\n"
     ]
    }
   ],
   "source": [
    "for text in train_false_negs.sample(n=5, random_state=42):\n",
    "    print(text)"
   ]
  },
  {
   "cell_type": "markdown",
   "id": "56052b49-dd96-476c-a092-80c9cef9a6c0",
   "metadata": {},
   "source": [
    "- Some of these headlines seem very difficult to classify even for a human (e.g. the last one)."
   ]
  },
  {
   "cell_type": "markdown",
   "id": "0815c6f6-809a-4e75-b2f5-85592711ee52",
   "metadata": {},
   "source": [
    "- The word \"new\" appears a lot in the false negatives, indicating headlines such as \"new medicine cures...\" or \"new messages reveal...\" are tricking the naive Bayes model into thinking they are actual headlines. This isn't surprising since headlines from ```r/TheOnion``` are designed to use common news-type words.\n",
    "- \"Trump\" is the second most common term in the false negatives and \"Biden\" also makes an appearance in the top 20. This indicates that political headlines might be giving the model difficulty.\n",
    "\n",
    "Anyways, let's try and build a new Naive Bayes model, but this time with some hyperparameter tuning."
   ]
  },
  {
   "cell_type": "code",
   "execution_count": 17,
   "id": "513c4db4-5a89-4c61-ada0-aec607d82599",
   "metadata": {},
   "outputs": [],
   "source": [
    "pipe2 = Pipeline([\n",
    "            ('cvec', CountVectorizer()),\n",
    "            ('mnb', MultinomialNB())\n",
    "        ])\n",
    "\n",
    "bayes2_params = {\n",
    "                    'cvec__ngram_range':[(1,2),(1,3)],\n",
    "                    'cvec__min_df':[2],\n",
    "                    'cvec__max_df':[0.3],\n",
    "                    'cvec__binary':[True]\n",
    "                }"
   ]
  },
  {
   "cell_type": "code",
   "execution_count": 18,
   "id": "177dd10e-8372-486c-9e93-5e0a24622200",
   "metadata": {},
   "outputs": [],
   "source": [
    "bayes2 = GridSearchCV(pipe2, bayes2_params, cv=5, n_jobs=8)\n",
    "\n",
    "bayes2.fit(X_train, y_train)\n",
    "\n",
    "joblib.dump(bayes2, '../models/mnbayes2.pkl')\n",
    "\n",
    "bayes2 = joblib.load('../models/mnbayes2.pkl')"
   ]
  },
  {
   "cell_type": "code",
   "execution_count": 19,
   "id": "d546486f-2da2-45fd-89dc-030d16769d52",
   "metadata": {},
   "outputs": [
    {
     "data": {
      "text/plain": [
       "(0.9571622219763196, 0.9274243744553716)"
      ]
     },
     "execution_count": 19,
     "metadata": {},
     "output_type": "execute_result"
    }
   ],
   "source": [
    "bayes2.score(X_train, y_train), bayes2.score(X_test, y_test)"
   ]
  },
  {
   "cell_type": "code",
   "execution_count": 20,
   "id": "8ac3d9f6-4397-45f3-9aa3-c115eb0edbd0",
   "metadata": {},
   "outputs": [
    {
     "data": {
      "text/plain": [
       "{'cvec__binary': True,\n",
       " 'cvec__max_df': 0.3,\n",
       " 'cvec__min_df': 2,\n",
       " 'cvec__ngram_range': (1, 3)}"
      ]
     },
     "execution_count": 20,
     "metadata": {},
     "output_type": "execute_result"
    }
   ],
   "source": [
    "bayes2.best_params_"
   ]
  },
  {
   "cell_type": "code",
   "execution_count": 21,
   "id": "9aeab546-6e39-445b-a767-615a790f2ede",
   "metadata": {},
   "outputs": [
    {
     "data": {
      "image/png": "[encoded data removed]",
      "text/plain": [
       "<Figure size 432x288 with 2 Axes>"
      ]
     },
     "metadata": {
      "needs_background": "light"
     },
     "output_type": "display_data"
    }
   ],
   "source": [
    "bayes2_preds = bayes2.predict(X_test)\n",
    "\n",
    "cm2 = confusion_matrix(y_test, bayes2_preds)\n",
    "\n",
    "cmd.from_predictions(y_test, bayes2_preds);"
   ]
  },
  {
   "cell_type": "code",
   "execution_count": 22,
   "id": "f31c4e97-22ff-4fad-81de-4d9af2174c31",
   "metadata": {},
   "outputs": [
    {
     "name": "stdout",
     "output_type": "stream",
     "text": [
      "Recall:  0.5956820412168793\n",
      " \n",
      "Precision:  0.7802056555269923\n",
      " \n",
      "F1:  0.6755703951029494\n"
     ]
    }
   ],
   "source": [
    "print(\"Recall: \", recall_score(y_test, bayes2_preds))\n",
    "print(\" \")\n",
    "print(\"Precision: \", precision_score(y_test, bayes2_preds))\n",
    "print(\" \")\n",
    "print(\"F1: \", f1_score(y_test, bayes2_preds))"
   ]
  },
  {
   "cell_type": "code",
   "execution_count": 23,
   "id": "db1118eb-e0b5-477b-b202-7047ae2ca85b",
   "metadata": {},
   "outputs": [
    {
     "name": "stderr",
     "output_type": "stream",
     "text": [
      "C:\\Users\\herma\\anaconda3\\lib\\site-packages\\sklearn\\utils\\deprecation.py:87: FutureWarning: Function plot_roc_curve is deprecated; Function :func:`plot_roc_curve` is deprecated in 1.0 and will be removed in 1.2. Use one of the class methods: :meth:`sklearn.metric.RocCurveDisplay.from_predictions` or :meth:`sklearn.metric.RocCurveDisplay.from_estimator`.\n",
      "  warnings.warn(msg, category=FutureWarning)\n"
     ]
    },
    {
     "data": {
      "image/png": "[encoded data removed]",
      "text/plain": [
       "<Figure size 1008x576 with 1 Axes>"
      ]
     },
     "metadata": {
      "needs_background": "light"
     },
     "output_type": "display_data"
    }
   ],
   "source": [
    "fig, ax = plt.subplots(1, figsize=(14, 8));\n",
    "\n",
    "plot_roc_curve(bayes2, X_test, y_test, ax=ax);\n",
    "plt.plot([0,1],[0,1],linestyle='--', color='red', label='baseline');\n",
    "plt.title('Naive Bayes with CountVectorizer', fontsize=30, font='ms gothic');\n",
    "plt.legend(loc='lower right');\n",
    "\n",
    "plt.savefig('../images/bayes2roc.png');"
   ]
  },
  {
   "cell_type": "markdown",
   "id": "7be12079-63a5-4586-9637-d17c5fc358eb",
   "metadata": {},
   "source": [
    "- This model performed surprisingly well, given that Naive Bayes is a rather simplistic model with a tendency to underfit."
   ]
  },
  {
   "cell_type": "markdown",
   "id": "0096a52b-7939-4333-a33b-9b94b4437599",
   "metadata": {},
   "source": [
    "---\n",
    "\n",
    "# Naive Bayes with TF-IDF\n",
    "\n",
    "Another way to encode text data as a numerical value is with a **TF-IDF** encoding. TF-IDF is short for **Term Frequency - Inverse Document Frequence**. TF-IDF encodes a document via the words they contain (just like Count Vectorizing) but there is an added scaling based on how rare the word is across the corpus. The principle is that rarer words give you more information about the class the document belongs too. For example, seeing the word \"hello\" doesn't give us too much information since it shows up almost everywhere, but seeing the word \"soliloquy\" gives us a lot of information since that word is rarely used except in specific contexts.\n",
    "\n",
    "<br>"
   ]
  },
  {
   "cell_type": "code",
   "execution_count": 24,
   "id": "7a0ecf49-c8bf-4c05-b834-6a57847738b2",
   "metadata": {},
   "outputs": [],
   "source": [
    "# initialize a pipeline with Tfidf encoding\n",
    "pipe3 = Pipeline([\n",
    "                    ('tf', TfidfVectorizer()),\n",
    "                    ('mnb', MultinomialNB())\n",
    "                ])\n",
    "\n",
    "\n",
    "bayes3_params = {\n",
    "                    'tf__ngram_range':[(1,2), (1,3)],\n",
    "                    'tf__max_df': [0.3],\n",
    "                    'tf__binary': [True],\n",
    "                }"
   ]
  },
  {
   "cell_type": "code",
   "execution_count": 25,
   "id": "87af39c0-580e-4c52-9f73-820ebceaef00",
   "metadata": {},
   "outputs": [],
   "source": [
    "bayes3 = GridSearchCV(pipe3, bayes3_params, cv=5, n_jobs=6)\n",
    "\n",
    "bayes3.fit(X_train, y_train)\n",
    "\n",
    "joblib.dump(bayes3, '../models/mnbayes3.pkl')\n",
    "\n",
    "bayes3 = joblib.load('../models/mnbayes3.pkl')"
   ]
  },
  {
   "cell_type": "code",
   "execution_count": 26,
   "id": "bb185310-c4ce-46a4-833c-d7946ae58682",
   "metadata": {},
   "outputs": [
    {
     "data": {
      "text/plain": [
       "(0.8813488989708974, 0.8797460475538404)"
      ]
     },
     "execution_count": 26,
     "metadata": {},
     "output_type": "execute_result"
    }
   ],
   "source": [
    "bayes3.score(X_train, y_train), bayes3.score(X_test, y_test)"
   ]
  },
  {
   "cell_type": "code",
   "execution_count": 27,
   "id": "271f92cd-f251-4952-a58e-8a54d05510ab",
   "metadata": {},
   "outputs": [
    {
     "data": {
      "text/plain": [
       "{'tf__binary': True, 'tf__max_df': 0.3, 'tf__ngram_range': (1, 3)}"
      ]
     },
     "execution_count": 27,
     "metadata": {},
     "output_type": "execute_result"
    }
   ],
   "source": [
    "bayes3.best_params_"
   ]
  },
  {
   "cell_type": "code",
   "execution_count": 28,
   "id": "8b576656-c073-4b3d-836a-5d90094b08e9",
   "metadata": {},
   "outputs": [
    {
     "data": {
      "image/png": "[encoded data removed]",
      "text/plain": [
       "<Figure size 432x288 with 2 Axes>"
      ]
     },
     "metadata": {
      "needs_background": "light"
     },
     "output_type": "display_data"
    }
   ],
   "source": [
    "bayes3_preds = bayes3.predict(X_test)\n",
    "\n",
    "cm3 = confusion_matrix(y_test, bayes3_preds)\n",
    "\n",
    "cmd.from_predictions(y_test, bayes3_preds);"
   ]
  },
  {
   "cell_type": "code",
   "execution_count": 29,
   "id": "b0704855-fe0c-45c2-a97c-f300f24ea747",
   "metadata": {},
   "outputs": [
    {
     "name": "stdout",
     "output_type": "stream",
     "text": [
      "Recall:  0.052011776251226695\n",
      " \n",
      "Precision:  1.0\n",
      " \n",
      "F1:  0.09888059701492538\n"
     ]
    }
   ],
   "source": [
    "print(\"Recall: \", recall_score(y_test, bayes3_preds))\n",
    "print(\" \")\n",
    "print(\"Precision: \", precision_score(y_test, bayes3_preds))\n",
    "print(\" \")\n",
    "print(\"F1: \", f1_score(y_test, bayes3_preds))"
   ]
  },
  {
   "cell_type": "code",
   "execution_count": 30,
   "id": "6c1df0b4-a7b4-4d19-931f-1b201ef81d3a",
   "metadata": {},
   "outputs": [
    {
     "name": "stderr",
     "output_type": "stream",
     "text": [
      "C:\\Users\\herma\\anaconda3\\lib\\site-packages\\sklearn\\utils\\deprecation.py:87: FutureWarning: Function plot_roc_curve is deprecated; Function :func:`plot_roc_curve` is deprecated in 1.0 and will be removed in 1.2. Use one of the class methods: :meth:`sklearn.metric.RocCurveDisplay.from_predictions` or :meth:`sklearn.metric.RocCurveDisplay.from_estimator`.\n",
      "  warnings.warn(msg, category=FutureWarning)\n"
     ]
    },
    {
     "data": {
      "image/png": "[encoded data removed]",
      "text/plain": [
       "<Figure size 432x288 with 1 Axes>"
      ]
     },
     "metadata": {
      "needs_background": "light"
     },
     "output_type": "display_data"
    }
   ],
   "source": [
    "plot_roc_curve(bayes3, X_test, y_test);\n",
    "\n",
    "plt.plot([0,1],[0,1],linestyle='--', color='red', label='baseline');\n",
    "\n",
    "plt.legend();"
   ]
  },
  {
   "cell_type": "markdown",
   "id": "e65d69e0-fc8a-4f66-a6f6-f0a587eb0a35",
   "metadata": {},
   "source": [
    "- Seems that using TF-IDF encoding with Naive Bayes actually led to a worse model here. This might not be too surprising since TF-IDF encoding transforms the features to continuous values (floats). This can be a problem since we are using Multinomial Naive Bayes, which obviously works best when the data is Multinomial!"
   ]
  },
  {
   "cell_type": "markdown",
   "id": "d5119dc7-7a56-4cd6-9617-99546447c01e",
   "metadata": {},
   "source": [
    "---\n",
    "\n",
    "# Naive Bayes with Sentiment Analysis\n",
    "\n",
    "A third approach to encoding text as numeric data is to use **Sentiment Analysis**. Sentiment Analysis assigns each word $w$ in a document $D$ a **polarity score** which measures how \"positive\" or \"negative\" the word is. For example \"happy\" would have a high positive polarity score, while \"horror\" would have a high negative polarity score. \n",
    "\n",
    "The actual polarity scores for each word is decided on by a pre-constructed wordbank, but the key idea is that we can convert a document $D$ from text to numerical data, replacing $D$ with its polarity score $\\text{polarity}(D)$. The process of converting a document to a polarity score is called **Sentiment Analysis**."
   ]
  },
  {
   "cell_type": "code",
   "execution_count": 31,
   "id": "9415507c-24ea-492c-a3a6-8e6df7f72b95",
   "metadata": {},
   "outputs": [],
   "source": [
    "# convert documents to their polarity score using NLTK's VADER library\n",
    "Xsia_train = thor.vaderize(X_train)\n",
    "Xsia_test = thor.vaderize(X_test)"
   ]
  },
  {
   "cell_type": "code",
   "execution_count": 32,
   "id": "7c59a741-7f3b-4a3a-b1eb-a5ec39e21d54",
   "metadata": {},
   "outputs": [
    {
     "data": {
      "text/html": [
       "<div>\n",
       "<style scoped>\n",
       "    .dataframe tbody tr th:only-of-type {\n",
       "        vertical-align: middle;\n",
       "    }\n",
       "\n",
       "    .dataframe tbody tr th {\n",
       "        vertical-align: top;\n",
       "    }\n",
       "\n",
       "    .dataframe thead th {\n",
       "        text-align: right;\n",
       "    }\n",
       "</style>\n",
       "<table border=\"1\" class=\"dataframe\">\n",
       "  <thead>\n",
       "    <tr style=\"text-align: right;\">\n",
       "      <th></th>\n",
       "      <th>neg</th>\n",
       "      <th>neu</th>\n",
       "      <th>pos</th>\n",
       "      <th>compound</th>\n",
       "      <th>text</th>\n",
       "    </tr>\n",
       "  </thead>\n",
       "  <tbody>\n",
       "    <tr>\n",
       "      <th>0</th>\n",
       "      <td>0.524</td>\n",
       "      <td>0.476</td>\n",
       "      <td>0.000</td>\n",
       "      <td>-0.6597</td>\n",
       "      <td>common signs of cervical cancer</td>\n",
       "    </tr>\n",
       "    <tr>\n",
       "      <th>1</th>\n",
       "      <td>0.000</td>\n",
       "      <td>1.000</td>\n",
       "      <td>0.000</td>\n",
       "      <td>0.0000</td>\n",
       "      <td>cubana chief priest hires 7 rain makers to sen...</td>\n",
       "    </tr>\n",
       "    <tr>\n",
       "      <th>2</th>\n",
       "      <td>0.227</td>\n",
       "      <td>0.567</td>\n",
       "      <td>0.206</td>\n",
       "      <td>-0.0772</td>\n",
       "      <td>a geomagnetic storm may have effectively destr...</td>\n",
       "    </tr>\n",
       "    <tr>\n",
       "      <th>3</th>\n",
       "      <td>0.477</td>\n",
       "      <td>0.523</td>\n",
       "      <td>0.000</td>\n",
       "      <td>-0.8481</td>\n",
       "      <td>masten wanjala: mob beats kenyan child serial ...</td>\n",
       "    </tr>\n",
       "    <tr>\n",
       "      <th>4</th>\n",
       "      <td>0.231</td>\n",
       "      <td>0.769</td>\n",
       "      <td>0.000</td>\n",
       "      <td>-0.5574</td>\n",
       "      <td>astro, a founding member of the reggae group u...</td>\n",
       "    </tr>\n",
       "  </tbody>\n",
       "</table>\n",
       "</div>"
      ],
      "text/plain": [
       "     neg    neu    pos  compound  \\\n",
       "0  0.524  0.476  0.000   -0.6597   \n",
       "1  0.000  1.000  0.000    0.0000   \n",
       "2  0.227  0.567  0.206   -0.0772   \n",
       "3  0.477  0.523  0.000   -0.8481   \n",
       "4  0.231  0.769  0.000   -0.5574   \n",
       "\n",
       "                                                text  \n",
       "0                    common signs of cervical cancer  \n",
       "1  cubana chief priest hires 7 rain makers to sen...  \n",
       "2  a geomagnetic storm may have effectively destr...  \n",
       "3  masten wanjala: mob beats kenyan child serial ...  \n",
       "4  astro, a founding member of the reggae group u...  "
      ]
     },
     "execution_count": 32,
     "metadata": {},
     "output_type": "execute_result"
    }
   ],
   "source": [
    "Xsia_train.head()"
   ]
  },
  {
   "cell_type": "code",
   "execution_count": 33,
   "id": "c563f788-cdee-44b2-a189-571be677ab27",
   "metadata": {},
   "outputs": [
    {
     "data": {
      "image/png": "[encoded data removed]",
      "text/plain": [
       "<Figure size 432x288 with 4 Axes>"
      ]
     },
     "metadata": {
      "needs_background": "light"
     },
     "output_type": "display_data"
    }
   ],
   "source": [
    "# take a look at polarity score distributions\n",
    "Xsia_train.hist();"
   ]
  },
  {
   "cell_type": "code",
   "execution_count": 34,
   "id": "8363f465-db30-4a8e-83a1-7a2eaf9cfaab",
   "metadata": {},
   "outputs": [
    {
     "data": {
      "text/plain": [
       "(0.8669497620891888, 0.8663015062865679)"
      ]
     },
     "execution_count": 34,
     "metadata": {},
     "output_type": "execute_result"
    }
   ],
   "source": [
    "bayes4 = GaussianNB()\n",
    "\n",
    "bayes4.fit(Xsia_train.drop(columns='text'), y_train)\n",
    "\n",
    "bayes4.score(Xsia_train.drop(columns='text'), y_train), bayes4.score(Xsia_test.drop(columns='text'), y_test)"
   ]
  },
  {
   "cell_type": "code",
   "execution_count": 35,
   "id": "f9a325f0-08e2-4da0-8c1a-559d3b2d62bc",
   "metadata": {},
   "outputs": [
    {
     "name": "stdout",
     "output_type": "stream",
     "text": [
      "Recall:  0.007850834151128557\n",
      " \n",
      "Precision:  0.11267605633802817\n",
      " \n",
      "F1:  0.014678899082568806\n"
     ]
    },
    {
     "data": {
      "image/png": "[encoded data removed]",
      "text/plain": [
       "<Figure size 432x288 with 2 Axes>"
      ]
     },
     "metadata": {
      "needs_background": "light"
     },
     "output_type": "display_data"
    }
   ],
   "source": [
    "bayes4_preds = bayes4.predict(Xsia_test.drop(columns='text'))\n",
    "\n",
    "cmd.from_predictions(y_test, bayes4_preds);\n",
    "\n",
    "print(\"Recall: \", recall_score(y_test, bayes4_preds))\n",
    "print(\" \")\n",
    "print(\"Precision: \", precision_score(y_test, bayes4_preds))\n",
    "print(\" \")\n",
    "print(\"F1: \", f1_score(y_test, bayes4_preds))"
   ]
  },
  {
   "cell_type": "code",
   "execution_count": 36,
   "id": "0a26c5e6-1cf8-4f94-902f-5b50f271bf5b",
   "metadata": {},
   "outputs": [
    {
     "name": "stderr",
     "output_type": "stream",
     "text": [
      "C:\\Users\\herma\\anaconda3\\lib\\site-packages\\sklearn\\utils\\deprecation.py:87: FutureWarning: Function plot_roc_curve is deprecated; Function :func:`plot_roc_curve` is deprecated in 1.0 and will be removed in 1.2. Use one of the class methods: :meth:`sklearn.metric.RocCurveDisplay.from_predictions` or :meth:`sklearn.metric.RocCurveDisplay.from_estimator`.\n",
      "  warnings.warn(msg, category=FutureWarning)\n"
     ]
    },
    {
     "data": {
      "image/png": "[encoded data removed]",
      "text/plain": [
       "<Figure size 432x288 with 1 Axes>"
      ]
     },
     "metadata": {
      "needs_background": "light"
     },
     "output_type": "display_data"
    }
   ],
   "source": [
    "plot_roc_curve(bayes4, Xsia_test.drop(columns='text'), y_test);\n",
    "\n",
    "plt.plot([0,1],[0,1],linestyle='--', color='red', label='baseline');\n",
    "\n",
    "plt.legend();"
   ]
  },
  {
   "cell_type": "markdown",
   "id": "dcf38de1-6247-4f59-8fdc-d4a25ae9268e",
   "metadata": {},
   "source": [
    "- Looks like doing sentiment analysis was completely useless since the model has the same accuracy as the baseline and is apparntly just randomly guessing. This isn't too unexpected since we are only using 4 features to classify nearly 70,000 training examples."
   ]
  },
  {
   "cell_type": "markdown",
   "id": "f5686bed-d00e-4364-8748-6645f20f73c8",
   "metadata": {},
   "source": [
    "---\n",
    "\n",
    "# A Basic Ensemble of Bayes\n",
    "\n",
    "One final thing we can try is to polymerize the 3 approaches together: Count Vectorization, TF-IDF, and Sentiment Analysis. Ideally, we would try to encode each document as a Count Vector and an TFIDF vector and concatenate them. Unfortunately, the resulting matrix no longer fits into our hardware's memory. \n",
    "\n",
    "A work around is to train each model separately, then feed the model outputs into another model like a Logistic Regression (imagine some sort of primordial neural network)."
   ]
  },
  {
   "cell_type": "code",
   "execution_count": 37,
   "id": "de7bc8e0-deb5-44ec-ad2f-9ad429a131ae",
   "metadata": {},
   "outputs": [
    {
     "data": {
      "text/html": [
       "<div>\n",
       "<style scoped>\n",
       "    .dataframe tbody tr th:only-of-type {\n",
       "        vertical-align: middle;\n",
       "    }\n",
       "\n",
       "    .dataframe tbody tr th {\n",
       "        vertical-align: top;\n",
       "    }\n",
       "\n",
       "    .dataframe thead th {\n",
       "        text-align: right;\n",
       "    }\n",
       "</style>\n",
       "<table border=\"1\" class=\"dataframe\">\n",
       "  <thead>\n",
       "    <tr style=\"text-align: right;\">\n",
       "      <th></th>\n",
       "      <th>bayes2_0</th>\n",
       "      <th>bayes2_1</th>\n",
       "    </tr>\n",
       "  </thead>\n",
       "  <tbody>\n",
       "    <tr>\n",
       "      <th>0</th>\n",
       "      <td>0.995674</td>\n",
       "      <td>4.326116e-03</td>\n",
       "    </tr>\n",
       "    <tr>\n",
       "      <th>1</th>\n",
       "      <td>0.956854</td>\n",
       "      <td>4.314596e-02</td>\n",
       "    </tr>\n",
       "    <tr>\n",
       "      <th>2</th>\n",
       "      <td>1.000000</td>\n",
       "      <td>2.233308e-07</td>\n",
       "    </tr>\n",
       "    <tr>\n",
       "      <th>3</th>\n",
       "      <td>0.999915</td>\n",
       "      <td>8.460250e-05</td>\n",
       "    </tr>\n",
       "    <tr>\n",
       "      <th>4</th>\n",
       "      <td>1.000000</td>\n",
       "      <td>6.320490e-08</td>\n",
       "    </tr>\n",
       "  </tbody>\n",
       "</table>\n",
       "</div>"
      ],
      "text/plain": [
       "   bayes2_0      bayes2_1\n",
       "0  0.995674  4.326116e-03\n",
       "1  0.956854  4.314596e-02\n",
       "2  1.000000  2.233308e-07\n",
       "3  0.999915  8.460250e-05\n",
       "4  1.000000  6.320490e-08"
      ]
     },
     "execution_count": 37,
     "metadata": {},
     "output_type": "execute_result"
    }
   ],
   "source": [
    "bayes2_train_probs = pd.DataFrame(bayes2.predict_proba(X_train), columns=['bayes2_0', 'bayes2_1'])\n",
    "bayes2_test_probs = pd.DataFrame(bayes2.predict_proba(X_test), columns=['bayes2_0', 'bayes2_1'])\n",
    "\n",
    "bayes3_train_probs = pd.DataFrame(bayes3.predict_proba(X_train), columns=['bayes3_0', 'bayes3_1'])\n",
    "bayes3_test_probs = pd.DataFrame(bayes3.predict_proba(X_test), columns=['bayes3_0', 'bayes3_1'])\n",
    "\n",
    "bayes2_train_probs.head()"
   ]
  },
  {
   "cell_type": "code",
   "execution_count": 38,
   "id": "97a491f4-9af4-41d1-93ed-296108989f0f",
   "metadata": {},
   "outputs": [
    {
     "data": {
      "text/html": [
       "<div>\n",
       "<style scoped>\n",
       "    .dataframe tbody tr th:only-of-type {\n",
       "        vertical-align: middle;\n",
       "    }\n",
       "\n",
       "    .dataframe tbody tr th {\n",
       "        vertical-align: top;\n",
       "    }\n",
       "\n",
       "    .dataframe thead th {\n",
       "        text-align: right;\n",
       "    }\n",
       "</style>\n",
       "<table border=\"1\" class=\"dataframe\">\n",
       "  <thead>\n",
       "    <tr style=\"text-align: right;\">\n",
       "      <th></th>\n",
       "      <th>neg</th>\n",
       "      <th>neu</th>\n",
       "      <th>pos</th>\n",
       "      <th>bayes2_1</th>\n",
       "      <th>bayes3_1</th>\n",
       "    </tr>\n",
       "  </thead>\n",
       "  <tbody>\n",
       "    <tr>\n",
       "      <th>0</th>\n",
       "      <td>0.112</td>\n",
       "      <td>0.888</td>\n",
       "      <td>0.000</td>\n",
       "      <td>1.000000e+00</td>\n",
       "      <td>0.230683</td>\n",
       "    </tr>\n",
       "    <tr>\n",
       "      <th>1</th>\n",
       "      <td>0.000</td>\n",
       "      <td>0.847</td>\n",
       "      <td>0.153</td>\n",
       "      <td>6.424247e-07</td>\n",
       "      <td>0.003483</td>\n",
       "    </tr>\n",
       "    <tr>\n",
       "      <th>2</th>\n",
       "      <td>0.000</td>\n",
       "      <td>1.000</td>\n",
       "      <td>0.000</td>\n",
       "      <td>6.058392e-01</td>\n",
       "      <td>0.013713</td>\n",
       "    </tr>\n",
       "    <tr>\n",
       "      <th>3</th>\n",
       "      <td>0.178</td>\n",
       "      <td>0.822</td>\n",
       "      <td>0.000</td>\n",
       "      <td>3.392314e-08</td>\n",
       "      <td>0.002908</td>\n",
       "    </tr>\n",
       "    <tr>\n",
       "      <th>4</th>\n",
       "      <td>0.000</td>\n",
       "      <td>0.680</td>\n",
       "      <td>0.320</td>\n",
       "      <td>1.011032e-19</td>\n",
       "      <td>0.000017</td>\n",
       "    </tr>\n",
       "  </tbody>\n",
       "</table>\n",
       "</div>"
      ],
      "text/plain": [
       "     neg    neu    pos      bayes2_1  bayes3_1\n",
       "0  0.112  0.888  0.000  1.000000e+00  0.230683\n",
       "1  0.000  0.847  0.153  6.424247e-07  0.003483\n",
       "2  0.000  1.000  0.000  6.058392e-01  0.013713\n",
       "3  0.178  0.822  0.000  3.392314e-08  0.002908\n",
       "4  0.000  0.680  0.320  1.011032e-19  0.000017"
      ]
     },
     "execution_count": 38,
     "metadata": {},
     "output_type": "execute_result"
    }
   ],
   "source": [
    "Xens_train = pd.concat([Xsia_train.drop(columns=['text','compound']), bayes2_train_probs[['bayes2_1']], bayes3_train_probs[['bayes3_1']]], axis=1)\n",
    "Xens_test = pd.concat([Xsia_test.drop(columns=['text', 'compound']), bayes2_test_probs[['bayes2_1']], bayes3_test_probs[['bayes3_1']] ], axis=1)\n",
    "\n",
    "Xens_test.head()"
   ]
  },
  {
   "cell_type": "code",
   "execution_count": 39,
   "id": "62bae4e6-cff0-4a94-9843-9f0d37ead8f6",
   "metadata": {},
   "outputs": [
    {
     "data": {
      "text/plain": [
       "(0.9804415182029435, 0.8987924810158098)"
      ]
     },
     "execution_count": 39,
     "metadata": {},
     "output_type": "execute_result"
    }
   ],
   "source": [
    "logreg = LogisticRegression()\n",
    "\n",
    "logreg.fit(Xens_train, y_train)\n",
    "\n",
    "logreg.score(Xens_train, y_train), logreg.score(Xens_test, y_test)"
   ]
  },
  {
   "cell_type": "code",
   "execution_count": 40,
   "id": "76ebdc1e-b339-4955-a7a1-42a90a528b8f",
   "metadata": {},
   "outputs": [
    {
     "name": "stderr",
     "output_type": "stream",
     "text": [
      "C:\\Users\\herma\\anaconda3\\lib\\site-packages\\sklearn\\utils\\deprecation.py:87: FutureWarning: Function plot_roc_curve is deprecated; Function :func:`plot_roc_curve` is deprecated in 1.0 and will be removed in 1.2. Use one of the class methods: :meth:`sklearn.metric.RocCurveDisplay.from_predictions` or :meth:`sklearn.metric.RocCurveDisplay.from_estimator`.\n",
      "  warnings.warn(msg, category=FutureWarning)\n"
     ]
    },
    {
     "data": {
      "text/plain": [
       "<matplotlib.legend.Legend at 0x1649698ac10>"
      ]
     },
     "execution_count": 40,
     "metadata": {},
     "output_type": "execute_result"
    },
    {
     "data": {
      "image/png": "[encoded data removed]",
      "text/plain": [
       "<Figure size 432x288 with 1 Axes>"
      ]
     },
     "metadata": {
      "needs_background": "light"
     },
     "output_type": "display_data"
    }
   ],
   "source": [
    "plot_roc_curve(logreg, Xens_test, y_test);\n",
    "plt.plot([0,1],[0,1],linestyle='--', color='red', label='baseline');\n",
    "\n",
    "plt.legend()"
   ]
  },
  {
   "cell_type": "code",
   "execution_count": 41,
   "id": "4bddddd8-e68d-431c-8b15-6190a12aff1b",
   "metadata": {},
   "outputs": [
    {
     "data": {
      "image/png": "[encoded data removed]",
      "text/plain": [
       "<Figure size 432x288 with 2 Axes>"
      ]
     },
     "metadata": {
      "needs_background": "light"
     },
     "output_type": "display_data"
    }
   ],
   "source": [
    "log_preds = logreg.predict(Xens_test)\n",
    "\n",
    "cmd.from_predictions(y_test, log_preds);"
   ]
  },
  {
   "cell_type": "code",
   "execution_count": 42,
   "id": "6da9da48-0fe8-4006-9312-3cdd27526e82",
   "metadata": {},
   "outputs": [
    {
     "name": "stdout",
     "output_type": "stream",
     "text": [
      "Recall:  0.2237487733071639\n",
      " \n",
      "Precision:  0.912\n",
      " \n",
      "F1:  0.35933806146572106\n"
     ]
    }
   ],
   "source": [
    "print(\"Recall: \", recall_score(y_test, log_preds))\n",
    "print(\" \")\n",
    "print(\"Precision: \", precision_score(y_test, log_preds))\n",
    "print(\" \")\n",
    "print(\"F1: \", f1_score(y_test, log_preds))"
   ]
  },
  {
   "cell_type": "markdown",
   "id": "8e2d4cb8-a858-4f1a-8440-60826415a703",
   "metadata": {},
   "source": [
    "- Overall the pooling of the 3 models is slightly worse than just ```bayes2``` by itself. This suggests that ```bayes2``` is probably the best model and none of the other models have any new knowledge to help improve ```bayes2```.\n",
    "- Alternatively, because we did pool together 3 distinct models, the resulting combined model might be more robust w.r.t. unseen data."
   ]
  },
  {
   "cell_type": "code",
   "execution_count": null,
   "id": "e37aacde-2ad4-481a-97cc-4f79d392ea31",
   "metadata": {},
   "outputs": [],
   "source": []
  },
  {
   "cell_type": "code",
   "execution_count": null,
   "id": "cf5958c7-888e-4bb3-b970-cd4c0ab4a35e",
   "metadata": {},
   "outputs": [],
   "source": []
  },
  {
   "cell_type": "code",
   "execution_count": null,
   "id": "8d3f59ef-a17f-444b-979d-1098f6ca364a",
   "metadata": {},
   "outputs": [],
   "source": []
  },
  {
   "cell_type": "code",
   "execution_count": null,
   "id": "0eb5e63b-1750-4084-8d22-04bb83194cc9",
   "metadata": {},
   "outputs": [],
   "source": []
  },
  {
   "cell_type": "code",
   "execution_count": null,
   "id": "c4064490-b11f-416b-9a33-34272e9ca70c",
   "metadata": {},
   "outputs": [],
   "source": []
  },
  {
   "cell_type": "code",
   "execution_count": null,
   "id": "d95865f5-7785-44bb-aa7c-0e5a4d6877a0",
   "metadata": {},
   "outputs": [],
   "source": []
  },
  {
   "cell_type": "code",
   "execution_count": null,
   "id": "2498d253-eab6-4409-bc00-fc59d102bd74",
   "metadata": {},
   "outputs": [],
   "source": []
  },
  {
   "cell_type": "code",
   "execution_count": null,
   "id": "c9d0f052-c9a7-4ffd-a576-515e2a120edb",
   "metadata": {},
   "outputs": [],
   "source": []
  }
 ],
 "metadata": {
  "kernelspec": {
   "display_name": "Python 3 (ipykernel)",
   "language": "python",
   "name": "python3"
  },
  "language_info": {
   "codemirror_mode": {
    "name": "ipython",
    "version": 3
   },
   "file_extension": ".py",
   "mimetype": "text/x-python",
   "name": "python",
   "nbconvert_exporter": "python",
   "pygments_lexer": "ipython3",
   "version": "3.9.7"
  }
 },
 "nbformat": 4,
 "nbformat_minor": 5
}
