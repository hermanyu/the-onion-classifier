{
 "cells": [
  {
   "cell_type": "code",
   "execution_count": 1,
   "id": "ba1b8bef-0df1-48fa-a65d-16c944e9e52c",
   "metadata": {},
   "outputs": [],
   "source": [
    "import numpy as np\n",
    "import pandas as pd\n",
    "import matplotlib.pyplot as plt\n",
    "import seaborn as sns\n",
    "import re\n",
    "from collections import Counter\n",
    "import joblib\n",
    "\n",
    "from sklearn.svm import SVC, LinearSVC\n",
    "from imblearn.over_sampling import RandomOverSampler\n",
    "\n",
    "\n",
    "from sklearn.metrics import confusion_matrix, ConfusionMatrixDisplay, recall_score, precision_score, plot_roc_curve, roc_auc_score\n",
    "from sklearn.model_selection import train_test_split, GridSearchCV\n",
    "from sklearn.pipeline import Pipeline\n",
    "from sklearn.preprocessing import StandardScaler, MinMaxScaler, FunctionTransformer, MaxAbsScaler\n",
    "from sklearn.metrics import confusion_matrix, ConfusionMatrixDisplay, recall_score, precision_score, f1_score, plot_roc_curve, roc_auc_score, accuracy_score\n",
    "\n",
    "from sklearn.feature_extraction.text import CountVectorizer, TfidfVectorizer\n",
    "\n",
    "from nltk.tokenize import sent_tokenize, word_tokenize, RegexpTokenizer\n",
    "from nltk.stem import WordNetLemmatizer\n",
    "from nltk.stem.porter import PorterStemmer\n",
    "from nltk.corpus import stopwords\n",
    "\n",
    "\n",
    "import thor"
   ]
  },
  {
   "cell_type": "code",
   "execution_count": 2,
   "id": "e6b21dcb-4a48-4e86-9d85-4643e9071a90",
   "metadata": {},
   "outputs": [],
   "source": [
    "train = pd.read_csv('../data/total_train.csv')\n",
    "test = pd.read_csv('../data/total_test.csv')\n",
    "\n",
    "X = train['title']\n",
    "y = train['class']\n",
    "\n",
    "X_train, X_test, y_train, y_test = train_test_split(X, y, stratify=y, test_size=0.1, random_state=42)"
   ]
  },
  {
   "cell_type": "markdown",
   "id": "563e4d6a-82e1-44a0-93d5-5a0e9126f499",
   "metadata": {},
   "source": [
    "---\n",
    "\n",
    "# Linear SVM with Count Vectorizer\n",
    "\n",
    "A **Support Vector Machine** (SVM) is a classifier whose objective is to draw the optimal separating in hyperplane in the feature space. Generally, infinitely many separating hyperplanes exist, so we define the \"best separating hyperplane\" as the one with **maximal margin**.\n",
    "\n",
    "The key idea behind SVMs is that the optimal separating hyperplane (the optimization objective) ONLY DEPENDS ON A FEW of the data points and NOT the entire training set! Think about it: to draw a separating hyper plane, you only care about the points \"at the boundary\" of the separation. These data points are called the **support vectors**.\n",
    "- Since the optimization objective for SVMs only depend on the support vectors and not the entire data set, this makes SVMs much more resistant to overfitting and very well-suited to deal with high dimensional feature spaces (such as our count encoding of text data).\n",
    "- However, if we start using kernels, SVMs train very slowly for large data sets. This will be a problem especially with 80,000 training examples. For this reason, we will train a Linear SVM for the imbalanced 80,000 point set, and train a SVM with rbf kernel for a more reasonable 20,000 point set with balanced classes."
   ]
  },
  {
   "cell_type": "code",
   "execution_count": 3,
   "id": "8cf73a84-bef5-46e3-a578-3dd2df1b14fd",
   "metadata": {},
   "outputs": [
    {
     "data": {
      "text/plain": [
       "Pipeline(steps=[('cvec',\n",
       "                 CountVectorizer(binary=True, max_df=0.3, ngram_range=(1, 3))),\n",
       "                ('svm', LinearSVC(max_iter=20000))])"
      ]
     },
     "execution_count": 3,
     "metadata": {},
     "output_type": "execute_result"
    }
   ],
   "source": [
    "# instantiate pipeline for linear SVM\n",
    "pipe = Pipeline([\n",
    "            ('cvec', CountVectorizer(max_df=0.3, ngram_range=(1,3), binary=True)),\n",
    "            ('svm', LinearSVC(max_iter=20_000))\n",
    "        ])\n",
    "\n",
    "# fit model\n",
    "pipe.fit(X_train, y_train)"
   ]
  },
  {
   "cell_type": "code",
   "execution_count": 4,
   "id": "7979c6f1-3692-4abd-a1a0-107a01f3589a",
   "metadata": {},
   "outputs": [
    {
     "data": {
      "text/plain": [
       "(0.9999170078565895, 0.9281712934146645)"
      ]
     },
     "execution_count": 4,
     "metadata": {},
     "output_type": "execute_result"
    }
   ],
   "source": [
    "# score for validation\n",
    "pipe.score(X_train, y_train), pipe.score(X_test, y_test)"
   ]
  },
  {
   "cell_type": "markdown",
   "id": "6dd0cb42-9c7b-49bc-a475-33ba4a5dd23c",
   "metadata": {},
   "source": [
    "- The scores seem on par with Naive Bayes and Logistic Regression."
   ]
  },
  {
   "cell_type": "code",
   "execution_count": 7,
   "id": "0601503f-40ef-46eb-a147-e05a03e9ad7f",
   "metadata": {},
   "outputs": [],
   "source": [
    "# do a proper grid search\n",
    "pipe1 = Pipeline([\n",
    "            ('cvec', CountVectorizer()),\n",
    "            ('svm', LinearSVC(max_iter=10_000))\n",
    "        ])\n",
    "\n",
    "svm1_params = {\n",
    "        'cvec__stop_words':[None],\n",
    "        'cvec__max_df':[0.25, 0.3],\n",
    "        'cvec__ngram_range':[(1,2), (1,3)],\n",
    "        'cvec__binary':[True, False],\n",
    "        'svm__C':[1, 0.1]\n",
    "        }"
   ]
  },
  {
   "cell_type": "code",
   "execution_count": 8,
   "id": "5f1ec9e9-1b29-4975-8155-a809c86e4e45",
   "metadata": {},
   "outputs": [],
   "source": [
    "# fit model and save\n",
    "\n",
    "# svm1 = GridSearchCV(pipe1, svm1_params, cv=5, n_jobs=8)\n",
    "\n",
    "# svm1.fit(X_train, y_train)\n",
    "\n",
    "# joblib.dump(svm1, '../models/svm1.pkl')\n",
    "\n",
    "svm1 = joblib.load('../models/svm1.pkl')"
   ]
  },
  {
   "cell_type": "code",
   "execution_count": 9,
   "id": "bf22a2a3-b454-48b8-b535-8fa69ba4173d",
   "metadata": {},
   "outputs": [
    {
     "data": {
      "text/plain": [
       "(0.9966803142635831, 0.933150753143284)"
      ]
     },
     "execution_count": 9,
     "metadata": {},
     "output_type": "execute_result"
    }
   ],
   "source": [
    "# check scores\n",
    "svm1.score(X_train, y_train), svm1.score(X_test, y_test)"
   ]
  },
  {
   "cell_type": "code",
   "execution_count": 10,
   "id": "e6836db6-0a77-431d-ac00-1180f1c6fcca",
   "metadata": {},
   "outputs": [
    {
     "name": "stdout",
     "output_type": "stream",
     "text": [
      "{'cvec__binary': True, 'cvec__max_df': 0.3, 'cvec__ngram_range': (1, 2), 'cvec__stop_words': None, 'svm__C': 0.1}\n",
      "0.9309090214262545\n"
     ]
    }
   ],
   "source": [
    "print(svm1.best_params_)\n",
    "print(svm1.best_score_)"
   ]
  },
  {
   "cell_type": "code",
   "execution_count": 11,
   "id": "52d93e4c-659e-4d59-b375-c8c21f4de014",
   "metadata": {},
   "outputs": [
    {
     "name": "stderr",
     "output_type": "stream",
     "text": [
      "C:\\Users\\herma\\anaconda3\\lib\\site-packages\\sklearn\\utils\\deprecation.py:87: FutureWarning: Function plot_roc_curve is deprecated; Function :func:`plot_roc_curve` is deprecated in 1.0 and will be removed in 1.2. Use one of the class methods: :meth:`sklearn.metric.RocCurveDisplay.from_predictions` or :meth:`sklearn.metric.RocCurveDisplay.from_estimator`.\n",
      "  warnings.warn(msg, category=FutureWarning)\n"
     ]
    },
    {
     "name": "stdout",
     "output_type": "stream",
     "text": [
      "Accuracy:  0.933150753143284\n",
      " \n",
      "Recall:  0.5436702649656526\n",
      " \n",
      "Precision:  0.8849840255591054\n",
      " \n",
      "F1:  0.6735562310030395\n",
      " \n"
     ]
    },
    {
     "data": {
      "image/png": "[encoded data removed]",
      "text/plain": [
       "<Figure size 432x288 with 1 Axes>"
      ]
     },
     "metadata": {
      "needs_background": "light"
     },
     "output_type": "display_data"
    }
   ],
   "source": [
    "fig, ax = plt.subplots(1, figsize=(6,4));\n",
    "\n",
    "plot_roc_curve(svm1, X_test, y_test, ax=ax);\n",
    "plt.plot([0,1],[0,1],linestyle='--', color='red', label='baseline');\n",
    "plt.title('SVM with CountVectorizer', fontsize=15, font='ms gothic');\n",
    "plt.legend(loc='lower right');\n",
    "\n",
    "plt.savefig('../images/svm1-roc.png');\n",
    "\n",
    "svm1_preds = svm1.predict(X_test)\n",
    "print(\"Accuracy: \", accuracy_score(y_test, svm1_preds))\n",
    "print(\" \")\n",
    "print(\"Recall: \", recall_score(y_test, svm1_preds))\n",
    "print(\" \")\n",
    "print(\"Precision: \", precision_score(y_test, svm1_preds))\n",
    "print(\" \")\n",
    "print(\"F1: \", f1_score(y_test, svm1_preds))\n",
    "print(\" \")"
   ]
  },
  {
   "cell_type": "code",
   "execution_count": null,
   "id": "5dd828ce-ed32-44ec-a98f-0534bce99f78",
   "metadata": {},
   "outputs": [],
   "source": []
  },
  {
   "cell_type": "markdown",
   "id": "3e6f5fb8-51e2-44ce-966b-13963133e4ea",
   "metadata": {},
   "source": [
    "---\n",
    "\n",
    "# Linear SVM with TF-IDF"
   ]
  },
  {
   "cell_type": "code",
   "execution_count": 30,
   "id": "fbb545bc-622b-4ddb-8091-01784c683e18",
   "metadata": {},
   "outputs": [],
   "source": [
    "pipe3 = Pipeline([\n",
    "            ('cvec', TfidfVectorizer(binary=True)),\n",
    "            ('svm', LinearSVC(max_iter=10_000))\n",
    "        ])\n",
    "\n",
    "svm3_params = {\n",
    "        'cvec__stop_words':[None],\n",
    "        'cvec__max_df':[0.3],\n",
    "        'cvec__ngram_range':[(1,2)],\n",
    "        'svm__C':[0.5]\n",
    "        }"
   ]
  },
  {
   "cell_type": "code",
   "execution_count": 31,
   "id": "c91ca98e-0cfb-4c97-8138-bb34498f23e4",
   "metadata": {},
   "outputs": [
    {
     "data": {
      "text/plain": [
       "GridSearchCV(cv=5,\n",
       "             estimator=Pipeline(steps=[('cvec', TfidfVectorizer(binary=True)),\n",
       "                                       ('svm', LinearSVC(max_iter=10000))]),\n",
       "             n_jobs=8,\n",
       "             param_grid={'cvec__max_df': [0.3], 'cvec__ngram_range': [(1, 2)],\n",
       "                         'cvec__stop_words': [None], 'svm__C': [0.5]})"
      ]
     },
     "execution_count": 31,
     "metadata": {},
     "output_type": "execute_result"
    }
   ],
   "source": [
    "# svm3 = GridSearchCV(pipe3, svm3_params, cv=5, n_jobs=8)\n",
    "\n",
    "# svm3.fit(X_train, y_train)\n",
    "\n",
    "# joblib.dump(svm3, '../models/svm3.pkl')\n",
    "\n",
    "svm3 = joblib.load('../models/svm3.pkl')"
   ]
  },
  {
   "cell_type": "code",
   "execution_count": 32,
   "id": "7c01559d-e295-4de7-a12a-796d427375d7",
   "metadata": {},
   "outputs": [
    {
     "name": "stdout",
     "output_type": "stream",
     "text": [
      "0.9323890627162778\n",
      "{'cvec__max_df': 0.3, 'cvec__ngram_range': (1, 2), 'cvec__stop_words': None, 'svm__C': 0.5}\n"
     ]
    },
    {
     "data": {
      "text/plain": [
       "(0.9929180037623105, 0.9341466450890078)"
      ]
     },
     "execution_count": 32,
     "metadata": {},
     "output_type": "execute_result"
    }
   ],
   "source": [
    "print(svm3.best_score_)\n",
    "print(svm3.best_params_)\n",
    "\n",
    "svm3.score(X_train, y_train), svm3.score(X_test, y_test)"
   ]
  },
  {
   "cell_type": "markdown",
   "id": "d09195a2-ea3b-495f-8df6-3951dc3cee9a",
   "metadata": {},
   "source": [
    "<br>\n",
    "\n",
    "- These scores are on par with Logistic Regression. Let's take a look at other metrics.\n",
    "\n",
    "<br>"
   ]
  },
  {
   "cell_type": "code",
   "execution_count": 23,
   "id": "2cdf1eae-6dc6-48b0-8897-e1e5415f0bb6",
   "metadata": {},
   "outputs": [
    {
     "name": "stderr",
     "output_type": "stream",
     "text": [
      "C:\\Users\\herma\\anaconda3\\lib\\site-packages\\sklearn\\utils\\deprecation.py:87: FutureWarning: Function plot_roc_curve is deprecated; Function :func:`plot_roc_curve` is deprecated in 1.0 and will be removed in 1.2. Use one of the class methods: :meth:`sklearn.metric.RocCurveDisplay.from_predictions` or :meth:`sklearn.metric.RocCurveDisplay.from_estimator`.\n",
      "  warnings.warn(msg, category=FutureWarning)\n"
     ]
    },
    {
     "name": "stdout",
     "output_type": "stream",
     "text": [
      "Accuracy:  0.9327772936636375\n",
      " \n",
      "Recall:  0.5446516192345436\n",
      " \n",
      "Precision:  0.8795562599049128\n",
      " \n",
      "F1:  0.6735562310030395\n",
      " \n"
     ]
    },
    {
     "data": {
      "image/png": "[encoded data removed]",
      "text/plain": [
       "<Figure size 1008x576 with 1 Axes>"
      ]
     },
     "metadata": {
      "needs_background": "light"
     },
     "output_type": "display_data"
    }
   ],
   "source": [
    "fig, ax = plt.subplots(1, figsize=(14, 8));\n",
    "\n",
    "plot_roc_curve(svm1, X_test, y_test, ax=ax);\n",
    "plt.plot([0,1],[0,1],linestyle='--', color='red', label='baseline');\n",
    "plt.title('SVM with TF-IDF', fontsize=30, font='ms gothic');\n",
    "plt.legend(loc='lower right');\n",
    "\n",
    "plt.savefig('../images/svm3-roc.png');\n",
    "\n",
    "svm3_preds = svm3.predict(X_test)\n",
    "print(\"Accuracy: \", accuracy_score(y_test, svm3_preds))\n",
    "print(\" \")\n",
    "print(\"Recall: \", recall_score(y_test, svm3_preds))\n",
    "print(\" \")\n",
    "print(\"Precision: \", precision_score(y_test, svm3_preds))\n",
    "print(\" \")\n",
    "print(\"F1: \", f1_score(y_test, svm1_preds))\n",
    "print(\" \")"
   ]
  },
  {
   "cell_type": "markdown",
   "id": "81e3a406-deaf-4bd9-9861-7b48ca88fa12",
   "metadata": {},
   "source": [
    "<br>\n",
    "\n",
    "- For the purposes of classifying fake news, we probably want to prioritize Precision over Recall: it seems more costly to mis-identify real news as fake, than it is to mis-identify fake news as real.\n",
    "- In our case, the SVM model has a slightly higher precision (at the cost of a slightly lower recall) vs the Logistic Regression model. Since the SVM and Logistic Regression have near identical accuracy, we probably prefer the SVM slightly over the Logistic Regression model.\n",
    "\n",
    "<br>"
   ]
  },
  {
   "cell_type": "markdown",
   "id": "03c11dde-0284-4150-9bad-ac49505d4eef",
   "metadata": {},
   "source": [
    "---\n",
    "\n",
    "# SVM with RBF/Gaussian Kernel\n",
    "\n",
    "In this section, we'll implement a SVM with a RBF kernel. Since kernel SVMs generally train very slowly on large data sets, we will restrict ourselves to a more reasonable training set with 20,000 examples. This also provides us with the oppurtunity to explore how balancing out the classes might affect model performance.\n",
    "\n",
    "<br>"
   ]
  },
  {
   "cell_type": "code",
   "execution_count": 38,
   "id": "a4dee480-f15e-46e2-af2e-e65ef7a061c1",
   "metadata": {},
   "outputs": [],
   "source": [
    "# undersample r/news to create a smaller training set with balanced classes\n",
    "train = pd.read_csv('../data/total_train.csv')\n",
    "\n",
    "news_sample_train = train[ train['class'] == 0].iloc[0:10_000]\n",
    "onion_sample_train = train[ train['class'] == 1].iloc[0:10_000]\n",
    "\n",
    "\n",
    "balanced_train = pd.concat([news_sample_train, onion_sample_train]).reset_index(drop=True)\n",
    "\n",
    "X = balanced_train['title']\n",
    "y = balanced_train['class']\n",
    "\n",
    "X_train, X_test, y_train, y_test = train_test_split(X, y, stratify = y, test_size=0.5, random_state=42)"
   ]
  },
  {
   "cell_type": "code",
   "execution_count": 41,
   "id": "e6bd8572-6a05-4b31-819c-3c4e410251c9",
   "metadata": {},
   "outputs": [],
   "source": [
    "# instantiate SVC (rbf kernel is selected by default)\n",
    "pipe4 = Pipeline([\n",
    "            ('cvec', TfidfVectorizer(binary=True)),\n",
    "            ('scale', StandardScaler(with_mean=False)),\n",
    "            ('svm', SVC(max_iter=10_000))\n",
    "        ])\n",
    "\n",
    "svm4_params = {\n",
    "        'cvec__stop_words':['english'],\n",
    "        'cvec__max_df':[0.2],\n",
    "        'cvec__ngram_range':[(1,2)],\n",
    "        'svm__C':[1]\n",
    "        }"
   ]
  },
  {
   "cell_type": "code",
   "execution_count": 42,
   "id": "622c5cb9-c8e1-4554-99cc-76a65b363229",
   "metadata": {},
   "outputs": [
    {
     "data": {
      "text/plain": [
       "GridSearchCV(cv=5,\n",
       "             estimator=Pipeline(steps=[('cvec', TfidfVectorizer(binary=True)),\n",
       "                                       ('scale',\n",
       "                                        StandardScaler(with_mean=False)),\n",
       "                                       ('svm', SVC(max_iter=10000))]),\n",
       "             n_jobs=8,\n",
       "             param_grid={'cvec__max_df': [0.2], 'cvec__ngram_range': [(1, 2)],\n",
       "                         'cvec__stop_words': ['english'], 'svm__C': [1]})"
      ]
     },
     "execution_count": 42,
     "metadata": {},
     "output_type": "execute_result"
    }
   ],
   "source": [
    "svm4 = GridSearchCV(pipe4, svm4_params, cv=5, n_jobs=8)\n",
    "\n",
    "svm4.fit(X_train, y_train)\n",
    "\n"
   ]
  },
  {
   "cell_type": "code",
   "execution_count": 43,
   "id": "68c7875b-86d5-4531-af3b-47c44018cd74",
   "metadata": {},
   "outputs": [
    {
     "data": {
      "text/plain": [
       "(0.9913, 0.7653)"
      ]
     },
     "execution_count": 43,
     "metadata": {},
     "output_type": "execute_result"
    }
   ],
   "source": [
    "svm4.score(X_train, y_train), svm4.score(X_test, y_test)"
   ]
  },
  {
   "cell_type": "markdown",
   "id": "4ad1fdc9-1fc6-408f-98f6-44723ac03c4c",
   "metadata": {},
   "source": [
    "<br>\n",
    "\n",
    "- With a balanced class, our base line accuracy is 50%.\n",
    "- The SVM was able to achieve 76.5% accuracy, which is +26.5% over baseline.\n",
    "- We some severe overfitting, probably a good idea to tweak the hyper parameters and maybe drop stop-words.\n",
    "\n",
    "Let's take a look at some of the other metrics to round out our evaluation.\n",
    "\n",
    "<br>"
   ]
  },
  {
   "cell_type": "code",
   "execution_count": 44,
   "id": "5f62fe7b-61f8-4282-a0f4-7850bdfc2539",
   "metadata": {},
   "outputs": [
    {
     "data": {
      "text/plain": [
       "{'cvec__max_df': 0.2,\n",
       " 'cvec__ngram_range': (1, 2),\n",
       " 'cvec__stop_words': 'english',\n",
       " 'svm__C': 1}"
      ]
     },
     "execution_count": 44,
     "metadata": {},
     "output_type": "execute_result"
    }
   ],
   "source": [
    "svm4.best_params_"
   ]
  },
  {
   "cell_type": "code",
   "execution_count": 45,
   "id": "3550a95a-7261-440c-a8c3-bbf6074e1abf",
   "metadata": {},
   "outputs": [
    {
     "name": "stdout",
     "output_type": "stream",
     "text": [
      "Accuracy:  0.7653\n",
      " \n",
      "Recall:  0.936\n",
      " \n",
      "Precision:  0.6977784404353661\n",
      " \n",
      "F1:  0.7995216537114548\n"
     ]
    }
   ],
   "source": [
    "preds = svm4.predict(X_test)\n",
    "\n",
    "print(\"Accuracy: \", accuracy_score(y_test, preds))\n",
    "print(\" \")\n",
    "print(\"Recall: \", recall_score(y_test, preds))\n",
    "print(\" \")\n",
    "print(\"Precision: \", precision_score(y_test, preds))\n",
    "print(\" \")\n",
    "print(\"F1: \", f1_score(y_test, preds))"
   ]
  },
  {
   "cell_type": "code",
   "execution_count": 46,
   "id": "fac4d193-9a6a-4562-bd1e-024b047cb947",
   "metadata": {},
   "outputs": [
    {
     "name": "stderr",
     "output_type": "stream",
     "text": [
      "C:\\Users\\herma\\anaconda3\\envs\\tf-gpu\\lib\\site-packages\\sklearn\\utils\\deprecation.py:87: FutureWarning: Function plot_roc_curve is deprecated; Function :func:`plot_roc_curve` is deprecated in 1.0 and will be removed in 1.2. Use one of the class methods: :meth:`sklearn.metric.RocCurveDisplay.from_predictions` or :meth:`sklearn.metric.RocCurveDisplay.from_estimator`.\n",
      "  warnings.warn(msg, category=FutureWarning)\n"
     ]
    },
    {
     "data": {
      "image/png": "[encoded data removed]",
      "text/plain": [
       "<Figure size 432x288 with 1 Axes>"
      ]
     },
     "metadata": {
      "needs_background": "light"
     },
     "output_type": "display_data"
    }
   ],
   "source": [
    "plot_roc_curve(svm4, X_test, y_test);\n",
    "\n",
    "plt.plot([0,1],[0,1], linestyle='--', color='red', label='baseline');\n",
    "\n",
    "plt.legend();"
   ]
  }
 ],
 "metadata": {
  "kernelspec": {
   "display_name": "Python 3 (ipykernel)",
   "language": "python",
   "name": "python3"
  },
  "language_info": {
   "codemirror_mode": {
    "name": "ipython",
    "version": 3
   },
   "file_extension": ".py",
   "mimetype": "text/x-python",
   "name": "python",
   "nbconvert_exporter": "python",
   "pygments_lexer": "ipython3",
   "version": "3.9.12"
  }
 },
 "nbformat": 4,
 "nbformat_minor": 5
}
