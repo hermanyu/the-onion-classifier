{
 "cells": [
  {
   "cell_type": "code",
   "execution_count": 1,
   "id": "50395881-8a33-476c-ae70-730f11f5d6da",
   "metadata": {},
   "outputs": [],
   "source": [
    "import numpy as np\n",
    "import pandas as pd\n",
    "import matplotlib.pyplot as plt\n",
    "import seaborn as sns\n",
    "import re\n",
    "from collections import Counter\n",
    "import joblib\n",
    "\n",
    "from sklearn.tree import DecisionTreeClassifier\n",
    "\n",
    "from sklearn.metrics import confusion_matrix, ConfusionMatrixDisplay, recall_score, precision_score, plot_roc_curve, roc_auc_score\n",
    "from sklearn.model_selection import train_test_split, GridSearchCV\n",
    "from sklearn.pipeline import Pipeline\n",
    "from sklearn.preprocessing import StandardScaler, FunctionTransformer\n",
    "from sklearn.metrics import confusion_matrix, ConfusionMatrixDisplay, recall_score, precision_score, f1_score, plot_roc_curve, roc_auc_score, accuracy_score\n",
    "\n",
    "from sklearn.feature_extraction.text import CountVectorizer, TfidfVectorizer\n",
    "\n",
    "from imblearn.over_sampling import RandomOverSampler\n",
    "\n",
    "from nltk.tokenize import sent_tokenize, word_tokenize, RegexpTokenizer\n",
    "from nltk.stem import WordNetLemmatizer\n",
    "from nltk.stem.porter import PorterStemmer\n",
    "from nltk.corpus import stopwords\n",
    "\n",
    "\n",
    "import thor"
   ]
  },
  {
   "cell_type": "code",
   "execution_count": 9,
   "id": "c1482ca7-dbc5-48d4-b1e5-09e8c0796728",
   "metadata": {},
   "outputs": [],
   "source": [
    "train = pd.read_csv('../data/total_train.csv')\n",
    "test = pd.read_csv('../data/total_test.csv')\n",
    "\n",
    "X = train.loc[0:20_000,'title']\n",
    "y = train.loc[0:20_000,'class']\n",
    "\n",
    "X_train, X_test, y_train, y_test = train_test_split(X, y, stratify=y, test_size=0.1, random_state=42)"
   ]
  },
  {
   "cell_type": "code",
   "execution_count": 3,
   "id": "c7eef8b1-00ae-45a2-920a-0787bfcac451",
   "metadata": {},
   "outputs": [],
   "source": [
    "def change_threshold(probs, threshold):\n",
    "    pos_probs = pd.Series([p[1] for p in probs])\n",
    "    return pos_probs.map(lambda p: 1 if p>=threshold else 0)\n",
    "\n",
    "def verbose_eval(estimator, data, actual, threshold=0.5):\n",
    "    preds = change_threshold(estimator.predict_proba(data), threshold)\n",
    "    ConfusionMatrixDisplay(confusion_matrix(actual, preds)).from_predictions(actual, preds);\n",
    "    print(\" \")\n",
    "    print(\"Accuracy: \", accuracy_score(actual, preds))\n",
    "    print(\" \")\n",
    "    print(\"Recall: \", recall_score(actual, preds))\n",
    "    print(\" \")\n",
    "    print(\"Precision: \", precision_score(actual, preds))\n",
    "    print(\" \")\n",
    "    print(\"F1: \", f1_score(actual, preds))\n",
    "    print(\" \")\n"
   ]
  },
  {
   "cell_type": "markdown",
   "id": "1d3e61d9-16a5-4bdf-b45c-d5154aabadae",
   "metadata": {},
   "source": [
    "---\n",
    "\n",
    "# A Single Decision Tree\n",
    "\n",
    "A **Decision Tree** is a model which classifies data by partition the feature space in rectangular subsets.\n",
    "1. The partitioning happens in steps: first an input feature is selected, say $x_1$.\n",
    "2. The model splits the feature space into two intervals $(x_1 < c)$ and $(x_1 \\geq c)$. The optimal split point $c$ is decided on by the Gini impurity score.\n",
    "3. Repeat this process until the data set is sufficiently partitioned and separated in the feature space."
   ]
  },
  {
   "cell_type": "code",
   "execution_count": 10,
   "id": "49cca5ad-b1ab-4f3a-a58c-10246761ed55",
   "metadata": {},
   "outputs": [
    {
     "name": "stdout",
     "output_type": "stream",
     "text": [
      "[Pipeline] .............. (step 1 of 2) Processing cvec, total=   1.1s\n",
      "[Pipeline] ................ (step 2 of 2) Processing dt, total=  13.6s\n",
      "CPU times: total: 14.7 s\n",
      "Wall time: 31.9 s\n"
     ]
    },
    {
     "data": {
      "text/plain": [
       "GridSearchCV(cv=5,\n",
       "             estimator=Pipeline(steps=[('cvec',\n",
       "                                        CountVectorizer(binary=True, max_df=0.3,\n",
       "                                                        ngram_range=(1, 4))),\n",
       "                                       ('dt',\n",
       "                                        DecisionTreeClassifier(min_samples_leaf=5,\n",
       "                                                               random_state=42))],\n",
       "                                verbose=True),\n",
       "             n_jobs=8, param_grid={})"
      ]
     },
     "execution_count": 10,
     "metadata": {},
     "output_type": "execute_result"
    }
   ],
   "source": [
    "%%time\n",
    "\n",
    "pipe = Pipeline([\n",
    "            ('cvec', CountVectorizer(max_df=0.3, binary=True, ngram_range=(1,4))),\n",
    "            ('dt', DecisionTreeClassifier(max_depth=None, random_state=42, min_samples_leaf=5))\n",
    "            ], \n",
    "        verbose=True)\n",
    "\n",
    "gs = GridSearchCV(pipe, param_grid={}, cv=5, n_jobs=8)\n",
    "\n",
    "gs.fit(X_train, y_train)"
   ]
  },
  {
   "cell_type": "code",
   "execution_count": 5,
   "id": "4130cda6-a5f1-4649-aabd-bb3422d592d8",
   "metadata": {},
   "outputs": [
    {
     "name": "stdout",
     "output_type": "stream",
     "text": [
      "[Pipeline] .............. (step 1 of 2) Processing cvec, total=   4.9s\n",
      "[Pipeline] ................ (step 2 of 2) Processing dt, total= 3.0min\n",
      "CPU times: total: 3min 7s\n",
      "Wall time: 7min 12s\n"
     ]
    },
    {
     "data": {
      "text/plain": [
       "GridSearchCV(cv=5,\n",
       "             estimator=Pipeline(steps=[('cvec',\n",
       "                                        CountVectorizer(binary=True, max_df=0.3,\n",
       "                                                        ngram_range=(1, 4))),\n",
       "                                       ('dt',\n",
       "                                        DecisionTreeClassifier(min_samples_leaf=5,\n",
       "                                                               random_state=42))],\n",
       "                                verbose=True),\n",
       "             n_jobs=8, param_grid={})"
      ]
     },
     "execution_count": 5,
     "metadata": {},
     "output_type": "execute_result"
    }
   ],
   "source": [
    "%%time\n",
    "\n",
    "pipe = Pipeline([\n",
    "            ('cvec', CountVectorizer(max_df=0.3, binary=True, ngram_range=(1,4))),\n",
    "            ('dt', DecisionTreeClassifier(max_depth=None, random_state=42, min_samples_leaf=5))\n",
    "            ], \n",
    "        verbose=True)\n",
    "\n",
    "gs = GridSearchCV(pipe, param_grid={}, cv=5, n_jobs=8)\n",
    "\n",
    "gs.fit(X_train, y_train)"
   ]
  },
  {
   "cell_type": "code",
   "execution_count": 30,
   "id": "402763d6-8ef2-4487-85ca-d11e4ac659c9",
   "metadata": {},
   "outputs": [],
   "source": [
    "pipe1 = Pipeline([\n",
    "            ('cvec', CountVectorizer()),\n",
    "            ('dt', DecisionTreeClassifier(random_state=42))\n",
    "        ])\n",
    "\n",
    "tree1_params = {\n",
    "            'cvec__max_df':[0.3],\n",
    "            'cvec__binary':[True],\n",
    "            'cvec__ngram_range':[(1,3), (1,4)],\n",
    "            'dt__max_depth':[None],\n",
    "            'dt__min_samples_leaf':[5]\n",
    "}"
   ]
  },
  {
   "cell_type": "code",
   "execution_count": 32,
   "id": "1b9f66d9-32a0-4c2a-af18-68d6ec2c2393",
   "metadata": {},
   "outputs": [],
   "source": [
    "#tree1 = GridSearchCV(pipe1, tree1_params, cv=5, n_jobs=8)\n",
    "\n",
    "#tree1.fit(X_train, y_train)\n",
    "\n",
    "#joblib.dump(tree1, '../models/tree1.pkl')\n",
    "\n",
    "tree1 = joblib.load('../models/tree1.pkl')"
   ]
  },
  {
   "cell_type": "code",
   "execution_count": 33,
   "id": "8ff0335f-5aee-44e6-a24b-002adcc3dc96",
   "metadata": {},
   "outputs": [
    {
     "data": {
      "text/plain": [
       "(0.9120979078805921, 0.9111882907467129)"
      ]
     },
     "execution_count": 33,
     "metadata": {},
     "output_type": "execute_result"
    }
   ],
   "source": [
    "tree1.score(X_train, y_train), tree1.score(X_test, y_test)"
   ]
  },
  {
   "cell_type": "code",
   "execution_count": 34,
   "id": "acfc8622-bd16-4915-abd2-b9bc82c9e75e",
   "metadata": {},
   "outputs": [
    {
     "data": {
      "text/plain": [
       "{'cvec__binary': True,\n",
       " 'cvec__max_df': 0.3,\n",
       " 'cvec__ngram_range': (1, 3),\n",
       " 'dt__max_depth': None,\n",
       " 'dt__min_samples_leaf': 5}"
      ]
     },
     "execution_count": 34,
     "metadata": {},
     "output_type": "execute_result"
    }
   ],
   "source": [
    "tree1.best_params_"
   ]
  },
  {
   "cell_type": "code",
   "execution_count": 35,
   "id": "700bba54-ee35-4d90-9761-729cc99096b3",
   "metadata": {},
   "outputs": [
    {
     "name": "stdout",
     "output_type": "stream",
     "text": [
      " \n",
      "Accuracy:  0.9104440585462664\n",
      " \n",
      "Recall:  0.48188050930460335\n",
      " \n",
      "Precision:  0.7182481751824817\n",
      " \n",
      "F1:  0.5767878077373975\n",
      " \n"
     ]
    },
    {
     "data": {
      "image/png": "[encoded data removed]",
      "text/plain": [
       "<Figure size 432x288 with 2 Axes>"
      ]
     },
     "metadata": {
      "needs_background": "light"
     },
     "output_type": "display_data"
    }
   ],
   "source": [
    "verbose_eval(tree1, X_test, y_test)"
   ]
  },
  {
   "cell_type": "markdown",
   "id": "c0c31b6c-efb4-4a19-b041-4bf5e38bb0c0",
   "metadata": {},
   "source": [
    "- Seems that the Decision Tree is doing worse than Naive Bayes and Logistic Regression. This isn't too surpring: Decision trees are known to be **Weak Classifiers** which means a *single* tree generally will not outperform more robust classifiers like Logistic Regression.\n",
    "- That being said, the main advantage of Decision Trees when we start pooling them together to create **Ensembles**. This is what we will look at in the notebook 5 (file name is ```05-Ensemble-Methods.ipynb```"
   ]
  },
  {
   "cell_type": "code",
   "execution_count": null,
   "id": "d801e9be-a834-403c-a477-649c54599714",
   "metadata": {},
   "outputs": [],
   "source": []
  },
  {
   "cell_type": "code",
   "execution_count": null,
   "id": "a6f9d61b-97d1-498a-925b-40495f4107a4",
   "metadata": {},
   "outputs": [],
   "source": []
  },
  {
   "cell_type": "code",
   "execution_count": null,
   "id": "94629a9e-6a34-4976-9d35-24f810b10aa0",
   "metadata": {},
   "outputs": [],
   "source": []
  }
 ],
 "metadata": {
  "kernelspec": {
   "display_name": "Python 3 (ipykernel)",
   "language": "python",
   "name": "python3"
  },
  "language_info": {
   "codemirror_mode": {
    "name": "ipython",
    "version": 3
   },
   "file_extension": ".py",
   "mimetype": "text/x-python",
   "name": "python",
   "nbconvert_exporter": "python",
   "pygments_lexer": "ipython3",
   "version": "3.9.7"
  }
 },
 "nbformat": 4,
 "nbformat_minor": 5
}
