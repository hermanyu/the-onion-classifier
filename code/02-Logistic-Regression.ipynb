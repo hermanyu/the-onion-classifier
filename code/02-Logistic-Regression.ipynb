{
 "cells": [
  {
   "cell_type": "markdown",
   "id": "ac5800f6-9b37-4df9-a856-f8e716dc0455",
   "metadata": {},
   "source": [
    "# Logistic Regression"
   ]
  },
  {
   "cell_type": "code",
   "execution_count": 1,
   "id": "26d15fb2-77ba-4316-89be-ca4448acb143",
   "metadata": {},
   "outputs": [],
   "source": [
    "import numpy as np\n",
    "import pandas as pd\n",
    "import matplotlib.pyplot as plt\n",
    "import seaborn as sns\n",
    "import re\n",
    "from collections import Counter\n",
    "import joblib\n",
    "\n",
    "from sklearn.linear_model import LogisticRegression\n",
    "\n",
    "from sklearn.metrics import confusion_matrix, ConfusionMatrixDisplay, recall_score, precision_score, plot_roc_curve, roc_auc_score\n",
    "from sklearn.model_selection import train_test_split, GridSearchCV\n",
    "from sklearn.pipeline import Pipeline\n",
    "from sklearn.preprocessing import StandardScaler, FunctionTransformer\n",
    "from sklearn.metrics import confusion_matrix, ConfusionMatrixDisplay, recall_score, precision_score, f1_score, plot_roc_curve, roc_auc_score, accuracy_score\n",
    "\n",
    "from sklearn.feature_extraction.text import CountVectorizer, TfidfVectorizer\n",
    "\n",
    "from imblearn.over_sampling import RandomOverSampler\n",
    "\n",
    "from nltk.tokenize import sent_tokenize, word_tokenize, RegexpTokenizer\n",
    "from nltk.stem import WordNetLemmatizer\n",
    "from nltk.stem.porter import PorterStemmer\n",
    "from nltk.corpus import stopwords\n",
    "\n",
    "\n",
    "import thor"
   ]
  },
  {
   "cell_type": "code",
   "execution_count": 2,
   "id": "1cfebe33-f920-42d1-ad97-dd7cf388a6a2",
   "metadata": {},
   "outputs": [
    {
     "data": {
      "text/html": [
       "<div>\n",
       "<style scoped>\n",
       "    .dataframe tbody tr th:only-of-type {\n",
       "        vertical-align: middle;\n",
       "    }\n",
       "\n",
       "    .dataframe tbody tr th {\n",
       "        vertical-align: top;\n",
       "    }\n",
       "\n",
       "    .dataframe thead th {\n",
       "        text-align: right;\n",
       "    }\n",
       "</style>\n",
       "<table border=\"1\" class=\"dataframe\">\n",
       "  <thead>\n",
       "    <tr style=\"text-align: right;\">\n",
       "      <th></th>\n",
       "      <th>created_utc</th>\n",
       "      <th>title</th>\n",
       "      <th>class</th>\n",
       "    </tr>\n",
       "  </thead>\n",
       "  <tbody>\n",
       "    <tr>\n",
       "      <th>0</th>\n",
       "      <td>1638807805</td>\n",
       "      <td>sheriff's office removes photo of santa fillin...</td>\n",
       "      <td>0</td>\n",
       "    </tr>\n",
       "    <tr>\n",
       "      <th>1</th>\n",
       "      <td>1636918297</td>\n",
       "      <td>this library lets you borrow people instead of...</td>\n",
       "      <td>0</td>\n",
       "    </tr>\n",
       "    <tr>\n",
       "      <th>2</th>\n",
       "      <td>1647961430</td>\n",
       "      <td>russian elements have infiltrated every elemen...</td>\n",
       "      <td>0</td>\n",
       "    </tr>\n",
       "    <tr>\n",
       "      <th>3</th>\n",
       "      <td>1511181800</td>\n",
       "      <td>only 4 drivers left alive go into final nascar...</td>\n",
       "      <td>1</td>\n",
       "    </tr>\n",
       "    <tr>\n",
       "      <th>4</th>\n",
       "      <td>1646768574</td>\n",
       "      <td>what happens in ukraine since 2015</td>\n",
       "      <td>0</td>\n",
       "    </tr>\n",
       "  </tbody>\n",
       "</table>\n",
       "</div>"
      ],
      "text/plain": [
       "   created_utc                                              title  class\n",
       "0   1638807805  sheriff's office removes photo of santa fillin...      0\n",
       "1   1636918297  this library lets you borrow people instead of...      0\n",
       "2   1647961430  russian elements have infiltrated every elemen...      0\n",
       "3   1511181800  only 4 drivers left alive go into final nascar...      1\n",
       "4   1646768574                 what happens in ukraine since 2015      0"
      ]
     },
     "execution_count": 2,
     "metadata": {},
     "output_type": "execute_result"
    }
   ],
   "source": [
    "train = pd.read_csv('../data/total_train.csv')\n",
    "test = pd.read_csv('../data/total_test.csv')\n",
    "\n",
    "train.head()"
   ]
  },
  {
   "cell_type": "code",
   "execution_count": 3,
   "id": "796a76e2-edb8-472e-bd5d-90fdeb9ee038",
   "metadata": {},
   "outputs": [],
   "source": [
    "X = train['title'].str.lower()\n",
    "y = train['class']\n",
    "\n",
    "X_train, X_test, y_train, y_test = train_test_split(X, y, stratify=y, test_size=0.1, random_state=42)"
   ]
  },
  {
   "cell_type": "markdown",
   "id": "d017d36c-e81d-437b-92b9-ed2e82aaba35",
   "metadata": {},
   "source": [
    "--- \n",
    "\n",
    "# Logistic Regression: Base Model\n",
    "\n",
    "The goal of a **logistic regression** model is to estimate the probability of a given data point beloning to a given class, e.g. $P( y = \\text{ onion })$. Logistic Regression does this by reducing the problem down a previously solved problem: instead of doing regression on $P(y = 1)$ directly, we do a *linear regression* against the Log-Odds ratio:\n",
    "\n",
    "<br>\n",
    "\n",
    "$$\\beta_0+\\beta_1x_1+\\ldots+\\beta_nx_n = \\log\\left(\\frac{P(y=1)}{1-P(y=1)}\\right)$$\n",
    "\n",
    "<br>\n",
    "\n",
    "Like the Naive Bayes model before, we will need to encode the text-datum into a numeric form via Count Vectorizing, TF-IDF, and/or Sentiment Analysis."
   ]
  },
  {
   "cell_type": "markdown",
   "id": "f29c1235-d975-49b9-aee5-7417c4fc2eda",
   "metadata": {},
   "source": [
    "### Base CountVectorizer Model"
   ]
  },
  {
   "cell_type": "code",
   "execution_count": 4,
   "id": "74651e0e-6e4a-4eb3-8a23-210b856e0c58",
   "metadata": {},
   "outputs": [],
   "source": [
    "pipe1 = Pipeline([\n",
    "            ('cvec', CountVectorizer()),\n",
    "            ('logreg', LogisticRegression(max_iter=20_000))\n",
    "        ])\n",
    "\n",
    "# log1_params = {\n",
    "#                 'cvec__ngram_range': [(1,2), (1,4), (1,5), (2,5)],\n",
    "#                 'cvec__max_df': [0.3, 0.5],\n",
    "#                 'cvec__stop_words':['english', None],\n",
    "#                 'cvec__binary':[False, True],\n",
    "#                 'logreg__C': [10, 1, 0.1]\n",
    "#                 }\n",
    "\n",
    "log1_params = {\n",
    "                'cvec__ngram_range': [(1,2)],\n",
    "                'cvec__max_df': [0.3],\n",
    "                'cvec__stop_words':[None],\n",
    "                'cvec__binary':[True],\n",
    "                'logreg__C': [10]\n",
    "                }"
   ]
  },
  {
   "cell_type": "code",
   "execution_count": 5,
   "id": "4c8213b8-f2e7-4767-a1a9-400784ca1bd2",
   "metadata": {},
   "outputs": [],
   "source": [
    "# log1 = GridSearchCV(pipe1, log1_params, cv=5, n_jobs=9)\n",
    "\n",
    "# log1.fit(X_train, y_train)\n",
    "\n",
    "# joblib.dump(log1, '../models/logreg1.pkl')\n",
    "\n",
    "log1 = joblib.load('../models/logreg1.pkl')"
   ]
  },
  {
   "cell_type": "code",
   "execution_count": 6,
   "id": "1a5c98ef-d079-49fe-855b-fbd47d06e14d",
   "metadata": {},
   "outputs": [
    {
     "data": {
      "text/plain": [
       "{'cvec__binary': True,\n",
       " 'cvec__max_df': 0.3,\n",
       " 'cvec__ngram_range': (1, 2),\n",
       " 'cvec__stop_words': None,\n",
       " 'logreg__C': 10}"
      ]
     },
     "execution_count": 6,
     "metadata": {},
     "output_type": "execute_result"
    }
   ],
   "source": [
    "log1.best_params_"
   ]
  },
  {
   "cell_type": "code",
   "execution_count": 7,
   "id": "bb28c5bb-7465-4885-8ed6-f02a33e9723f",
   "metadata": {},
   "outputs": [
    {
     "data": {
      "text/plain": [
       "(0.9998893438087861, 0.9327772936636375)"
      ]
     },
     "execution_count": 7,
     "metadata": {},
     "output_type": "execute_result"
    }
   ],
   "source": [
    "log1.score(X_train, y_train), log1.score(X_test, y_test)"
   ]
  },
  {
   "cell_type": "code",
   "execution_count": 8,
   "id": "1a868108-ab31-4624-9b23-a59602cdba07",
   "metadata": {},
   "outputs": [
    {
     "data": {
      "image/png": "[encoded data removed]",
      "text/plain": [
       "<Figure size 432x288 with 2 Axes>"
      ]
     },
     "metadata": {
      "needs_background": "light"
     },
     "output_type": "display_data"
    }
   ],
   "source": [
    "log1_preds = log1.predict(X_test)\n",
    "cm = confusion_matrix(y_test, log1_preds)\n",
    "cmd = ConfusionMatrixDisplay(cm)\n",
    "\n",
    "cmd.from_predictions(y_test, log1_preds);"
   ]
  },
  {
   "cell_type": "code",
   "execution_count": 9,
   "id": "122857bf-651e-4ffb-a58f-9012a110af86",
   "metadata": {},
   "outputs": [
    {
     "name": "stdout",
     "output_type": "stream",
     "text": [
      " \n",
      "Recall:  0.5534838076545633\n",
      " \n",
      "Precision:  0.8690292758089369\n",
      " \n",
      "F1:  0.6762589928057554\n",
      " \n"
     ]
    }
   ],
   "source": [
    "print(\" \")\n",
    "print(\"Recall: \", recall_score(y_test, log1_preds))\n",
    "print(\" \")\n",
    "print(\"Precision: \", precision_score(y_test, log1_preds))\n",
    "print(\" \")\n",
    "print(\"F1: \", f1_score(y_test, log1_preds))\n",
    "print(\" \")"
   ]
  },
  {
   "cell_type": "code",
   "execution_count": 10,
   "id": "d5a3f210-03de-4a7c-8299-d17c3089e89b",
   "metadata": {},
   "outputs": [
    {
     "name": "stderr",
     "output_type": "stream",
     "text": [
      "C:\\Users\\herma\\anaconda3\\lib\\site-packages\\sklearn\\utils\\deprecation.py:87: FutureWarning: Function plot_roc_curve is deprecated; Function :func:`plot_roc_curve` is deprecated in 1.0 and will be removed in 1.2. Use one of the class methods: :meth:`sklearn.metric.RocCurveDisplay.from_predictions` or :meth:`sklearn.metric.RocCurveDisplay.from_estimator`.\n",
      "  warnings.warn(msg, category=FutureWarning)\n"
     ]
    },
    {
     "data": {
      "image/png": "[encoded data removed]",
      "text/plain": [
       "<Figure size 1008x576 with 1 Axes>"
      ]
     },
     "metadata": {
      "needs_background": "light"
     },
     "output_type": "display_data"
    }
   ],
   "source": [
    "fig, ax = plt.subplots(1, figsize=(14,8));\n",
    "\n",
    "plot_roc_curve(log1, X_test, y_test, ax=ax);\n",
    "plt.plot([0,1],[0,1],linestyle='--', color='red', label='baseline');\n",
    "plt.title('Logistic Regression with CountVectorizer', fontsize=30, font='ms gothic')\n",
    "plt.legend(loc='lower right');"
   ]
  },
  {
   "cell_type": "markdown",
   "id": "3039fcd0-934b-4d27-b9c1-8d5fe1f50e00",
   "metadata": {},
   "source": [
    "- All of the other metrics look outstanding. Even the ROC curve and AUC are as close to perfect as one could hope."
   ]
  },
  {
   "cell_type": "markdown",
   "id": "f4ee0a0d-f218-41ea-b4e3-1884a848be8f",
   "metadata": {},
   "source": [
    "Since Logistic Regression predicts probabilities, we can play around with the classification threshold to tune the precision and recall."
   ]
  },
  {
   "cell_type": "code",
   "execution_count": 11,
   "id": "6fcf44f6-0ce4-4673-8aa3-a22c3e993c25",
   "metadata": {},
   "outputs": [],
   "source": [
    "def change_threshold(probs, threshold):\n",
    "    pos_probs = pd.Series([p[1] for p in probs])\n",
    "    return pos_probs.map(lambda p: 1 if p>=threshold else 0)\n",
    "\n",
    "def verbose_eval(estimator, data, actual, threshold=0.5):\n",
    "    preds = change_threshold(estimator.predict_proba(data), threshold)\n",
    "\n",
    "    cmd.from_predictions(actual, preds);\n",
    "    print(\" \")\n",
    "    print(\"Accuracy: \", accuracy_score(actual, preds))\n",
    "    print(\" \")\n",
    "    print(\"Recall: \", recall_score(actual, preds))\n",
    "    print(\" \")\n",
    "    print(\"Precision: \", precision_score(actual, preds))\n",
    "    print(\" \")\n",
    "    print(\"F1: \", f1_score(actual, preds))\n",
    "    print(\" \")\n"
   ]
  },
  {
   "cell_type": "code",
   "execution_count": 12,
   "id": "80ae7878-fe95-42ea-86fa-3747a553219d",
   "metadata": {},
   "outputs": [
    {
     "name": "stdout",
     "output_type": "stream",
     "text": [
      " \n",
      "Accuracy:  0.9348935640483007\n",
      " \n",
      "Recall:  0.6437684003925417\n",
      " \n",
      "Precision:  0.803921568627451\n",
      " \n",
      "F1:  0.7149863760217983\n",
      " \n"
     ]
    },
    {
     "data": {
      "image/png": "[encoded data removed]",
      "text/plain": [
       "<Figure size 432x288 with 2 Axes>"
      ]
     },
     "metadata": {
      "needs_background": "light"
     },
     "output_type": "display_data"
    }
   ],
   "source": [
    "verbose_eval(log1, X_test, y_test, threshold=0.3)"
   ]
  },
  {
   "cell_type": "code",
   "execution_count": 13,
   "id": "b7c8db09-a8df-4eaa-abe1-c93007033bf7",
   "metadata": {},
   "outputs": [],
   "source": [
    "# create a table with metrics for different decision boundaries/thresholds\n",
    "scores = []\n",
    "\n",
    "for threshold in range(20, 55, 5):\n",
    "    new_preds = change_threshold(log1.predict_proba(X_test), threshold*0.01)\n",
    "    col = {\n",
    "            'threshold':threshold*0.01,\n",
    "            'accuracy': accuracy_score(y_test, new_preds),\n",
    "            'recall': recall_score(y_test, new_preds),\n",
    "            'precision': precision_score(y_test, new_preds),\n",
    "            'F1' : f1_score(y_test, new_preds)\n",
    "          }\n",
    "    scores.append(col)\n",
    "\n",
    "thresh_scores = pd.DataFrame(scores)"
   ]
  },
  {
   "cell_type": "code",
   "execution_count": 14,
   "id": "c8b442a1-c0e0-4f2e-904d-6a21099bcb07",
   "metadata": {},
   "outputs": [
    {
     "data": {
      "text/html": [
       "<div>\n",
       "<style scoped>\n",
       "    .dataframe tbody tr th:only-of-type {\n",
       "        vertical-align: middle;\n",
       "    }\n",
       "\n",
       "    .dataframe tbody tr th {\n",
       "        vertical-align: top;\n",
       "    }\n",
       "\n",
       "    .dataframe thead th {\n",
       "        text-align: right;\n",
       "    }\n",
       "</style>\n",
       "<table border=\"1\" class=\"dataframe\">\n",
       "  <thead>\n",
       "    <tr style=\"text-align: right;\">\n",
       "      <th></th>\n",
       "      <th>threshold</th>\n",
       "      <th>accuracy</th>\n",
       "      <th>recall</th>\n",
       "      <th>precision</th>\n",
       "      <th>F1</th>\n",
       "    </tr>\n",
       "  </thead>\n",
       "  <tbody>\n",
       "    <tr>\n",
       "      <th>0</th>\n",
       "      <td>0.20</td>\n",
       "      <td>0.932653</td>\n",
       "      <td>0.697743</td>\n",
       "      <td>0.753178</td>\n",
       "      <td>0.724401</td>\n",
       "    </tr>\n",
       "    <tr>\n",
       "      <th>1</th>\n",
       "      <td>0.25</td>\n",
       "      <td>0.933524</td>\n",
       "      <td>0.665358</td>\n",
       "      <td>0.778416</td>\n",
       "      <td>0.717460</td>\n",
       "    </tr>\n",
       "    <tr>\n",
       "      <th>2</th>\n",
       "      <td>0.30</td>\n",
       "      <td>0.934894</td>\n",
       "      <td>0.643768</td>\n",
       "      <td>0.803922</td>\n",
       "      <td>0.714986</td>\n",
       "    </tr>\n",
       "    <tr>\n",
       "      <th>3</th>\n",
       "      <td>0.35</td>\n",
       "      <td>0.936636</td>\n",
       "      <td>0.623160</td>\n",
       "      <td>0.835526</td>\n",
       "      <td>0.713884</td>\n",
       "    </tr>\n",
       "    <tr>\n",
       "      <th>4</th>\n",
       "      <td>0.40</td>\n",
       "      <td>0.934769</td>\n",
       "      <td>0.596663</td>\n",
       "      <td>0.843273</td>\n",
       "      <td>0.698851</td>\n",
       "    </tr>\n",
       "    <tr>\n",
       "      <th>5</th>\n",
       "      <td>0.45</td>\n",
       "      <td>0.933898</td>\n",
       "      <td>0.574092</td>\n",
       "      <td>0.857771</td>\n",
       "      <td>0.687831</td>\n",
       "    </tr>\n",
       "    <tr>\n",
       "      <th>6</th>\n",
       "      <td>0.50</td>\n",
       "      <td>0.932777</td>\n",
       "      <td>0.553484</td>\n",
       "      <td>0.869029</td>\n",
       "      <td>0.676259</td>\n",
       "    </tr>\n",
       "  </tbody>\n",
       "</table>\n",
       "</div>"
      ],
      "text/plain": [
       "   threshold  accuracy    recall  precision        F1\n",
       "0       0.20  0.932653  0.697743   0.753178  0.724401\n",
       "1       0.25  0.933524  0.665358   0.778416  0.717460\n",
       "2       0.30  0.934894  0.643768   0.803922  0.714986\n",
       "3       0.35  0.936636  0.623160   0.835526  0.713884\n",
       "4       0.40  0.934769  0.596663   0.843273  0.698851\n",
       "5       0.45  0.933898  0.574092   0.857771  0.687831\n",
       "6       0.50  0.932777  0.553484   0.869029  0.676259"
      ]
     },
     "execution_count": 14,
     "metadata": {},
     "output_type": "execute_result"
    }
   ],
   "source": [
    "thresh_scores"
   ]
  },
  {
   "cell_type": "markdown",
   "id": "d9fe405a-0b05-4eb5-aff1-2b2ee3147f34",
   "metadata": {},
   "source": [
    "### Over Sampling the Minority Class"
   ]
  },
  {
   "cell_type": "code",
   "execution_count": 15,
   "id": "f5271e37-548a-4087-ab5f-bcca3f3dc0e9",
   "metadata": {},
   "outputs": [],
   "source": [
    "ros = RandomOverSampler()\n",
    "\n",
    "X_train_over, y_train_over = ros.fit_resample(np.array([[text] for text in X_train]),\n",
    "                                              y_train)\n",
    "\n",
    "X_train_over = pd.Series([text[0] for text in X_train_over])"
   ]
  },
  {
   "cell_type": "code",
   "execution_count": 16,
   "id": "fd212a4e-c380-4371-8427-2204a6201a6c",
   "metadata": {},
   "outputs": [
    {
     "data": {
      "text/plain": [
       "0                           common signs of cervical cancer\n",
       "1         cubana chief priest hires 7 rain makers to sen...\n",
       "2         a geomagnetic storm may have effectively destr...\n",
       "3         masten wanjala: mob beats kenyan child serial ...\n",
       "4         astro, a founding member of the reggae group u...\n",
       "                                ...                        \n",
       "126253        nation hears voices encouraging it to buy gun\n",
       "126254     genetic scientists develop sheep with goat brain\n",
       "126255    nation's mothers describe how nice it would be...\n",
       "126256          tips for airing grievances with your family\n",
       "126257    life: the grim reality of income inequality: o...\n",
       "Length: 126258, dtype: object"
      ]
     },
     "execution_count": 16,
     "metadata": {},
     "output_type": "execute_result"
    }
   ],
   "source": [
    "X_train_over"
   ]
  },
  {
   "cell_type": "code",
   "execution_count": 17,
   "id": "6c4f789c-7ac6-4ff1-b7ba-69a193bdcae0",
   "metadata": {},
   "outputs": [],
   "source": [
    "pipe2 = Pipeline([\n",
    "            ('cvec', CountVectorizer()),\n",
    "            ('logreg', LogisticRegression(max_iter=20_000))\n",
    "        ])\n",
    "\n",
    "log2_params = {\n",
    "                'cvec__ngram_range': [(1,2)],\n",
    "                'cvec__max_df': [0.3],\n",
    "                'cvec__stop_words':[None],\n",
    "                'cvec__binary':[True],\n",
    "                'logreg__C': [10]\n",
    "                }"
   ]
  },
  {
   "cell_type": "code",
   "execution_count": 18,
   "id": "d67cec57-6a6d-45ef-9215-28a53aaef0ce",
   "metadata": {},
   "outputs": [],
   "source": [
    "# log2 = GridSearchCV(pipe2, log2_params, cv=5, n_jobs=9)\n",
    "\n",
    "# log2.fit(X_train_over, y_train_over)\n",
    "\n",
    "# joblib.dump(log2, '../models/log2.pkl')\n",
    "\n",
    "log2 = joblib.load('../models/log2.pkl')"
   ]
  },
  {
   "cell_type": "code",
   "execution_count": 19,
   "id": "5019aa30-f025-4d8e-bff7-5c623cb9ff24",
   "metadata": {},
   "outputs": [
    {
     "data": {
      "text/plain": [
       "(0.9998099130352136, 0.9342711315822233)"
      ]
     },
     "execution_count": 19,
     "metadata": {},
     "output_type": "execute_result"
    }
   ],
   "source": [
    "log2.score(X_train_over, y_train_over), log2.score(X_test, y_test)"
   ]
  },
  {
   "cell_type": "code",
   "execution_count": 20,
   "id": "4943330c-b04c-4804-a226-3e4bad3dcdb8",
   "metadata": {},
   "outputs": [
    {
     "name": "stdout",
     "output_type": "stream",
     "text": [
      " \n",
      "Accuracy:  0.9342711315822233\n",
      " \n",
      "Recall:  0.6388616290480864\n",
      " \n",
      "Precision:  0.8027127003699137\n",
      " \n",
      "F1:  0.7114754098360657\n",
      " \n"
     ]
    },
    {
     "data": {
      "image/png": "[encoded data removed]",
      "text/plain": [
       "<Figure size 432x288 with 2 Axes>"
      ]
     },
     "metadata": {
      "needs_background": "light"
     },
     "output_type": "display_data"
    }
   ],
   "source": [
    "verbose_eval(log2, X_test, y_test)"
   ]
  },
  {
   "cell_type": "code",
   "execution_count": 21,
   "id": "bf95e23e-1658-4065-a3fd-8bdc29580301",
   "metadata": {},
   "outputs": [
    {
     "name": "stdout",
     "output_type": "stream",
     "text": [
      " \n",
      "Accuracy:  0.9355159965143782\n",
      " \n",
      "Recall:  0.6094210009813543\n",
      " \n",
      "Precision:  0.8380566801619433\n",
      " \n",
      "F1:  0.7056818181818183\n",
      " \n"
     ]
    },
    {
     "data": {
      "image/png": "[encoded data removed]",
      "text/plain": [
       "<Figure size 432x288 with 2 Axes>"
      ]
     },
     "metadata": {
      "needs_background": "light"
     },
     "output_type": "display_data"
    }
   ],
   "source": [
    "verbose_eval(log2, X_test, y_test, threshold=0.6)"
   ]
  },
  {
   "cell_type": "markdown",
   "id": "89f7742a-e5a4-4b14-a82a-77868334bdd6",
   "metadata": {},
   "source": [
    "---\n",
    "\n",
    "# Logistic Regression: TF-IDF"
   ]
  },
  {
   "cell_type": "code",
   "execution_count": 22,
   "id": "704b407e-7d17-4017-9a2d-d065b833e97e",
   "metadata": {},
   "outputs": [],
   "source": [
    "pipe1 = Pipeline([\n",
    "            ('tf', TfidfVectorizer()),\n",
    "            ('logreg', LogisticRegression(max_iter=20_000))\n",
    "        ])\n",
    "\n",
    "log1_params = {\n",
    "                'tf__ngram_range': [(1,2), (1,3), (1,4)],\n",
    "                'tf__max_df': [0.3],\n",
    "                'tf__stop_words':[None],\n",
    "                'logreg__C': [10]\n",
    "                }"
   ]
  },
  {
   "cell_type": "code",
   "execution_count": 23,
   "id": "21b44250-4ab2-4cd8-b560-0c62f51fc14c",
   "metadata": {},
   "outputs": [],
   "source": [
    "# log3 = GridSearchCV(pipe1, log1_params, cv=5, n_jobs=5)\n",
    "\n",
    "# log3.fit(X_train, y_train)\n",
    "\n",
    "# joblib.dump(log3, '../models/log3.pkl')\n",
    "\n",
    "log3 = joblib.load('../models/log3.pkl')"
   ]
  },
  {
   "cell_type": "code",
   "execution_count": 24,
   "id": "44f4b58f-da47-41ab-8b2d-49408382b747",
   "metadata": {},
   "outputs": [
    {
     "data": {
      "text/plain": [
       "(0.9977730441518203, 0.9337731856093614)"
      ]
     },
     "execution_count": 24,
     "metadata": {},
     "output_type": "execute_result"
    }
   ],
   "source": [
    "log3.score(X_train, y_train), log3.score(X_test, y_test)"
   ]
  },
  {
   "cell_type": "markdown",
   "id": "ec8b6784-5c04-4516-933b-bc26415e43ec",
   "metadata": {},
   "source": [
    "- Logistic Regression with TF-IDF resulted in a 93.4% accuracy. Things are getting better!"
   ]
  },
  {
   "cell_type": "code",
   "execution_count": 38,
   "id": "99b1ea3b-b9f1-48c1-b0ea-2f2d93cdccef",
   "metadata": {},
   "outputs": [
    {
     "name": "stderr",
     "output_type": "stream",
     "text": [
      "C:\\Users\\herma\\anaconda3\\lib\\site-packages\\sklearn\\utils\\deprecation.py:87: FutureWarning: Function plot_roc_curve is deprecated; Function :func:`plot_roc_curve` is deprecated in 1.0 and will be removed in 1.2. Use one of the class methods: :meth:`sklearn.metric.RocCurveDisplay.from_predictions` or :meth:`sklearn.metric.RocCurveDisplay.from_estimator`.\n",
      "  warnings.warn(msg, category=FutureWarning)\n"
     ]
    },
    {
     "data": {
      "image/png": "[encoded data removed]",
      "text/plain": [
       "<Figure size 1008x576 with 1 Axes>"
      ]
     },
     "metadata": {
      "needs_background": "light"
     },
     "output_type": "display_data"
    }
   ],
   "source": [
    "fig, ax = plt.subplots(1, figsize=(14,8));\n",
    "\n",
    "plot_roc_curve(log2, X_test, y_test, ax=ax);\n",
    "plt.plot([0,1],[0,1],linestyle='--', color='red', label='baseline');\n",
    "plt.title('Logistic Regression with TF-IDF', fontsize=30, font='ms gothic')\n",
    "plt.legend(loc='lower right');\n",
    "\n",
    "plt.savefig('../images/log3-roc.png');"
   ]
  },
  {
   "cell_type": "code",
   "execution_count": 26,
   "id": "f82203ee-4c0d-4ff3-91e7-e8a05741c387",
   "metadata": {},
   "outputs": [
    {
     "name": "stdout",
     "output_type": "stream",
     "text": [
      " \n",
      "Accuracy:  0.9337731856093614\n",
      " \n",
      "Recall:  0.577036310107949\n",
      " \n",
      "Precision:  0.8534107402031931\n",
      " \n",
      "F1:  0.6885245901639345\n",
      " \n"
     ]
    },
    {
     "data": {
      "image/png": "[encoded data removed]",
      "text/plain": [
       "<Figure size 432x288 with 2 Axes>"
      ]
     },
     "metadata": {
      "needs_background": "light"
     },
     "output_type": "display_data"
    }
   ],
   "source": [
    "verbose_eval(log3, X_test, y_test)"
   ]
  },
  {
   "cell_type": "code",
   "execution_count": 27,
   "id": "e5e71f7e-85f1-4fdd-b3be-aca72d3adbfe",
   "metadata": {},
   "outputs": [
    {
     "name": "stdout",
     "output_type": "stream",
     "text": [
      " \n",
      "Accuracy:  0.9355159965143782\n",
      " \n",
      "Recall:  0.6310107948969578\n",
      " \n",
      "Precision:  0.8191082802547771\n",
      " \n",
      "F1:  0.7128603104212861\n",
      " \n"
     ]
    },
    {
     "data": {
      "image/png": "[encoded data removed]",
      "text/plain": [
       "<Figure size 432x288 with 2 Axes>"
      ]
     },
     "metadata": {
      "needs_background": "light"
     },
     "output_type": "display_data"
    }
   ],
   "source": [
    "verbose_eval(log3, X_test, y_test, threshold=0.409)"
   ]
  },
  {
   "cell_type": "markdown",
   "id": "e38f76da-d01c-449f-a309-4dda85863e1b",
   "metadata": {},
   "source": [
    "- Overall, the TF-IDF encoding performs about the same as the Count Vectorizer encoding."
   ]
  },
  {
   "cell_type": "markdown",
   "id": "0fed4e87-ed49-45ca-b6b7-8dbea72ffb0c",
   "metadata": {},
   "source": [
    "---\n",
    "\n",
    "# Logistic Regression: Sentiment Analysis"
   ]
  },
  {
   "cell_type": "code",
   "execution_count": 28,
   "id": "f88f90fa-1320-403b-845d-e993b905c050",
   "metadata": {},
   "outputs": [],
   "source": [
    "Xsia_train = thor.vaderize(X_train)\n",
    "Xsia_test = thor.vaderize(X_test)"
   ]
  },
  {
   "cell_type": "code",
   "execution_count": 29,
   "id": "f1bc5ac1-1c60-4358-ba06-18a28eee89b0",
   "metadata": {},
   "outputs": [],
   "source": [
    "train_sia = pd.concat([Xsia_train, y_train.reset_index(drop=True)], axis=1)"
   ]
  },
  {
   "cell_type": "code",
   "execution_count": 30,
   "id": "60a5bece-8a3f-4c83-91ec-3b7054689711",
   "metadata": {},
   "outputs": [
    {
     "data": {
      "text/html": [
       "<div>\n",
       "<style scoped>\n",
       "    .dataframe tbody tr th:only-of-type {\n",
       "        vertical-align: middle;\n",
       "    }\n",
       "\n",
       "    .dataframe tbody tr th {\n",
       "        vertical-align: top;\n",
       "    }\n",
       "\n",
       "    .dataframe thead th {\n",
       "        text-align: right;\n",
       "    }\n",
       "</style>\n",
       "<table border=\"1\" class=\"dataframe\">\n",
       "  <thead>\n",
       "    <tr style=\"text-align: right;\">\n",
       "      <th></th>\n",
       "      <th>neg</th>\n",
       "      <th>neu</th>\n",
       "      <th>pos</th>\n",
       "      <th>compound</th>\n",
       "      <th>text</th>\n",
       "      <th>class</th>\n",
       "    </tr>\n",
       "  </thead>\n",
       "  <tbody>\n",
       "    <tr>\n",
       "      <th>0</th>\n",
       "      <td>0.524</td>\n",
       "      <td>0.476</td>\n",
       "      <td>0.000</td>\n",
       "      <td>-0.6597</td>\n",
       "      <td>common signs of cervical cancer</td>\n",
       "      <td>0</td>\n",
       "    </tr>\n",
       "    <tr>\n",
       "      <th>1</th>\n",
       "      <td>0.000</td>\n",
       "      <td>1.000</td>\n",
       "      <td>0.000</td>\n",
       "      <td>0.0000</td>\n",
       "      <td>cubana chief priest hires 7 rain makers to sen...</td>\n",
       "      <td>0</td>\n",
       "    </tr>\n",
       "    <tr>\n",
       "      <th>2</th>\n",
       "      <td>0.227</td>\n",
       "      <td>0.567</td>\n",
       "      <td>0.206</td>\n",
       "      <td>-0.0772</td>\n",
       "      <td>a geomagnetic storm may have effectively destr...</td>\n",
       "      <td>0</td>\n",
       "    </tr>\n",
       "    <tr>\n",
       "      <th>3</th>\n",
       "      <td>0.477</td>\n",
       "      <td>0.523</td>\n",
       "      <td>0.000</td>\n",
       "      <td>-0.8481</td>\n",
       "      <td>masten wanjala: mob beats kenyan child serial ...</td>\n",
       "      <td>0</td>\n",
       "    </tr>\n",
       "    <tr>\n",
       "      <th>4</th>\n",
       "      <td>0.231</td>\n",
       "      <td>0.769</td>\n",
       "      <td>0.000</td>\n",
       "      <td>-0.5574</td>\n",
       "      <td>astro, a founding member of the reggae group u...</td>\n",
       "      <td>0</td>\n",
       "    </tr>\n",
       "  </tbody>\n",
       "</table>\n",
       "</div>"
      ],
      "text/plain": [
       "     neg    neu    pos  compound  \\\n",
       "0  0.524  0.476  0.000   -0.6597   \n",
       "1  0.000  1.000  0.000    0.0000   \n",
       "2  0.227  0.567  0.206   -0.0772   \n",
       "3  0.477  0.523  0.000   -0.8481   \n",
       "4  0.231  0.769  0.000   -0.5574   \n",
       "\n",
       "                                                text  class  \n",
       "0                    common signs of cervical cancer      0  \n",
       "1  cubana chief priest hires 7 rain makers to sen...      0  \n",
       "2  a geomagnetic storm may have effectively destr...      0  \n",
       "3  masten wanjala: mob beats kenyan child serial ...      0  \n",
       "4  astro, a founding member of the reggae group u...      0  "
      ]
     },
     "execution_count": 30,
     "metadata": {},
     "output_type": "execute_result"
    }
   ],
   "source": [
    "train_sia.head()"
   ]
  },
  {
   "cell_type": "code",
   "execution_count": 31,
   "id": "69bb9730-cf54-44e9-ba71-c0fe9c6e094e",
   "metadata": {},
   "outputs": [
    {
     "data": {
      "image/png": "[encoded data removed]",
      "text/plain": [
       "<Figure size 432x288 with 4 Axes>"
      ]
     },
     "metadata": {
      "needs_background": "light"
     },
     "output_type": "display_data"
    }
   ],
   "source": [
    "# distribtution of polarity scores for class 0 (r/news)\n",
    "train_sia[ train_sia['class']==0 ].hist(column=['neg','pos', 'neu','compound']);"
   ]
  },
  {
   "cell_type": "code",
   "execution_count": 32,
   "id": "d67c67e0-b372-4a9d-ad1a-b3f65be4c8c7",
   "metadata": {},
   "outputs": [
    {
     "data": {
      "image/png": "[encoded data removed]",
      "text/plain": [
       "<Figure size 432x288 with 4 Axes>"
      ]
     },
     "metadata": {
      "needs_background": "light"
     },
     "output_type": "display_data"
    }
   ],
   "source": [
    "# distribution of polarity scores for class 1 (r/theonion)\n",
    "train_sia[ train_sia['class']==1 ].hist(column=['neg','pos', 'neu','compound']);"
   ]
  },
  {
   "cell_type": "markdown",
   "id": "1ac76240-71aa-4cad-8d19-6ef6f77243b8",
   "metadata": {},
   "source": [
    "- The distributions in polarity scores looke almost identical, so we suspect Sentiment Analysis will not yield great results here."
   ]
  },
  {
   "cell_type": "code",
   "execution_count": 33,
   "id": "db4d03bb-3491-4341-940d-3036ba1c7953",
   "metadata": {},
   "outputs": [
    {
     "data": {
      "text/html": [
       "<div>\n",
       "<style scoped>\n",
       "    .dataframe tbody tr th:only-of-type {\n",
       "        vertical-align: middle;\n",
       "    }\n",
       "\n",
       "    .dataframe tbody tr th {\n",
       "        vertical-align: top;\n",
       "    }\n",
       "\n",
       "    .dataframe thead th {\n",
       "        text-align: right;\n",
       "    }\n",
       "</style>\n",
       "<table border=\"1\" class=\"dataframe\">\n",
       "  <thead>\n",
       "    <tr style=\"text-align: right;\">\n",
       "      <th></th>\n",
       "      <th>neg</th>\n",
       "      <th>neu</th>\n",
       "      <th>pos</th>\n",
       "      <th>compound</th>\n",
       "      <th>text</th>\n",
       "      <th>class</th>\n",
       "    </tr>\n",
       "  </thead>\n",
       "  <tbody>\n",
       "    <tr>\n",
       "      <th>12</th>\n",
       "      <td>0.333</td>\n",
       "      <td>0.667</td>\n",
       "      <td>0.000</td>\n",
       "      <td>-0.5423</td>\n",
       "      <td>caitlyn jenner sues bruce jenner over sexual h...</td>\n",
       "      <td>1</td>\n",
       "    </tr>\n",
       "    <tr>\n",
       "      <th>16</th>\n",
       "      <td>0.000</td>\n",
       "      <td>1.000</td>\n",
       "      <td>0.000</td>\n",
       "      <td>0.0000</td>\n",
       "      <td>so-called christian has erection</td>\n",
       "      <td>1</td>\n",
       "    </tr>\n",
       "    <tr>\n",
       "      <th>34</th>\n",
       "      <td>0.000</td>\n",
       "      <td>1.000</td>\n",
       "      <td>0.000</td>\n",
       "      <td>0.0000</td>\n",
       "      <td>they said what?!: find out what emma stone, da...</td>\n",
       "      <td>1</td>\n",
       "    </tr>\n",
       "    <tr>\n",
       "      <th>49</th>\n",
       "      <td>0.000</td>\n",
       "      <td>1.000</td>\n",
       "      <td>0.000</td>\n",
       "      <td>0.0000</td>\n",
       "      <td>the deep themes of our nations mental health i...</td>\n",
       "      <td>1</td>\n",
       "    </tr>\n",
       "    <tr>\n",
       "      <th>53</th>\n",
       "      <td>0.339</td>\n",
       "      <td>0.558</td>\n",
       "      <td>0.104</td>\n",
       "      <td>-0.7096</td>\n",
       "      <td>jim jordan spends hearing demanding michael co...</td>\n",
       "      <td>1</td>\n",
       "    </tr>\n",
       "    <tr>\n",
       "      <th>...</th>\n",
       "      <td>...</td>\n",
       "      <td>...</td>\n",
       "      <td>...</td>\n",
       "      <td>...</td>\n",
       "      <td>...</td>\n",
       "      <td>...</td>\n",
       "    </tr>\n",
       "    <tr>\n",
       "      <th>72266</th>\n",
       "      <td>0.756</td>\n",
       "      <td>0.244</td>\n",
       "      <td>0.000</td>\n",
       "      <td>-0.9081</td>\n",
       "      <td>victim in fatal accident tragically not glenn ...</td>\n",
       "      <td>1</td>\n",
       "    </tr>\n",
       "    <tr>\n",
       "      <th>72277</th>\n",
       "      <td>0.496</td>\n",
       "      <td>0.504</td>\n",
       "      <td>0.000</td>\n",
       "      <td>-0.7096</td>\n",
       "      <td>police repeatedly shoot tim cook after mistaki...</td>\n",
       "      <td>1</td>\n",
       "    </tr>\n",
       "    <tr>\n",
       "      <th>72278</th>\n",
       "      <td>0.048</td>\n",
       "      <td>0.693</td>\n",
       "      <td>0.260</td>\n",
       "      <td>0.7096</td>\n",
       "      <td>trump touts success of singapore summit after ...</td>\n",
       "      <td>1</td>\n",
       "    </tr>\n",
       "    <tr>\n",
       "      <th>72281</th>\n",
       "      <td>0.231</td>\n",
       "      <td>0.769</td>\n",
       "      <td>0.000</td>\n",
       "      <td>-0.5574</td>\n",
       "      <td>show-and-tell marred by every child bringing a...</td>\n",
       "      <td>1</td>\n",
       "    </tr>\n",
       "    <tr>\n",
       "      <th>72293</th>\n",
       "      <td>0.427</td>\n",
       "      <td>0.573</td>\n",
       "      <td>0.000</td>\n",
       "      <td>-0.7717</td>\n",
       "      <td>seal lying in sunbeam could be depressed and y...</td>\n",
       "      <td>1</td>\n",
       "    </tr>\n",
       "  </tbody>\n",
       "</table>\n",
       "<p>9167 rows × 6 columns</p>\n",
       "</div>"
      ],
      "text/plain": [
       "         neg    neu    pos  compound  \\\n",
       "12     0.333  0.667  0.000   -0.5423   \n",
       "16     0.000  1.000  0.000    0.0000   \n",
       "34     0.000  1.000  0.000    0.0000   \n",
       "49     0.000  1.000  0.000    0.0000   \n",
       "53     0.339  0.558  0.104   -0.7096   \n",
       "...      ...    ...    ...       ...   \n",
       "72266  0.756  0.244  0.000   -0.9081   \n",
       "72277  0.496  0.504  0.000   -0.7096   \n",
       "72278  0.048  0.693  0.260    0.7096   \n",
       "72281  0.231  0.769  0.000   -0.5574   \n",
       "72293  0.427  0.573  0.000   -0.7717   \n",
       "\n",
       "                                                    text  class  \n",
       "12     caitlyn jenner sues bruce jenner over sexual h...      1  \n",
       "16                      so-called christian has erection      1  \n",
       "34     they said what?!: find out what emma stone, da...      1  \n",
       "49     the deep themes of our nations mental health i...      1  \n",
       "53     jim jordan spends hearing demanding michael co...      1  \n",
       "...                                                  ...    ...  \n",
       "72266  victim in fatal accident tragically not glenn ...      1  \n",
       "72277  police repeatedly shoot tim cook after mistaki...      1  \n",
       "72278  trump touts success of singapore summit after ...      1  \n",
       "72281  show-and-tell marred by every child bringing a...      1  \n",
       "72293  seal lying in sunbeam could be depressed and y...      1  \n",
       "\n",
       "[9167 rows x 6 columns]"
      ]
     },
     "execution_count": 33,
     "metadata": {},
     "output_type": "execute_result"
    }
   ],
   "source": [
    "train_sia[ train_sia['class']==1 ]"
   ]
  },
  {
   "cell_type": "code",
   "execution_count": 34,
   "id": "10e8b471-f3b0-4003-ace4-e147cdfdd6de",
   "metadata": {},
   "outputs": [
    {
     "data": {
      "text/plain": [
       "LogisticRegression(n_jobs=8)"
      ]
     },
     "execution_count": 34,
     "metadata": {},
     "output_type": "execute_result"
    }
   ],
   "source": [
    "log4 = LogisticRegression(n_jobs=8)\n",
    "\n",
    "log4.fit(Xsia_train.drop(columns=['text','compound']), y_train)"
   ]
  },
  {
   "cell_type": "code",
   "execution_count": 35,
   "id": "e6315394-1e56-4e49-8c46-10761fa61756",
   "metadata": {},
   "outputs": [
    {
     "data": {
      "text/plain": [
       "(0.8732018368927742, 0.8731482634134197)"
      ]
     },
     "execution_count": 35,
     "metadata": {},
     "output_type": "execute_result"
    }
   ],
   "source": [
    "log4.score(Xsia_train.drop(columns=['text','compound']), y_train), log4.score(Xsia_test.drop(columns=['text','compound']), y_test)"
   ]
  },
  {
   "cell_type": "code",
   "execution_count": 36,
   "id": "8a8d0242-6e37-461c-ac9c-8b761b238b0b",
   "metadata": {},
   "outputs": [
    {
     "name": "stdout",
     "output_type": "stream",
     "text": [
      " \n",
      "Accuracy:  0.8732018368927742\n",
      " \n",
      "Recall:  0.0\n",
      " \n",
      "Precision:  0.0\n",
      " \n",
      "F1:  0.0\n",
      " \n"
     ]
    },
    {
     "name": "stderr",
     "output_type": "stream",
     "text": [
      "C:\\Users\\herma\\anaconda3\\lib\\site-packages\\sklearn\\metrics\\_classification.py:1318: UndefinedMetricWarning: Precision is ill-defined and being set to 0.0 due to no predicted samples. Use `zero_division` parameter to control this behavior.\n",
      "  _warn_prf(average, modifier, msg_start, len(result))\n"
     ]
    },
    {
     "data": {
      "image/png": "[encoded data removed]",
      "text/plain": [
       "<Figure size 432x288 with 2 Axes>"
      ]
     },
     "metadata": {
      "needs_background": "light"
     },
     "output_type": "display_data"
    }
   ],
   "source": [
    "verbose_eval(log4, Xsia_train.drop(columns=['text','compound']), y_train)"
   ]
  },
  {
   "cell_type": "code",
   "execution_count": 37,
   "id": "23caa3df-ac8d-47c0-aecd-c6a4e469f47a",
   "metadata": {},
   "outputs": [
    {
     "name": "stderr",
     "output_type": "stream",
     "text": [
      "C:\\Users\\herma\\anaconda3\\lib\\site-packages\\sklearn\\utils\\deprecation.py:87: FutureWarning: Function plot_roc_curve is deprecated; Function :func:`plot_roc_curve` is deprecated in 1.0 and will be removed in 1.2. Use one of the class methods: :meth:`sklearn.metric.RocCurveDisplay.from_predictions` or :meth:`sklearn.metric.RocCurveDisplay.from_estimator`.\n",
      "  warnings.warn(msg, category=FutureWarning)\n"
     ]
    },
    {
     "data": {
      "image/png": "[encoded data removed]",
      "text/plain": [
       "<Figure size 432x288 with 1 Axes>"
      ]
     },
     "metadata": {
      "needs_background": "light"
     },
     "output_type": "display_data"
    }
   ],
   "source": [
    "plot_roc_curve(log4, Xsia_test.drop(columns=['text','compound']), y_test);\n",
    "plt.plot([0,1],[0,1],linestyle='--', color='tab:red');"
   ]
  },
  {
   "cell_type": "markdown",
   "id": "6ca056d8-3a2b-488c-ae4b-a70433568f6b",
   "metadata": {},
   "source": [
    "- Unsurprisingly, Sentiment Analysis did not lead to good results. We suspect that the concept of \"satire\" and \"humor\" and \"parody\" are just not inherently well-handled by Sentiment Analysis. (This deficiency in SIA was also confirmed by Heather Robbins from General Assembly)."
   ]
  },
  {
   "cell_type": "code",
   "execution_count": null,
   "id": "5ebca2d4-fed9-41bf-8a1b-085cf2200851",
   "metadata": {},
   "outputs": [],
   "source": []
  },
  {
   "cell_type": "code",
   "execution_count": null,
   "id": "a5f91aed-c64a-40a4-972a-af4549362439",
   "metadata": {},
   "outputs": [],
   "source": []
  },
  {
   "cell_type": "code",
   "execution_count": null,
   "id": "25eec800-04cb-485d-87de-225154090c08",
   "metadata": {},
   "outputs": [],
   "source": []
  }
 ],
 "metadata": {
  "kernelspec": {
   "display_name": "Python 3 (ipykernel)",
   "language": "python",
   "name": "python3"
  },
  "language_info": {
   "codemirror_mode": {
    "name": "ipython",
    "version": 3
   },
   "file_extension": ".py",
   "mimetype": "text/x-python",
   "name": "python",
   "nbconvert_exporter": "python",
   "pygments_lexer": "ipython3",
   "version": "3.9.7"
  }
 },
 "nbformat": 4,
 "nbformat_minor": 5
}
